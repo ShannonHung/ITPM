{
 "cells": [
  {
   "cell_type": "code",
   "execution_count": 16,
   "metadata": {},
   "outputs": [],
   "source": [
    "from flask import Flask, jsonify, request \n",
    "from flask_restful import Resource, Api \n",
    "from flask_cors import CORS  # 引入 CORS\n",
    "\n",
    "# torch \n",
    "import torch\n",
    "import torch.nn as nn\n",
    "\n",
    "# Data processing\n",
    "import pandas as pd\n",
    "import numpy as np\n",
    "\n",
    "# Tensor conversion\n",
    "from torch.utils.data import Dataset\n",
    "from sklearn.preprocessing import OneHotEncoder, MinMaxScaler\n"
   ]
  },
  {
   "cell_type": "code",
   "execution_count": 17,
   "metadata": {},
   "outputs": [],
   "source": [
    "app = Flask(__name__)\n",
    "CORS(app)  # 啟用 CORS\n",
    "api = Api(app)\n"
   ]
  },
  {
   "cell_type": "code",
   "execution_count": 18,
   "metadata": {},
   "outputs": [],
   "source": [
    "# calculate the percentiles\n",
    "df = pd.read_csv('./data/ds_salaries_cleaned.csv')\n",
    "# calculate the percentiles\n",
    "\n",
    "def loadData():\n",
    "    \n",
    "    percentiles = np.percentile(df['salary_in_usd'], [25, 50, 75])  # 25th, 50th, 75th 分位數\n",
    "    print(percentiles)\n",
    "    # define the labels of saraly levels \n",
    "    labels = ['Level 1', 'Level 2', 'Level 3', 'Level 4']\n",
    "\n",
    "    # print the meaning of label \n",
    "    for i in range(len(labels)):\n",
    "        if i == 0:\n",
    "            print('Level 1: < {:.2f} USD'.format(percentiles[i]))\n",
    "        elif i == len(labels) - 1:\n",
    "            print('Level {}: > {:.2f} USD'.format(i+1, percentiles[i-1]))\n",
    "        else:\n",
    "            print('Level {}: {:.2f} ~ {:.2f} USD'.format(i+1, percentiles[i-1], percentiles[i]))\n",
    "\n",
    "\n",
    "    #  -np.inf, np.inf be the lower and upper bounds of the bins\n",
    "    # *percentiles: base on the percentiles to cut the bins and generate the salary levels for being the labels of training data\n",
    "    df['salary_level'] = pd.cut(df['salary_in_usd'], bins=[-np.inf, *percentiles, np.inf], labels=labels)\n",
    "    data = df.drop(['salary_in_usd'], axis=1) # we cannot put the label into the training data\n",
    "    print(\"\\nThe data of each salary level is balanced.\")\n",
    "    print(data['salary_level'].value_counts())\n",
    "    return data\n",
    "\n"
   ]
  },
  {
   "cell_type": "code",
   "execution_count": 19,
   "metadata": {},
   "outputs": [],
   "source": [
    "@app.route('/')\n",
    "def hello_world():\n",
    "    return 'Hello, World!'"
   ]
  },
  {
   "cell_type": "code",
   "execution_count": 20,
   "metadata": {},
   "outputs": [],
   "source": [
    "class Hello(Resource): \n",
    "  \n",
    "    # corresponds to the GET request. \n",
    "    # this function is called whenever there \n",
    "    # is a GET request for this resource \n",
    "    def get(self): \n",
    "  \n",
    "        return jsonify({'message': 'hello world'}) \n",
    "  \n",
    "    # Corresponds to POST request \n",
    "    def post(self): \n",
    "          \n",
    "        data = request.get_json()     # status code \n",
    "        return jsonify({'data': data}), 201\n",
    "    \n",
    "api.add_resource(Hello, '/') "
   ]
  },
  {
   "cell_type": "code",
   "execution_count": 21,
   "metadata": {},
   "outputs": [],
   "source": [
    "class DatasetConverter(Dataset):\n",
    "\n",
    "    # 初始化函數，用於載入和預處理數據\n",
    "    def __init__(self, data, transform=None):\n",
    "        # 創建 MinMaxScaler 和 OneHotEncoder 來進行數據預處理\n",
    "        minmax_scaler = MinMaxScaler()\n",
    "        onehot_enc = OneHotEncoder()\n",
    "\n",
    "        # 將數據分為類別特徵、數值特徵和標籤\n",
    "        categorical_features = data[data.select_dtypes(include=['object']).columns].drop('salary_level', axis=1)\n",
    "        categorical_columns = data.select_dtypes(include=['object']).columns\n",
    "        print(f'categorical_features=${categorical_columns}')\n",
    "\n",
    "        numerical_features = data[data.select_dtypes(exclude=['object']).columns]\n",
    "        numerical_columns = data.select_dtypes(exclude=['object']).columns\n",
    "        print(f'numerical_features=${numerical_columns}')\n",
    "        \n",
    "        label_features = data[['salary_level']]\n",
    "\n",
    "        # 對數值特徵進行歸一化（MinMax 歸一化）\n",
    "        numerical_features_arr = minmax_scaler.fit_transform(numerical_features)\n",
    "\n",
    "        # 對類別特徵進行獨熱編碼\n",
    "        categorical_features_arr = onehot_enc.fit_transform(categorical_features).toarray()\n",
    "\n",
    "        # 對類別特徵進行one-hot編碼後，獲取編碼後的特徵名稱\n",
    "        label_features = onehot_enc.fit_transform(label_features).toarray()\n",
    "\n",
    "        # 將歸一化的數值特徵和獨熱編碼後的類別特徵合併成一個數據集\n",
    "        combined_features = pd.DataFrame(data=numerical_features_arr, columns=numerical_features.columns)\n",
    "        combined_features = pd.concat([combined_features, pd.DataFrame(data=categorical_features_arr)], axis=1)\n",
    "        combined_features = pd.concat([combined_features, pd.DataFrame(data=label_features)], axis=1).reset_index(drop=True)\n",
    "\n",
    "        self.data = combined_features\n",
    "\n",
    "    # 返回數據集的長度\n",
    "    def __len__(self):\n",
    "        return len(self.data)\n",
    "\n",
    "    # 用於訓練神經網絡的函數，返回特徵和標籤\n",
    "    def __getitem__(self, idx):\n",
    "        # 獲取在 self.data DataFrame 中的第 idx 行的數據\n",
    "        sample = self.data.iloc[idx] \n",
    "        # 將一個數據結構轉換為 PyTorch 張量 並指定這個张量的數據類型為浮點數（float）\n",
    "        features = torch.FloatTensor(sample[:-4])\n",
    "        label = torch.FloatTensor(sample[-4:])\n",
    "        return features, label\n",
    "\n",
    "    # 返回整個數據集的 DataFrame\n",
    "    def getData(self):\n",
    "        return self.data\n"
   ]
  },
  {
   "cell_type": "code",
   "execution_count": 22,
   "metadata": {},
   "outputs": [],
   "source": [
    "# Step 3: Create a neural network model\n",
    "class SalaryPredictorModel(nn.Module):\n",
    "    def __init__(self, input_size):\n",
    "        super(SalaryPredictorModel, self).__init__()\n",
    "        self.layer1 = nn.Linear(input_size, 64)\n",
    "        self.layer2 = nn.Linear(64, 32)\n",
    "        self.output_layer = nn.Linear(32, 4)\n",
    "    \n",
    "    def forward(self, x):\n",
    "        x = torch.relu(self.layer1(x))\n",
    "        x = torch.relu(self.layer2(x))\n",
    "        x = self.output_layer(x)\n",
    "        return x\n"
   ]
  },
  {
   "cell_type": "code",
   "execution_count": 23,
   "metadata": {},
   "outputs": [],
   "source": [
    "def prediction(data):\n",
    "    # load the model from disk\n",
    "    pred_model = SalaryPredictorModel(174)\n",
    "    pred_model.load_state_dict(torch.load('./data/salary_pred.pt'))\n",
    "    print(pred_model)\n",
    "    # predict the salary level of the new data\n",
    "    with torch.no_grad():\n",
    "        # get the last row of the data\n",
    "        tensor_data = DatasetConverter(data).__getitem__(-1)\n",
    "        input = tensor_data[0]\n",
    "        output = pred_model(input)\n",
    "        print(f'output = ${output}')\n",
    "    return torch.argmax(output).item()\n"
   ]
  },
  {
   "cell_type": "code",
   "execution_count": 24,
   "metadata": {},
   "outputs": [],
   "source": [
    "class SalaryPredictor(Resource):\n",
    "    def post(self):\n",
    "        # get request data \n",
    "        json_data = request.get_json(force=True)\n",
    "\n",
    "        # load the data \n",
    "        data = loadData()\n",
    "        data = pd.concat([data, pd.DataFrame([json_data])], ignore_index=True)\n",
    "\n",
    "        # load the model parameters\n",
    "        pred_model = SalaryPredictorModel(174)\n",
    "        pred_model.load_state_dict(torch.load('./data/salary_pred.pt'))\n",
    "\n",
    "        # predict the salary level of the new data\n",
    "        with torch.no_grad():\n",
    "            tensor_data = DatasetConverter(data).__getitem__(-1)\n",
    "            input = tensor_data[0]\n",
    "            output = pred_model(input)\n",
    "            result = torch.argmax(output).item()\n",
    "        \n",
    "        # return the result \n",
    "        return {'level': result}\n",
    "    \n",
    "api.add_resource(SalaryPredictor, '/predict')\n"
   ]
  },
  {
   "cell_type": "code",
   "execution_count": 25,
   "metadata": {},
   "outputs": [
    {
     "name": "stdout",
     "output_type": "stream",
     "text": [
      " * Serving Flask app '__main__'\n",
      " * Debug mode: off\n"
     ]
    },
    {
     "name": "stderr",
     "output_type": "stream",
     "text": [
      "WARNING: This is a development server. Do not use it in a production deployment. Use a production WSGI server instead.\n",
      " * Running on all addresses (0.0.0.0)\n",
      " * Running on http://127.0.0.1:5001\n",
      " * Running on http://192.168.0.5:5001\n",
      "Press CTRL+C to quit\n",
      "127.0.0.1 - - [05/Jan/2024 00:26:41] \"OPTIONS /predict HTTP/1.1\" 200 -\n",
      "127.0.0.1 - - [05/Jan/2024 00:26:41] \"POST /predict HTTP/1.1\" 200 -\n"
     ]
    },
    {
     "name": "stdout",
     "output_type": "stream",
     "text": [
      "[ 95000. 135000. 175000.]\n",
      "Level 1: < 95000.00 USD\n",
      "Level 2: 95000.00 ~ 135000.00 USD\n",
      "Level 3: 135000.00 ~ 175000.00 USD\n",
      "Level 4: > 175000.00 USD\n",
      "\n",
      "The data of each salary level is balanced.\n",
      "salary_level\n",
      "Level 2    967\n",
      "Level 1    956\n",
      "Level 4    932\n",
      "Level 3    900\n",
      "Name: count, dtype: int64\n",
      "categorical_features=$Index(['experience_level', 'employment_type', 'job_title',\n",
      "       'employee_residence', 'company_location', 'company_size',\n",
      "       'salary_level'],\n",
      "      dtype='object')\n",
      "numerical_features=$Index(['work_year', 'remote_ratio'], dtype='object')\n"
     ]
    },
    {
     "name": "stderr",
     "output_type": "stream",
     "text": [
      "127.0.0.1 - - [05/Jan/2024 00:28:15] \"OPTIONS /predict HTTP/1.1\" 200 -\n",
      "127.0.0.1 - - [05/Jan/2024 00:28:15] \"POST /predict HTTP/1.1\" 200 -\n"
     ]
    },
    {
     "name": "stdout",
     "output_type": "stream",
     "text": [
      "[ 95000. 135000. 175000.]\n",
      "Level 1: < 95000.00 USD\n",
      "Level 2: 95000.00 ~ 135000.00 USD\n",
      "Level 3: 135000.00 ~ 175000.00 USD\n",
      "Level 4: > 175000.00 USD\n",
      "\n",
      "The data of each salary level is balanced.\n",
      "salary_level\n",
      "Level 2    967\n",
      "Level 1    956\n",
      "Level 4    932\n",
      "Level 3    900\n",
      "Name: count, dtype: int64\n",
      "categorical_features=$Index(['experience_level', 'employment_type', 'job_title',\n",
      "       'employee_residence', 'company_location', 'company_size',\n",
      "       'salary_level'],\n",
      "      dtype='object')\n",
      "numerical_features=$Index(['work_year', 'remote_ratio'], dtype='object')\n"
     ]
    },
    {
     "name": "stderr",
     "output_type": "stream",
     "text": [
      "127.0.0.1 - - [05/Jan/2024 00:28:41] \"OPTIONS /predict HTTP/1.1\" 200 -\n",
      "127.0.0.1 - - [05/Jan/2024 00:28:41] \"POST /predict HTTP/1.1\" 200 -\n"
     ]
    },
    {
     "name": "stdout",
     "output_type": "stream",
     "text": [
      "[ 95000. 135000. 175000.]\n",
      "Level 1: < 95000.00 USD\n",
      "Level 2: 95000.00 ~ 135000.00 USD\n",
      "Level 3: 135000.00 ~ 175000.00 USD\n",
      "Level 4: > 175000.00 USD\n",
      "\n",
      "The data of each salary level is balanced.\n",
      "salary_level\n",
      "Level 2    967\n",
      "Level 1    956\n",
      "Level 4    932\n",
      "Level 3    900\n",
      "Name: count, dtype: int64\n",
      "categorical_features=$Index(['experience_level', 'employment_type', 'job_title',\n",
      "       'employee_residence', 'company_location', 'company_size',\n",
      "       'salary_level'],\n",
      "      dtype='object')\n",
      "numerical_features=$Index(['work_year', 'remote_ratio'], dtype='object')\n"
     ]
    },
    {
     "name": "stderr",
     "output_type": "stream",
     "text": [
      "127.0.0.1 - - [05/Jan/2024 00:32:04] \"OPTIONS /predict HTTP/1.1\" 200 -\n",
      "127.0.0.1 - - [05/Jan/2024 00:32:04] \"POST /predict HTTP/1.1\" 200 -\n"
     ]
    },
    {
     "name": "stdout",
     "output_type": "stream",
     "text": [
      "[ 95000. 135000. 175000.]\n",
      "Level 1: < 95000.00 USD\n",
      "Level 2: 95000.00 ~ 135000.00 USD\n",
      "Level 3: 135000.00 ~ 175000.00 USD\n",
      "Level 4: > 175000.00 USD\n",
      "\n",
      "The data of each salary level is balanced.\n",
      "salary_level\n",
      "Level 2    967\n",
      "Level 1    956\n",
      "Level 4    932\n",
      "Level 3    900\n",
      "Name: count, dtype: int64\n",
      "categorical_features=$Index(['experience_level', 'employment_type', 'job_title',\n",
      "       'employee_residence', 'company_location', 'company_size',\n",
      "       'salary_level'],\n",
      "      dtype='object')\n",
      "numerical_features=$Index(['work_year', 'remote_ratio'], dtype='object')\n"
     ]
    },
    {
     "name": "stderr",
     "output_type": "stream",
     "text": [
      "127.0.0.1 - - [05/Jan/2024 00:33:15] \"OPTIONS /predict HTTP/1.1\" 200 -\n",
      "127.0.0.1 - - [05/Jan/2024 00:33:15] \"POST /predict HTTP/1.1\" 200 -\n"
     ]
    },
    {
     "name": "stdout",
     "output_type": "stream",
     "text": [
      "[ 95000. 135000. 175000.]\n",
      "Level 1: < 95000.00 USD\n",
      "Level 2: 95000.00 ~ 135000.00 USD\n",
      "Level 3: 135000.00 ~ 175000.00 USD\n",
      "Level 4: > 175000.00 USD\n",
      "\n",
      "The data of each salary level is balanced.\n",
      "salary_level\n",
      "Level 2    967\n",
      "Level 1    956\n",
      "Level 4    932\n",
      "Level 3    900\n",
      "Name: count, dtype: int64\n",
      "categorical_features=$Index(['experience_level', 'employment_type', 'job_title',\n",
      "       'employee_residence', 'company_location', 'company_size',\n",
      "       'salary_level'],\n",
      "      dtype='object')\n",
      "numerical_features=$Index(['work_year', 'remote_ratio'], dtype='object')\n"
     ]
    },
    {
     "name": "stderr",
     "output_type": "stream",
     "text": [
      "127.0.0.1 - - [05/Jan/2024 00:35:32] \"OPTIONS /predict HTTP/1.1\" 200 -\n",
      "127.0.0.1 - - [05/Jan/2024 00:35:32] \"POST /predict HTTP/1.1\" 200 -\n"
     ]
    },
    {
     "name": "stdout",
     "output_type": "stream",
     "text": [
      "[ 95000. 135000. 175000.]\n",
      "Level 1: < 95000.00 USD\n",
      "Level 2: 95000.00 ~ 135000.00 USD\n",
      "Level 3: 135000.00 ~ 175000.00 USD\n",
      "Level 4: > 175000.00 USD\n",
      "\n",
      "The data of each salary level is balanced.\n",
      "salary_level\n",
      "Level 2    967\n",
      "Level 1    956\n",
      "Level 4    932\n",
      "Level 3    900\n",
      "Name: count, dtype: int64\n",
      "categorical_features=$Index(['experience_level', 'employment_type', 'job_title',\n",
      "       'employee_residence', 'company_location', 'company_size',\n",
      "       'salary_level'],\n",
      "      dtype='object')\n",
      "numerical_features=$Index(['work_year', 'remote_ratio'], dtype='object')\n"
     ]
    },
    {
     "name": "stderr",
     "output_type": "stream",
     "text": [
      "127.0.0.1 - - [05/Jan/2024 00:36:01] \"OPTIONS /predict HTTP/1.1\" 200 -\n",
      "127.0.0.1 - - [05/Jan/2024 00:36:01] \"POST /predict HTTP/1.1\" 200 -\n"
     ]
    },
    {
     "name": "stdout",
     "output_type": "stream",
     "text": [
      "[ 95000. 135000. 175000.]\n",
      "Level 1: < 95000.00 USD\n",
      "Level 2: 95000.00 ~ 135000.00 USD\n",
      "Level 3: 135000.00 ~ 175000.00 USD\n",
      "Level 4: > 175000.00 USD\n",
      "\n",
      "The data of each salary level is balanced.\n",
      "salary_level\n",
      "Level 2    967\n",
      "Level 1    956\n",
      "Level 4    932\n",
      "Level 3    900\n",
      "Name: count, dtype: int64\n",
      "categorical_features=$Index(['experience_level', 'employment_type', 'job_title',\n",
      "       'employee_residence', 'company_location', 'company_size',\n",
      "       'salary_level'],\n",
      "      dtype='object')\n",
      "numerical_features=$Index(['work_year', 'remote_ratio'], dtype='object')\n"
     ]
    },
    {
     "name": "stderr",
     "output_type": "stream",
     "text": [
      "127.0.0.1 - - [05/Jan/2024 00:39:23] \"OPTIONS /predict HTTP/1.1\" 200 -\n",
      "127.0.0.1 - - [05/Jan/2024 00:39:23] \"POST /predict HTTP/1.1\" 200 -\n"
     ]
    },
    {
     "name": "stdout",
     "output_type": "stream",
     "text": [
      "[ 95000. 135000. 175000.]\n",
      "Level 1: < 95000.00 USD\n",
      "Level 2: 95000.00 ~ 135000.00 USD\n",
      "Level 3: 135000.00 ~ 175000.00 USD\n",
      "Level 4: > 175000.00 USD\n",
      "\n",
      "The data of each salary level is balanced.\n",
      "salary_level\n",
      "Level 2    967\n",
      "Level 1    956\n",
      "Level 4    932\n",
      "Level 3    900\n",
      "Name: count, dtype: int64\n",
      "categorical_features=$Index(['experience_level', 'employment_type', 'job_title',\n",
      "       'employee_residence', 'company_location', 'company_size',\n",
      "       'salary_level'],\n",
      "      dtype='object')\n",
      "numerical_features=$Index(['work_year', 'remote_ratio'], dtype='object')\n"
     ]
    },
    {
     "name": "stderr",
     "output_type": "stream",
     "text": [
      "127.0.0.1 - - [05/Jan/2024 00:39:35] \"OPTIONS /predict HTTP/1.1\" 200 -\n",
      "127.0.0.1 - - [05/Jan/2024 00:39:35] \"POST /predict HTTP/1.1\" 200 -\n"
     ]
    },
    {
     "name": "stdout",
     "output_type": "stream",
     "text": [
      "[ 95000. 135000. 175000.]\n",
      "Level 1: < 95000.00 USD\n",
      "Level 2: 95000.00 ~ 135000.00 USD\n",
      "Level 3: 135000.00 ~ 175000.00 USD\n",
      "Level 4: > 175000.00 USD\n",
      "\n",
      "The data of each salary level is balanced.\n",
      "salary_level\n",
      "Level 2    967\n",
      "Level 1    956\n",
      "Level 4    932\n",
      "Level 3    900\n",
      "Name: count, dtype: int64\n",
      "categorical_features=$Index(['experience_level', 'employment_type', 'job_title',\n",
      "       'employee_residence', 'company_location', 'company_size',\n",
      "       'salary_level'],\n",
      "      dtype='object')\n",
      "numerical_features=$Index(['work_year', 'remote_ratio'], dtype='object')\n"
     ]
    },
    {
     "name": "stderr",
     "output_type": "stream",
     "text": [
      "127.0.0.1 - - [05/Jan/2024 00:39:44] \"OPTIONS /predict HTTP/1.1\" 200 -\n",
      "127.0.0.1 - - [05/Jan/2024 00:39:44] \"POST /predict HTTP/1.1\" 200 -\n"
     ]
    },
    {
     "name": "stdout",
     "output_type": "stream",
     "text": [
      "[ 95000. 135000. 175000.]\n",
      "Level 1: < 95000.00 USD\n",
      "Level 2: 95000.00 ~ 135000.00 USD\n",
      "Level 3: 135000.00 ~ 175000.00 USD\n",
      "Level 4: > 175000.00 USD\n",
      "\n",
      "The data of each salary level is balanced.\n",
      "salary_level\n",
      "Level 2    967\n",
      "Level 1    956\n",
      "Level 4    932\n",
      "Level 3    900\n",
      "Name: count, dtype: int64\n",
      "categorical_features=$Index(['experience_level', 'employment_type', 'job_title',\n",
      "       'employee_residence', 'company_location', 'company_size',\n",
      "       'salary_level'],\n",
      "      dtype='object')\n",
      "numerical_features=$Index(['work_year', 'remote_ratio'], dtype='object')\n"
     ]
    },
    {
     "name": "stderr",
     "output_type": "stream",
     "text": [
      "127.0.0.1 - - [05/Jan/2024 00:39:49] \"POST /predict HTTP/1.1\" 200 -\n"
     ]
    },
    {
     "name": "stdout",
     "output_type": "stream",
     "text": [
      "[ 95000. 135000. 175000.]\n",
      "Level 1: < 95000.00 USD\n",
      "Level 2: 95000.00 ~ 135000.00 USD\n",
      "Level 3: 135000.00 ~ 175000.00 USD\n",
      "Level 4: > 175000.00 USD\n",
      "\n",
      "The data of each salary level is balanced.\n",
      "salary_level\n",
      "Level 2    967\n",
      "Level 1    956\n",
      "Level 4    932\n",
      "Level 3    900\n",
      "Name: count, dtype: int64\n",
      "categorical_features=$Index(['experience_level', 'employment_type', 'job_title',\n",
      "       'employee_residence', 'company_location', 'company_size',\n",
      "       'salary_level'],\n",
      "      dtype='object')\n",
      "numerical_features=$Index(['work_year', 'remote_ratio'], dtype='object')\n"
     ]
    },
    {
     "name": "stderr",
     "output_type": "stream",
     "text": [
      "127.0.0.1 - - [05/Jan/2024 00:40:13] \"OPTIONS /predict HTTP/1.1\" 200 -\n",
      "127.0.0.1 - - [05/Jan/2024 00:40:13] \"POST /predict HTTP/1.1\" 200 -\n"
     ]
    },
    {
     "name": "stdout",
     "output_type": "stream",
     "text": [
      "[ 95000. 135000. 175000.]\n",
      "Level 1: < 95000.00 USD\n",
      "Level 2: 95000.00 ~ 135000.00 USD\n",
      "Level 3: 135000.00 ~ 175000.00 USD\n",
      "Level 4: > 175000.00 USD\n",
      "\n",
      "The data of each salary level is balanced.\n",
      "salary_level\n",
      "Level 2    967\n",
      "Level 1    956\n",
      "Level 4    932\n",
      "Level 3    900\n",
      "Name: count, dtype: int64\n",
      "categorical_features=$Index(['experience_level', 'employment_type', 'job_title',\n",
      "       'employee_residence', 'company_location', 'company_size',\n",
      "       'salary_level'],\n",
      "      dtype='object')\n",
      "numerical_features=$Index(['work_year', 'remote_ratio'], dtype='object')\n"
     ]
    },
    {
     "name": "stderr",
     "output_type": "stream",
     "text": [
      "127.0.0.1 - - [05/Jan/2024 00:40:21] \"OPTIONS /predict HTTP/1.1\" 200 -\n",
      "127.0.0.1 - - [05/Jan/2024 00:40:21] \"POST /predict HTTP/1.1\" 200 -\n"
     ]
    },
    {
     "name": "stdout",
     "output_type": "stream",
     "text": [
      "[ 95000. 135000. 175000.]\n",
      "Level 1: < 95000.00 USD\n",
      "Level 2: 95000.00 ~ 135000.00 USD\n",
      "Level 3: 135000.00 ~ 175000.00 USD\n",
      "Level 4: > 175000.00 USD\n",
      "\n",
      "The data of each salary level is balanced.\n",
      "salary_level\n",
      "Level 2    967\n",
      "Level 1    956\n",
      "Level 4    932\n",
      "Level 3    900\n",
      "Name: count, dtype: int64\n",
      "categorical_features=$Index(['experience_level', 'employment_type', 'job_title',\n",
      "       'employee_residence', 'company_location', 'company_size',\n",
      "       'salary_level'],\n",
      "      dtype='object')\n",
      "numerical_features=$Index(['work_year', 'remote_ratio'], dtype='object')\n"
     ]
    },
    {
     "name": "stderr",
     "output_type": "stream",
     "text": [
      "127.0.0.1 - - [05/Jan/2024 00:40:37] \"POST /predict HTTP/1.1\" 200 -\n"
     ]
    },
    {
     "name": "stdout",
     "output_type": "stream",
     "text": [
      "[ 95000. 135000. 175000.]\n",
      "Level 1: < 95000.00 USD\n",
      "Level 2: 95000.00 ~ 135000.00 USD\n",
      "Level 3: 135000.00 ~ 175000.00 USD\n",
      "Level 4: > 175000.00 USD\n",
      "\n",
      "The data of each salary level is balanced.\n",
      "salary_level\n",
      "Level 2    967\n",
      "Level 1    956\n",
      "Level 4    932\n",
      "Level 3    900\n",
      "Name: count, dtype: int64\n",
      "categorical_features=$Index(['experience_level', 'employment_type', 'job_title',\n",
      "       'employee_residence', 'company_location', 'company_size',\n",
      "       'salary_level'],\n",
      "      dtype='object')\n",
      "numerical_features=$Index(['work_year', 'remote_ratio'], dtype='object')\n"
     ]
    },
    {
     "name": "stderr",
     "output_type": "stream",
     "text": [
      "127.0.0.1 - - [05/Jan/2024 00:41:15] \"OPTIONS /predict HTTP/1.1\" 200 -\n",
      "127.0.0.1 - - [05/Jan/2024 00:41:15] \"POST /predict HTTP/1.1\" 200 -\n"
     ]
    },
    {
     "name": "stdout",
     "output_type": "stream",
     "text": [
      "[ 95000. 135000. 175000.]\n",
      "Level 1: < 95000.00 USD\n",
      "Level 2: 95000.00 ~ 135000.00 USD\n",
      "Level 3: 135000.00 ~ 175000.00 USD\n",
      "Level 4: > 175000.00 USD\n",
      "\n",
      "The data of each salary level is balanced.\n",
      "salary_level\n",
      "Level 2    967\n",
      "Level 1    956\n",
      "Level 4    932\n",
      "Level 3    900\n",
      "Name: count, dtype: int64\n",
      "categorical_features=$Index(['experience_level', 'employment_type', 'job_title',\n",
      "       'employee_residence', 'company_location', 'company_size',\n",
      "       'salary_level'],\n",
      "      dtype='object')\n",
      "numerical_features=$Index(['work_year', 'remote_ratio'], dtype='object')\n"
     ]
    },
    {
     "name": "stderr",
     "output_type": "stream",
     "text": [
      "127.0.0.1 - - [05/Jan/2024 00:41:45] \"POST /predict HTTP/1.1\" 200 -\n"
     ]
    },
    {
     "name": "stdout",
     "output_type": "stream",
     "text": [
      "[ 95000. 135000. 175000.]\n",
      "Level 1: < 95000.00 USD\n",
      "Level 2: 95000.00 ~ 135000.00 USD\n",
      "Level 3: 135000.00 ~ 175000.00 USD\n",
      "Level 4: > 175000.00 USD\n",
      "\n",
      "The data of each salary level is balanced.\n",
      "salary_level\n",
      "Level 2    967\n",
      "Level 1    956\n",
      "Level 4    932\n",
      "Level 3    900\n",
      "Name: count, dtype: int64\n",
      "categorical_features=$Index(['experience_level', 'employment_type', 'job_title',\n",
      "       'employee_residence', 'company_location', 'company_size',\n",
      "       'salary_level'],\n",
      "      dtype='object')\n",
      "numerical_features=$Index(['work_year', 'remote_ratio'], dtype='object')\n"
     ]
    },
    {
     "name": "stderr",
     "output_type": "stream",
     "text": [
      "127.0.0.1 - - [05/Jan/2024 00:42:03] \"OPTIONS /predict HTTP/1.1\" 200 -\n",
      "127.0.0.1 - - [05/Jan/2024 00:42:03] \"POST /predict HTTP/1.1\" 200 -\n"
     ]
    },
    {
     "name": "stdout",
     "output_type": "stream",
     "text": [
      "[ 95000. 135000. 175000.]\n",
      "Level 1: < 95000.00 USD\n",
      "Level 2: 95000.00 ~ 135000.00 USD\n",
      "Level 3: 135000.00 ~ 175000.00 USD\n",
      "Level 4: > 175000.00 USD\n",
      "\n",
      "The data of each salary level is balanced.\n",
      "salary_level\n",
      "Level 2    967\n",
      "Level 1    956\n",
      "Level 4    932\n",
      "Level 3    900\n",
      "Name: count, dtype: int64\n",
      "categorical_features=$Index(['experience_level', 'employment_type', 'job_title',\n",
      "       'employee_residence', 'company_location', 'company_size',\n",
      "       'salary_level'],\n",
      "      dtype='object')\n",
      "numerical_features=$Index(['work_year', 'remote_ratio'], dtype='object')\n"
     ]
    },
    {
     "name": "stderr",
     "output_type": "stream",
     "text": [
      "127.0.0.1 - - [05/Jan/2024 00:42:09] \"OPTIONS /predict HTTP/1.1\" 200 -\n",
      "127.0.0.1 - - [05/Jan/2024 00:42:09] \"POST /predict HTTP/1.1\" 200 -\n"
     ]
    },
    {
     "name": "stdout",
     "output_type": "stream",
     "text": [
      "[ 95000. 135000. 175000.]\n",
      "Level 1: < 95000.00 USD\n",
      "Level 2: 95000.00 ~ 135000.00 USD\n",
      "Level 3: 135000.00 ~ 175000.00 USD\n",
      "Level 4: > 175000.00 USD\n",
      "\n",
      "The data of each salary level is balanced.\n",
      "salary_level\n",
      "Level 2    967\n",
      "Level 1    956\n",
      "Level 4    932\n",
      "Level 3    900\n",
      "Name: count, dtype: int64\n",
      "categorical_features=$Index(['experience_level', 'employment_type', 'job_title',\n",
      "       'employee_residence', 'company_location', 'company_size',\n",
      "       'salary_level'],\n",
      "      dtype='object')\n",
      "numerical_features=$Index(['work_year', 'remote_ratio'], dtype='object')\n"
     ]
    },
    {
     "name": "stderr",
     "output_type": "stream",
     "text": [
      "127.0.0.1 - - [05/Jan/2024 00:42:11] \"OPTIONS /predict HTTP/1.1\" 200 -\n",
      "127.0.0.1 - - [05/Jan/2024 00:42:11] \"POST /predict HTTP/1.1\" 200 -\n"
     ]
    },
    {
     "name": "stdout",
     "output_type": "stream",
     "text": [
      "[ 95000. 135000. 175000.]\n",
      "Level 1: < 95000.00 USD\n",
      "Level 2: 95000.00 ~ 135000.00 USD\n",
      "Level 3: 135000.00 ~ 175000.00 USD\n",
      "Level 4: > 175000.00 USD\n",
      "\n",
      "The data of each salary level is balanced.\n",
      "salary_level\n",
      "Level 2    967\n",
      "Level 1    956\n",
      "Level 4    932\n",
      "Level 3    900\n",
      "Name: count, dtype: int64\n",
      "categorical_features=$Index(['experience_level', 'employment_type', 'job_title',\n",
      "       'employee_residence', 'company_location', 'company_size',\n",
      "       'salary_level'],\n",
      "      dtype='object')\n",
      "numerical_features=$Index(['work_year', 'remote_ratio'], dtype='object')\n"
     ]
    },
    {
     "name": "stderr",
     "output_type": "stream",
     "text": [
      "127.0.0.1 - - [05/Jan/2024 00:42:41] \"OPTIONS /predict HTTP/1.1\" 200 -\n",
      "127.0.0.1 - - [05/Jan/2024 00:42:41] \"POST /predict HTTP/1.1\" 200 -\n"
     ]
    },
    {
     "name": "stdout",
     "output_type": "stream",
     "text": [
      "[ 95000. 135000. 175000.]\n",
      "Level 1: < 95000.00 USD\n",
      "Level 2: 95000.00 ~ 135000.00 USD\n",
      "Level 3: 135000.00 ~ 175000.00 USD\n",
      "Level 4: > 175000.00 USD\n",
      "\n",
      "The data of each salary level is balanced.\n",
      "salary_level\n",
      "Level 2    967\n",
      "Level 1    956\n",
      "Level 4    932\n",
      "Level 3    900\n",
      "Name: count, dtype: int64\n",
      "categorical_features=$Index(['experience_level', 'employment_type', 'job_title',\n",
      "       'employee_residence', 'company_location', 'company_size',\n",
      "       'salary_level'],\n",
      "      dtype='object')\n",
      "numerical_features=$Index(['work_year', 'remote_ratio'], dtype='object')\n"
     ]
    },
    {
     "name": "stderr",
     "output_type": "stream",
     "text": [
      "127.0.0.1 - - [05/Jan/2024 00:42:43] \"OPTIONS /predict HTTP/1.1\" 200 -\n",
      "127.0.0.1 - - [05/Jan/2024 00:42:43] \"POST /predict HTTP/1.1\" 200 -\n"
     ]
    },
    {
     "name": "stdout",
     "output_type": "stream",
     "text": [
      "[ 95000. 135000. 175000.]\n",
      "Level 1: < 95000.00 USD\n",
      "Level 2: 95000.00 ~ 135000.00 USD\n",
      "Level 3: 135000.00 ~ 175000.00 USD\n",
      "Level 4: > 175000.00 USD\n",
      "\n",
      "The data of each salary level is balanced.\n",
      "salary_level\n",
      "Level 2    967\n",
      "Level 1    956\n",
      "Level 4    932\n",
      "Level 3    900\n",
      "Name: count, dtype: int64\n",
      "categorical_features=$Index(['experience_level', 'employment_type', 'job_title',\n",
      "       'employee_residence', 'company_location', 'company_size',\n",
      "       'salary_level'],\n",
      "      dtype='object')\n",
      "numerical_features=$Index(['work_year', 'remote_ratio'], dtype='object')\n"
     ]
    },
    {
     "name": "stderr",
     "output_type": "stream",
     "text": [
      "127.0.0.1 - - [05/Jan/2024 00:44:35] \"OPTIONS /predict HTTP/1.1\" 200 -\n",
      "127.0.0.1 - - [05/Jan/2024 00:44:35] \"POST /predict HTTP/1.1\" 200 -\n"
     ]
    },
    {
     "name": "stdout",
     "output_type": "stream",
     "text": [
      "[ 95000. 135000. 175000.]\n",
      "Level 1: < 95000.00 USD\n",
      "Level 2: 95000.00 ~ 135000.00 USD\n",
      "Level 3: 135000.00 ~ 175000.00 USD\n",
      "Level 4: > 175000.00 USD\n",
      "\n",
      "The data of each salary level is balanced.\n",
      "salary_level\n",
      "Level 2    967\n",
      "Level 1    956\n",
      "Level 4    932\n",
      "Level 3    900\n",
      "Name: count, dtype: int64\n",
      "categorical_features=$Index(['experience_level', 'employment_type', 'job_title',\n",
      "       'employee_residence', 'company_location', 'company_size',\n",
      "       'salary_level'],\n",
      "      dtype='object')\n",
      "numerical_features=$Index(['work_year', 'remote_ratio'], dtype='object')\n"
     ]
    },
    {
     "name": "stderr",
     "output_type": "stream",
     "text": [
      "127.0.0.1 - - [05/Jan/2024 00:44:40] \"OPTIONS /predict HTTP/1.1\" 200 -\n",
      "127.0.0.1 - - [05/Jan/2024 00:44:40] \"POST /predict HTTP/1.1\" 200 -\n"
     ]
    },
    {
     "name": "stdout",
     "output_type": "stream",
     "text": [
      "[ 95000. 135000. 175000.]\n",
      "Level 1: < 95000.00 USD\n",
      "Level 2: 95000.00 ~ 135000.00 USD\n",
      "Level 3: 135000.00 ~ 175000.00 USD\n",
      "Level 4: > 175000.00 USD\n",
      "\n",
      "The data of each salary level is balanced.\n",
      "salary_level\n",
      "Level 2    967\n",
      "Level 1    956\n",
      "Level 4    932\n",
      "Level 3    900\n",
      "Name: count, dtype: int64\n",
      "categorical_features=$Index(['experience_level', 'employment_type', 'job_title',\n",
      "       'employee_residence', 'company_location', 'company_size',\n",
      "       'salary_level'],\n",
      "      dtype='object')\n",
      "numerical_features=$Index(['work_year', 'remote_ratio'], dtype='object')\n"
     ]
    },
    {
     "name": "stderr",
     "output_type": "stream",
     "text": [
      "127.0.0.1 - - [05/Jan/2024 00:44:47] \"OPTIONS /predict HTTP/1.1\" 200 -\n",
      "127.0.0.1 - - [05/Jan/2024 00:44:47] \"POST /predict HTTP/1.1\" 200 -\n"
     ]
    },
    {
     "name": "stdout",
     "output_type": "stream",
     "text": [
      "[ 95000. 135000. 175000.]\n",
      "Level 1: < 95000.00 USD\n",
      "Level 2: 95000.00 ~ 135000.00 USD\n",
      "Level 3: 135000.00 ~ 175000.00 USD\n",
      "Level 4: > 175000.00 USD\n",
      "\n",
      "The data of each salary level is balanced.\n",
      "salary_level\n",
      "Level 2    967\n",
      "Level 1    956\n",
      "Level 4    932\n",
      "Level 3    900\n",
      "Name: count, dtype: int64\n",
      "categorical_features=$Index(['experience_level', 'employment_type', 'job_title',\n",
      "       'employee_residence', 'company_location', 'company_size',\n",
      "       'salary_level'],\n",
      "      dtype='object')\n",
      "numerical_features=$Index(['work_year', 'remote_ratio'], dtype='object')\n"
     ]
    },
    {
     "name": "stderr",
     "output_type": "stream",
     "text": [
      "127.0.0.1 - - [05/Jan/2024 00:45:01] \"OPTIONS /predict HTTP/1.1\" 200 -\n",
      "127.0.0.1 - - [05/Jan/2024 00:45:01] \"POST /predict HTTP/1.1\" 200 -\n"
     ]
    },
    {
     "name": "stdout",
     "output_type": "stream",
     "text": [
      "[ 95000. 135000. 175000.]\n",
      "Level 1: < 95000.00 USD\n",
      "Level 2: 95000.00 ~ 135000.00 USD\n",
      "Level 3: 135000.00 ~ 175000.00 USD\n",
      "Level 4: > 175000.00 USD\n",
      "\n",
      "The data of each salary level is balanced.\n",
      "salary_level\n",
      "Level 2    967\n",
      "Level 1    956\n",
      "Level 4    932\n",
      "Level 3    900\n",
      "Name: count, dtype: int64\n",
      "categorical_features=$Index(['experience_level', 'employment_type', 'job_title',\n",
      "       'employee_residence', 'company_location', 'company_size',\n",
      "       'salary_level'],\n",
      "      dtype='object')\n",
      "numerical_features=$Index(['work_year', 'remote_ratio'], dtype='object')\n"
     ]
    },
    {
     "name": "stderr",
     "output_type": "stream",
     "text": [
      "127.0.0.1 - - [05/Jan/2024 00:45:06] \"OPTIONS /predict HTTP/1.1\" 200 -\n",
      "127.0.0.1 - - [05/Jan/2024 00:45:06] \"POST /predict HTTP/1.1\" 200 -\n"
     ]
    },
    {
     "name": "stdout",
     "output_type": "stream",
     "text": [
      "[ 95000. 135000. 175000.]\n",
      "Level 1: < 95000.00 USD\n",
      "Level 2: 95000.00 ~ 135000.00 USD\n",
      "Level 3: 135000.00 ~ 175000.00 USD\n",
      "Level 4: > 175000.00 USD\n",
      "\n",
      "The data of each salary level is balanced.\n",
      "salary_level\n",
      "Level 2    967\n",
      "Level 1    956\n",
      "Level 4    932\n",
      "Level 3    900\n",
      "Name: count, dtype: int64\n",
      "categorical_features=$Index(['experience_level', 'employment_type', 'job_title',\n",
      "       'employee_residence', 'company_location', 'company_size',\n",
      "       'salary_level'],\n",
      "      dtype='object')\n",
      "numerical_features=$Index(['work_year', 'remote_ratio'], dtype='object')\n"
     ]
    },
    {
     "name": "stderr",
     "output_type": "stream",
     "text": [
      "127.0.0.1 - - [05/Jan/2024 00:45:12] \"OPTIONS /predict HTTP/1.1\" 200 -\n",
      "127.0.0.1 - - [05/Jan/2024 00:45:13] \"POST /predict HTTP/1.1\" 200 -\n"
     ]
    },
    {
     "name": "stdout",
     "output_type": "stream",
     "text": [
      "[ 95000. 135000. 175000.]\n",
      "Level 1: < 95000.00 USD\n",
      "Level 2: 95000.00 ~ 135000.00 USD\n",
      "Level 3: 135000.00 ~ 175000.00 USD\n",
      "Level 4: > 175000.00 USD\n",
      "\n",
      "The data of each salary level is balanced.\n",
      "salary_level\n",
      "Level 2    967\n",
      "Level 1    956\n",
      "Level 4    932\n",
      "Level 3    900\n",
      "Name: count, dtype: int64\n",
      "categorical_features=$Index(['experience_level', 'employment_type', 'job_title',\n",
      "       'employee_residence', 'company_location', 'company_size',\n",
      "       'salary_level'],\n",
      "      dtype='object')\n",
      "numerical_features=$Index(['work_year', 'remote_ratio'], dtype='object')\n"
     ]
    },
    {
     "name": "stderr",
     "output_type": "stream",
     "text": [
      "127.0.0.1 - - [05/Jan/2024 00:45:17] \"OPTIONS /predict HTTP/1.1\" 200 -\n",
      "127.0.0.1 - - [05/Jan/2024 00:45:17] \"POST /predict HTTP/1.1\" 200 -\n"
     ]
    },
    {
     "name": "stdout",
     "output_type": "stream",
     "text": [
      "[ 95000. 135000. 175000.]\n",
      "Level 1: < 95000.00 USD\n",
      "Level 2: 95000.00 ~ 135000.00 USD\n",
      "Level 3: 135000.00 ~ 175000.00 USD\n",
      "Level 4: > 175000.00 USD\n",
      "\n",
      "The data of each salary level is balanced.\n",
      "salary_level\n",
      "Level 2    967\n",
      "Level 1    956\n",
      "Level 4    932\n",
      "Level 3    900\n",
      "Name: count, dtype: int64\n",
      "categorical_features=$Index(['experience_level', 'employment_type', 'job_title',\n",
      "       'employee_residence', 'company_location', 'company_size',\n",
      "       'salary_level'],\n",
      "      dtype='object')\n",
      "numerical_features=$Index(['work_year', 'remote_ratio'], dtype='object')\n"
     ]
    },
    {
     "name": "stderr",
     "output_type": "stream",
     "text": [
      "127.0.0.1 - - [05/Jan/2024 00:45:22] \"OPTIONS /predict HTTP/1.1\" 200 -\n",
      "127.0.0.1 - - [05/Jan/2024 00:45:22] \"POST /predict HTTP/1.1\" 200 -\n"
     ]
    },
    {
     "name": "stdout",
     "output_type": "stream",
     "text": [
      "[ 95000. 135000. 175000.]\n",
      "Level 1: < 95000.00 USD\n",
      "Level 2: 95000.00 ~ 135000.00 USD\n",
      "Level 3: 135000.00 ~ 175000.00 USD\n",
      "Level 4: > 175000.00 USD\n",
      "\n",
      "The data of each salary level is balanced.\n",
      "salary_level\n",
      "Level 2    967\n",
      "Level 1    956\n",
      "Level 4    932\n",
      "Level 3    900\n",
      "Name: count, dtype: int64\n",
      "categorical_features=$Index(['experience_level', 'employment_type', 'job_title',\n",
      "       'employee_residence', 'company_location', 'company_size',\n",
      "       'salary_level'],\n",
      "      dtype='object')\n",
      "numerical_features=$Index(['work_year', 'remote_ratio'], dtype='object')\n"
     ]
    },
    {
     "name": "stderr",
     "output_type": "stream",
     "text": [
      "127.0.0.1 - - [05/Jan/2024 00:45:25] \"OPTIONS /predict HTTP/1.1\" 200 -\n",
      "127.0.0.1 - - [05/Jan/2024 00:45:25] \"POST /predict HTTP/1.1\" 200 -\n"
     ]
    },
    {
     "name": "stdout",
     "output_type": "stream",
     "text": [
      "[ 95000. 135000. 175000.]\n",
      "Level 1: < 95000.00 USD\n",
      "Level 2: 95000.00 ~ 135000.00 USD\n",
      "Level 3: 135000.00 ~ 175000.00 USD\n",
      "Level 4: > 175000.00 USD\n",
      "\n",
      "The data of each salary level is balanced.\n",
      "salary_level\n",
      "Level 2    967\n",
      "Level 1    956\n",
      "Level 4    932\n",
      "Level 3    900\n",
      "Name: count, dtype: int64\n",
      "categorical_features=$Index(['experience_level', 'employment_type', 'job_title',\n",
      "       'employee_residence', 'company_location', 'company_size',\n",
      "       'salary_level'],\n",
      "      dtype='object')\n",
      "numerical_features=$Index(['work_year', 'remote_ratio'], dtype='object')\n"
     ]
    },
    {
     "name": "stderr",
     "output_type": "stream",
     "text": [
      "127.0.0.1 - - [05/Jan/2024 00:45:27] \"OPTIONS /predict HTTP/1.1\" 200 -\n",
      "127.0.0.1 - - [05/Jan/2024 00:45:27] \"POST /predict HTTP/1.1\" 200 -\n"
     ]
    },
    {
     "name": "stdout",
     "output_type": "stream",
     "text": [
      "[ 95000. 135000. 175000.]\n",
      "Level 1: < 95000.00 USD\n",
      "Level 2: 95000.00 ~ 135000.00 USD\n",
      "Level 3: 135000.00 ~ 175000.00 USD\n",
      "Level 4: > 175000.00 USD\n",
      "\n",
      "The data of each salary level is balanced.\n",
      "salary_level\n",
      "Level 2    967\n",
      "Level 1    956\n",
      "Level 4    932\n",
      "Level 3    900\n",
      "Name: count, dtype: int64\n",
      "categorical_features=$Index(['experience_level', 'employment_type', 'job_title',\n",
      "       'employee_residence', 'company_location', 'company_size',\n",
      "       'salary_level'],\n",
      "      dtype='object')\n",
      "numerical_features=$Index(['work_year', 'remote_ratio'], dtype='object')\n"
     ]
    },
    {
     "name": "stderr",
     "output_type": "stream",
     "text": [
      "127.0.0.1 - - [05/Jan/2024 00:45:29] \"OPTIONS /predict HTTP/1.1\" 200 -\n",
      "127.0.0.1 - - [05/Jan/2024 00:45:29] \"POST /predict HTTP/1.1\" 200 -\n"
     ]
    },
    {
     "name": "stdout",
     "output_type": "stream",
     "text": [
      "[ 95000. 135000. 175000.]\n",
      "Level 1: < 95000.00 USD\n",
      "Level 2: 95000.00 ~ 135000.00 USD\n",
      "Level 3: 135000.00 ~ 175000.00 USD\n",
      "Level 4: > 175000.00 USD\n",
      "\n",
      "The data of each salary level is balanced.\n",
      "salary_level\n",
      "Level 2    967\n",
      "Level 1    956\n",
      "Level 4    932\n",
      "Level 3    900\n",
      "Name: count, dtype: int64\n",
      "categorical_features=$Index(['experience_level', 'employment_type', 'job_title',\n",
      "       'employee_residence', 'company_location', 'company_size',\n",
      "       'salary_level'],\n",
      "      dtype='object')\n",
      "numerical_features=$Index(['work_year', 'remote_ratio'], dtype='object')\n"
     ]
    },
    {
     "name": "stderr",
     "output_type": "stream",
     "text": [
      "127.0.0.1 - - [05/Jan/2024 00:45:52] \"OPTIONS /predict HTTP/1.1\" 200 -\n",
      "127.0.0.1 - - [05/Jan/2024 00:45:52] \"POST /predict HTTP/1.1\" 200 -\n"
     ]
    },
    {
     "name": "stdout",
     "output_type": "stream",
     "text": [
      "[ 95000. 135000. 175000.]\n",
      "Level 1: < 95000.00 USD\n",
      "Level 2: 95000.00 ~ 135000.00 USD\n",
      "Level 3: 135000.00 ~ 175000.00 USD\n",
      "Level 4: > 175000.00 USD\n",
      "\n",
      "The data of each salary level is balanced.\n",
      "salary_level\n",
      "Level 2    967\n",
      "Level 1    956\n",
      "Level 4    932\n",
      "Level 3    900\n",
      "Name: count, dtype: int64\n",
      "categorical_features=$Index(['experience_level', 'employment_type', 'job_title',\n",
      "       'employee_residence', 'company_location', 'company_size',\n",
      "       'salary_level'],\n",
      "      dtype='object')\n",
      "numerical_features=$Index(['work_year', 'remote_ratio'], dtype='object')\n"
     ]
    },
    {
     "name": "stderr",
     "output_type": "stream",
     "text": [
      "127.0.0.1 - - [05/Jan/2024 00:45:55] \"POST /predict HTTP/1.1\" 200 -\n"
     ]
    },
    {
     "name": "stdout",
     "output_type": "stream",
     "text": [
      "[ 95000. 135000. 175000.]\n",
      "Level 1: < 95000.00 USD\n",
      "Level 2: 95000.00 ~ 135000.00 USD\n",
      "Level 3: 135000.00 ~ 175000.00 USD\n",
      "Level 4: > 175000.00 USD\n",
      "\n",
      "The data of each salary level is balanced.\n",
      "salary_level\n",
      "Level 2    967\n",
      "Level 1    956\n",
      "Level 4    932\n",
      "Level 3    900\n",
      "Name: count, dtype: int64\n",
      "categorical_features=$Index(['experience_level', 'employment_type', 'job_title',\n",
      "       'employee_residence', 'company_location', 'company_size',\n",
      "       'salary_level'],\n",
      "      dtype='object')\n",
      "numerical_features=$Index(['work_year', 'remote_ratio'], dtype='object')\n"
     ]
    },
    {
     "name": "stderr",
     "output_type": "stream",
     "text": [
      "127.0.0.1 - - [05/Jan/2024 00:45:56] \"POST /predict HTTP/1.1\" 200 -\n"
     ]
    },
    {
     "name": "stdout",
     "output_type": "stream",
     "text": [
      "[ 95000. 135000. 175000.]\n",
      "Level 1: < 95000.00 USD\n",
      "Level 2: 95000.00 ~ 135000.00 USD\n",
      "Level 3: 135000.00 ~ 175000.00 USD\n",
      "Level 4: > 175000.00 USD\n",
      "\n",
      "The data of each salary level is balanced.\n",
      "salary_level\n",
      "Level 2    967\n",
      "Level 1    956\n",
      "Level 4    932\n",
      "Level 3    900\n",
      "Name: count, dtype: int64\n",
      "categorical_features=$Index(['experience_level', 'employment_type', 'job_title',\n",
      "       'employee_residence', 'company_location', 'company_size',\n",
      "       'salary_level'],\n",
      "      dtype='object')\n",
      "numerical_features=$Index(['work_year', 'remote_ratio'], dtype='object')\n"
     ]
    }
   ],
   "source": [
    "\n",
    "if __name__ == '__main__':\n",
    "    app.run(host='0.0.0.0', port=5001)"
   ]
  }
 ],
 "metadata": {
  "kernelspec": {
   "display_name": "ai",
   "language": "python",
   "name": "python3"
  },
  "language_info": {
   "codemirror_mode": {
    "name": "ipython",
    "version": 3
   },
   "file_extension": ".py",
   "mimetype": "text/x-python",
   "name": "python",
   "nbconvert_exporter": "python",
   "pygments_lexer": "ipython3",
   "version": "3.11.4"
  }
 },
 "nbformat": 4,
 "nbformat_minor": 2
}
