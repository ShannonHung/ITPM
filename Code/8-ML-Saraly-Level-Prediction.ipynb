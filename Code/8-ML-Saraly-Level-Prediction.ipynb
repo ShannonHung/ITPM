{
 "cells": [
  {
   "cell_type": "markdown",
   "metadata": {},
   "source": [
    "# Analytical Data Source"
   ]
  },
  {
   "cell_type": "markdown",
   "metadata": {},
   "source": [
    "# P2.1 Select"
   ]
  },
  {
   "cell_type": "markdown",
   "metadata": {},
   "source": [
    "Select: Selecting the analysis results for the technical and methodical provision.\n",
    "\n",
    "Choosing analysis outcomes for technical and systematic planning."
   ]
  },
  {
   "cell_type": "code",
   "execution_count": 195,
   "metadata": {},
   "outputs": [],
   "source": [
    "import torch\n",
    "import torch.nn as nn\n",
    "import torch.optim as optim\n",
    "from torch.utils.data import Dataset, DataLoader\n",
    "from sklearn.model_selection import train_test_split\n",
    "from sklearn.preprocessing import OneHotEncoder, MinMaxScaler\n",
    "import pandas as pd\n",
    "import numpy as np\n",
    "from torch.optim import lr_scheduler\n",
    "import time\n",
    "import os\n",
    "from tempfile import TemporaryDirectory\n",
    "\n",
    "df = pd.read_csv('../data/ds_salaries_cleaned.csv')"
   ]
  },
  {
   "cell_type": "markdown",
   "metadata": {},
   "source": [
    "# P2.2 Request"
   ]
  },
  {
   "cell_type": "markdown",
   "metadata": {},
   "source": [
    "Request: If the analysis results do not suit the intended technical and methodical provision, changes can be requested. \n",
    "\n",
    "The analysis results meet expectations, so skip this step."
   ]
  },
  {
   "cell_type": "markdown",
   "metadata": {},
   "source": [
    "# P2.3 Select"
   ]
  },
  {
   "cell_type": "markdown",
   "metadata": {},
   "source": [
    "Select: This process aligns well with the requirement that data selected for technical and methodical provision should be appropriately prepared. If new data are introduced, they should be processed in the same manner to ensure consistency with the original model's data characteristics.\n",
    "\n",
    "We calculate the 25th, 50th, and 75th percentiles of salaries in the 'salary_in_usd' column of the DataFrame df and define four salary levels based on these percentiles."
   ]
  },
  {
   "cell_type": "code",
   "execution_count": 196,
   "metadata": {},
   "outputs": [],
   "source": [
    "# calculate the percentiles\n",
    "def convertData(data):\n",
    "    \n",
    "    percentiles = np.percentile(df['salary_in_usd'], [25, 75])  # 25th, 50th, 75th percentiles\n",
    "    print(percentiles)\n",
    "    # define the labels of saraly levels \n",
    "    labels = ['Level 1', 'Level 2', 'Level 3']\n",
    "\n",
    "    # print the meaning of label \n",
    "    for i in range(len(labels)):\n",
    "        if i == 0:\n",
    "            print('Level 1: < {:.2f} USD'.format(percentiles[i]))\n",
    "        elif i == len(labels) - 1:\n",
    "            print('Level {}: > {:.2f} USD'.format(i+1, percentiles[i-1]))\n",
    "        else:\n",
    "            print('Level {}: {:.2f} ~ {:.2f} USD'.format(i+1, percentiles[i-1], percentiles[i]))\n",
    "\n",
    "\n",
    "    #  -np.inf, np.inf be the lower and upper bounds of the bins\n",
    "    # *percentiles: base on the percentiles to cut the bins and generate the salary levels for being the labels of training data\n",
    "    df['salary_level'] = pd.cut(df['salary_in_usd'], bins=[-np.inf, *percentiles, np.inf], labels=labels)\n",
    "    data = df.drop(['salary_in_usd'], axis=1) # we cannot put the label into the training data\n",
    "    print(\"\\nThe data of each salary level is balanced.\")\n",
    "    print(data['salary_level'].value_counts())\n",
    "    return data\n",
    "\n"
   ]
  },
  {
   "cell_type": "markdown",
   "metadata": {},
   "source": [
    "# P2.4 Request"
   ]
  },
  {
   "cell_type": "markdown",
   "metadata": {},
   "source": [
    "Request: If the selected data do not suit the intended technical and methodical provision, changes can be requested. \n",
    "\n",
    "The selected data suit the intended technical and methodical provision,so skip this step. "
   ]
  },
  {
   "cell_type": "markdown",
   "metadata": {},
   "source": [
    "# P2.5 Check"
   ]
  },
  {
   "cell_type": "markdown",
   "metadata": {},
   "source": [
    "Check: During the technical and methodical provision, the applicability must be checked by \n",
    "the target group for the analysis. \n",
    "\n",
    "We check by the target group for the analysis. It check the data is balanced or not and calculate each salary level's data"
   ]
  },
  {
   "cell_type": "code",
   "execution_count": 197,
   "metadata": {},
   "outputs": [
    {
     "name": "stdout",
     "output_type": "stream",
     "text": [
      "[ 95000. 175000.]\n",
      "Level 1: < 95000.00 USD\n",
      "Level 2: 95000.00 ~ 175000.00 USD\n",
      "Level 3: > 175000.00 USD\n",
      "\n",
      "The data of each salary level is balanced.\n",
      "salary_level\n",
      "Level 2    1867\n",
      "Level 1     956\n",
      "Level 3     932\n",
      "Name: count, dtype: int64\n"
     ]
    },
    {
     "data": {
      "text/html": [
       "<div>\n",
       "<style scoped>\n",
       "    .dataframe tbody tr th:only-of-type {\n",
       "        vertical-align: middle;\n",
       "    }\n",
       "\n",
       "    .dataframe tbody tr th {\n",
       "        vertical-align: top;\n",
       "    }\n",
       "\n",
       "    .dataframe thead th {\n",
       "        text-align: right;\n",
       "    }\n",
       "</style>\n",
       "<table border=\"1\" class=\"dataframe\">\n",
       "  <thead>\n",
       "    <tr style=\"text-align: right;\">\n",
       "      <th></th>\n",
       "      <th>work_year</th>\n",
       "      <th>experience_level</th>\n",
       "      <th>employment_type</th>\n",
       "      <th>job_title</th>\n",
       "      <th>employee_residence</th>\n",
       "      <th>remote_ratio</th>\n",
       "      <th>company_location</th>\n",
       "      <th>company_size</th>\n",
       "      <th>salary_level</th>\n",
       "    </tr>\n",
       "  </thead>\n",
       "  <tbody>\n",
       "    <tr>\n",
       "      <th>0</th>\n",
       "      <td>2023</td>\n",
       "      <td>Senior-level/Expert</td>\n",
       "      <td>Full-Time</td>\n",
       "      <td>Data Scientist</td>\n",
       "      <td>ES</td>\n",
       "      <td>100</td>\n",
       "      <td>ES</td>\n",
       "      <td>L</td>\n",
       "      <td>Level 1</td>\n",
       "    </tr>\n",
       "    <tr>\n",
       "      <th>1</th>\n",
       "      <td>2023</td>\n",
       "      <td>Mid-level/Intermediate</td>\n",
       "      <td>Contract</td>\n",
       "      <td>ML Engineer</td>\n",
       "      <td>US</td>\n",
       "      <td>100</td>\n",
       "      <td>US</td>\n",
       "      <td>S</td>\n",
       "      <td>Level 1</td>\n",
       "    </tr>\n",
       "    <tr>\n",
       "      <th>2</th>\n",
       "      <td>2023</td>\n",
       "      <td>Mid-level/Intermediate</td>\n",
       "      <td>Contract</td>\n",
       "      <td>ML Engineer</td>\n",
       "      <td>US</td>\n",
       "      <td>100</td>\n",
       "      <td>US</td>\n",
       "      <td>S</td>\n",
       "      <td>Level 1</td>\n",
       "    </tr>\n",
       "    <tr>\n",
       "      <th>3</th>\n",
       "      <td>2023</td>\n",
       "      <td>Senior-level/Expert</td>\n",
       "      <td>Full-Time</td>\n",
       "      <td>Data Scientist</td>\n",
       "      <td>CA</td>\n",
       "      <td>100</td>\n",
       "      <td>CA</td>\n",
       "      <td>M</td>\n",
       "      <td>Level 2</td>\n",
       "    </tr>\n",
       "    <tr>\n",
       "      <th>4</th>\n",
       "      <td>2023</td>\n",
       "      <td>Senior-level/Expert</td>\n",
       "      <td>Full-Time</td>\n",
       "      <td>Data Scientist</td>\n",
       "      <td>CA</td>\n",
       "      <td>100</td>\n",
       "      <td>CA</td>\n",
       "      <td>M</td>\n",
       "      <td>Level 2</td>\n",
       "    </tr>\n",
       "    <tr>\n",
       "      <th>...</th>\n",
       "      <td>...</td>\n",
       "      <td>...</td>\n",
       "      <td>...</td>\n",
       "      <td>...</td>\n",
       "      <td>...</td>\n",
       "      <td>...</td>\n",
       "      <td>...</td>\n",
       "      <td>...</td>\n",
       "      <td>...</td>\n",
       "    </tr>\n",
       "    <tr>\n",
       "      <th>3750</th>\n",
       "      <td>2020</td>\n",
       "      <td>Senior-level/Expert</td>\n",
       "      <td>Full-Time</td>\n",
       "      <td>Data Scientist</td>\n",
       "      <td>US</td>\n",
       "      <td>100</td>\n",
       "      <td>US</td>\n",
       "      <td>L</td>\n",
       "      <td>Level 3</td>\n",
       "    </tr>\n",
       "    <tr>\n",
       "      <th>3751</th>\n",
       "      <td>2021</td>\n",
       "      <td>Mid-level/Intermediate</td>\n",
       "      <td>Full-Time</td>\n",
       "      <td>Data Scientist</td>\n",
       "      <td>US</td>\n",
       "      <td>100</td>\n",
       "      <td>US</td>\n",
       "      <td>L</td>\n",
       "      <td>Level 2</td>\n",
       "    </tr>\n",
       "    <tr>\n",
       "      <th>3752</th>\n",
       "      <td>2020</td>\n",
       "      <td>Entry-level/Junior</td>\n",
       "      <td>Full-Time</td>\n",
       "      <td>Data Scientist</td>\n",
       "      <td>US</td>\n",
       "      <td>100</td>\n",
       "      <td>US</td>\n",
       "      <td>S</td>\n",
       "      <td>Level 2</td>\n",
       "    </tr>\n",
       "    <tr>\n",
       "      <th>3753</th>\n",
       "      <td>2020</td>\n",
       "      <td>Entry-level/Junior</td>\n",
       "      <td>Contract</td>\n",
       "      <td>Data Analyst</td>\n",
       "      <td>US</td>\n",
       "      <td>100</td>\n",
       "      <td>US</td>\n",
       "      <td>L</td>\n",
       "      <td>Level 2</td>\n",
       "    </tr>\n",
       "    <tr>\n",
       "      <th>3754</th>\n",
       "      <td>2021</td>\n",
       "      <td>Senior-level/Expert</td>\n",
       "      <td>Full-Time</td>\n",
       "      <td>Data Science Manager</td>\n",
       "      <td>IN</td>\n",
       "      <td>50</td>\n",
       "      <td>IN</td>\n",
       "      <td>L</td>\n",
       "      <td>Level 1</td>\n",
       "    </tr>\n",
       "  </tbody>\n",
       "</table>\n",
       "<p>3755 rows × 9 columns</p>\n",
       "</div>"
      ],
      "text/plain": [
       "      work_year        experience_level employment_type             job_title  \\\n",
       "0          2023     Senior-level/Expert       Full-Time        Data Scientist   \n",
       "1          2023  Mid-level/Intermediate        Contract           ML Engineer   \n",
       "2          2023  Mid-level/Intermediate        Contract           ML Engineer   \n",
       "3          2023     Senior-level/Expert       Full-Time        Data Scientist   \n",
       "4          2023     Senior-level/Expert       Full-Time        Data Scientist   \n",
       "...         ...                     ...             ...                   ...   \n",
       "3750       2020     Senior-level/Expert       Full-Time        Data Scientist   \n",
       "3751       2021  Mid-level/Intermediate       Full-Time        Data Scientist   \n",
       "3752       2020      Entry-level/Junior       Full-Time        Data Scientist   \n",
       "3753       2020      Entry-level/Junior        Contract          Data Analyst   \n",
       "3754       2021     Senior-level/Expert       Full-Time  Data Science Manager   \n",
       "\n",
       "     employee_residence  remote_ratio company_location company_size  \\\n",
       "0                    ES           100               ES            L   \n",
       "1                    US           100               US            S   \n",
       "2                    US           100               US            S   \n",
       "3                    CA           100               CA            M   \n",
       "4                    CA           100               CA            M   \n",
       "...                 ...           ...              ...          ...   \n",
       "3750                 US           100               US            L   \n",
       "3751                 US           100               US            L   \n",
       "3752                 US           100               US            S   \n",
       "3753                 US           100               US            L   \n",
       "3754                 IN            50               IN            L   \n",
       "\n",
       "     salary_level  \n",
       "0         Level 1  \n",
       "1         Level 1  \n",
       "2         Level 1  \n",
       "3         Level 2  \n",
       "4         Level 2  \n",
       "...           ...  \n",
       "3750      Level 3  \n",
       "3751      Level 2  \n",
       "3752      Level 2  \n",
       "3753      Level 2  \n",
       "3754      Level 1  \n",
       "\n",
       "[3755 rows x 9 columns]"
      ]
     },
     "execution_count": 197,
     "metadata": {},
     "output_type": "execute_result"
    }
   ],
   "source": [
    "data = convertData(df)\n",
    "data\n",
    "# each number of salary level have approximately the same number of data which occupy 25% of the whole data"
   ]
  },
  {
   "cell_type": "markdown",
   "metadata": {},
   "source": [
    "# P2.6 Apply"
   ]
  },
  {
   "cell_type": "markdown",
   "metadata": {},
   "source": [
    "Apply: Identified opportunities for ensuring applicability must be considered during the technical and methodical provision.\n",
    "\n",
    "We create the function to convert the data for training and testing, ensuring applicability by turning the data into tensors and normalizing it, while considering identified opportunities during the technical and methodical provision."
   ]
  },
  {
   "cell_type": "code",
   "execution_count": 198,
   "metadata": {},
   "outputs": [],
   "source": [
    "class SalaryDataset(Dataset):\n",
    "\n",
    "    # Initialization function for loading and preprocessing data\n",
    "    def __init__(self, data, train=True, transform=None):\n",
    "        # The 'train' parameter indicates whether the data is for training or testing\n",
    "        self.train = train\n",
    "\n",
    "        # Create MinMaxScaler and OneHotEncoder for data preprocessing\n",
    "        minmax_scaler = MinMaxScaler()\n",
    "        onehot_enc = OneHotEncoder()\n",
    "\n",
    "        # Split data into categorical features, numerical features, and labels\n",
    "        categorical_features = data[data.select_dtypes(include=['object']).columns]\n",
    "        numerical_features = data[data.select_dtypes(exclude=['object']).columns].drop('salary_level', axis=1)\n",
    "        label_features = data[['salary_level']]\n",
    "\n",
    "        # Normalize numerical features (MinMax normalization)\n",
    "        numerical_features_arr = minmax_scaler.fit_transform(numerical_features)\n",
    "\n",
    "        # Perform one-hot encoding on categorical features\n",
    "        categorical_features_arr = onehot_enc.fit_transform(categorical_features).toarray()\n",
    "\n",
    "        # After one-hot encoding categorical features, retrieve the encoded feature names\n",
    "        label_features = onehot_enc.fit_transform(label_features).toarray()\n",
    "\n",
    "        # Combine normalized numerical features and one-hot encoded categorical features into one dataset\n",
    "        combined_features = pd.DataFrame(data=numerical_features_arr, columns=numerical_features.columns)\n",
    "        combined_features = pd.concat([combined_features, pd.DataFrame(data=categorical_features_arr)], axis=1)\n",
    "        combined_features = pd.concat([combined_features, pd.DataFrame(data=label_features)], axis=1).reset_index(drop=True)\n",
    "\n",
    "        # Split the dataset into training and testing sets\n",
    "        train_data, test_data = train_test_split(combined_features, test_size=0.2, random_state=42)\n",
    "\n",
    "        # Choose the data to use based on the training or testing mode\n",
    "        if train:\n",
    "            self.data = train_data\n",
    "        else:\n",
    "            self.data = test_data\n",
    "\n",
    "    # Returns the length of the dataset\n",
    "    def __len__(self):\n",
    "        return len(self.data)\n",
    "\n",
    "    # Function for training the neural network, returns features and labels\n",
    "    def __getitem__(self, idx):\n",
    "        # Retrieve the data from the ith row in the self.data DataFrame\n",
    "        sample = self.data.iloc[idx] \n",
    "        # Convert a data structure into a PyTorch tensor and specify the tensor's data type as float\n",
    "        features = torch.FloatTensor(sample[:-4])\n",
    "        label = torch.FloatTensor(sample[-4:])\n",
    "        return features, label\n",
    "\n",
    "    # Returns the entire dataset as a DataFrame\n",
    "    def getData(self):\n",
    "        return self.data\n"
   ]
  },
  {
   "cell_type": "markdown",
   "metadata": {},
   "source": [
    "# P2.7 Check"
   ]
  },
  {
   "cell_type": "markdown",
   "metadata": {},
   "source": [
    "Check: During the technical and methodical provision, technical requirements must be examined.\n",
    "\n",
    "Create«"
   ]
  },
  {
   "cell_type": "code",
   "execution_count": 199,
   "metadata": {},
   "outputs": [
    {
     "name": "stdout",
     "output_type": "stream",
     "text": [
      "train_dataset len: 3004\n",
      "val_dataset len: 751\n",
      "total_dataset len: 3755\n"
     ]
    }
   ],
   "source": [
    "train_dataset = SalaryDataset(data, train=True) \n",
    "test_dataset = SalaryDataset(data, train=False)\n",
    "print('train_dataset len:', len(train_dataset))\n",
    "print('val_dataset len:', len(test_dataset))\n",
    "print('total_dataset len:', len(train_dataset) + len(test_dataset))"
   ]
  },
  {
   "cell_type": "code",
   "execution_count": 200,
   "metadata": {},
   "outputs": [
    {
     "data": {
      "text/plain": [
       "(751, 177)"
      ]
     },
     "execution_count": 200,
     "metadata": {},
     "output_type": "execute_result"
    }
   ],
   "source": [
    "test_dataset.getData().shape"
   ]
  },
  {
   "cell_type": "code",
   "execution_count": 201,
   "metadata": {},
   "outputs": [
    {
     "data": {
      "text/html": [
       "<div>\n",
       "<style scoped>\n",
       "    .dataframe tbody tr th:only-of-type {\n",
       "        vertical-align: middle;\n",
       "    }\n",
       "\n",
       "    .dataframe tbody tr th {\n",
       "        vertical-align: top;\n",
       "    }\n",
       "\n",
       "    .dataframe thead th {\n",
       "        text-align: right;\n",
       "    }\n",
       "</style>\n",
       "<table border=\"1\" class=\"dataframe\">\n",
       "  <thead>\n",
       "    <tr style=\"text-align: right;\">\n",
       "      <th></th>\n",
       "      <th>work_year</th>\n",
       "      <th>experience_level</th>\n",
       "      <th>employment_type</th>\n",
       "      <th>job_title</th>\n",
       "      <th>employee_residence</th>\n",
       "      <th>remote_ratio</th>\n",
       "      <th>company_location</th>\n",
       "      <th>company_size</th>\n",
       "      <th>salary_level</th>\n",
       "    </tr>\n",
       "  </thead>\n",
       "  <tbody>\n",
       "    <tr>\n",
       "      <th>0</th>\n",
       "      <td>2023</td>\n",
       "      <td>Senior-level/Expert</td>\n",
       "      <td>Full-Time</td>\n",
       "      <td>Data Scientist</td>\n",
       "      <td>ES</td>\n",
       "      <td>100</td>\n",
       "      <td>ES</td>\n",
       "      <td>L</td>\n",
       "      <td>Level 1</td>\n",
       "    </tr>\n",
       "    <tr>\n",
       "      <th>1</th>\n",
       "      <td>2023</td>\n",
       "      <td>Mid-level/Intermediate</td>\n",
       "      <td>Contract</td>\n",
       "      <td>ML Engineer</td>\n",
       "      <td>US</td>\n",
       "      <td>100</td>\n",
       "      <td>US</td>\n",
       "      <td>S</td>\n",
       "      <td>Level 1</td>\n",
       "    </tr>\n",
       "    <tr>\n",
       "      <th>2</th>\n",
       "      <td>2023</td>\n",
       "      <td>Mid-level/Intermediate</td>\n",
       "      <td>Contract</td>\n",
       "      <td>ML Engineer</td>\n",
       "      <td>US</td>\n",
       "      <td>100</td>\n",
       "      <td>US</td>\n",
       "      <td>S</td>\n",
       "      <td>Level 1</td>\n",
       "    </tr>\n",
       "    <tr>\n",
       "      <th>3</th>\n",
       "      <td>2023</td>\n",
       "      <td>Senior-level/Expert</td>\n",
       "      <td>Full-Time</td>\n",
       "      <td>Data Scientist</td>\n",
       "      <td>CA</td>\n",
       "      <td>100</td>\n",
       "      <td>CA</td>\n",
       "      <td>M</td>\n",
       "      <td>Level 2</td>\n",
       "    </tr>\n",
       "    <tr>\n",
       "      <th>4</th>\n",
       "      <td>2023</td>\n",
       "      <td>Senior-level/Expert</td>\n",
       "      <td>Full-Time</td>\n",
       "      <td>Data Scientist</td>\n",
       "      <td>CA</td>\n",
       "      <td>100</td>\n",
       "      <td>CA</td>\n",
       "      <td>M</td>\n",
       "      <td>Level 2</td>\n",
       "    </tr>\n",
       "  </tbody>\n",
       "</table>\n",
       "</div>"
      ],
      "text/plain": [
       "   work_year        experience_level employment_type       job_title  \\\n",
       "0       2023     Senior-level/Expert       Full-Time  Data Scientist   \n",
       "1       2023  Mid-level/Intermediate        Contract     ML Engineer   \n",
       "2       2023  Mid-level/Intermediate        Contract     ML Engineer   \n",
       "3       2023     Senior-level/Expert       Full-Time  Data Scientist   \n",
       "4       2023     Senior-level/Expert       Full-Time  Data Scientist   \n",
       "\n",
       "  employee_residence  remote_ratio company_location company_size salary_level  \n",
       "0                 ES           100               ES            L      Level 1  \n",
       "1                 US           100               US            S      Level 1  \n",
       "2                 US           100               US            S      Level 1  \n",
       "3                 CA           100               CA            M      Level 2  \n",
       "4                 CA           100               CA            M      Level 2  "
      ]
     },
     "execution_count": 201,
     "metadata": {},
     "output_type": "execute_result"
    }
   ],
   "source": [
    "data.head()"
   ]
  },
  {
   "cell_type": "markdown",
   "metadata": {},
   "source": [
    "# P2.8 Apply "
   ]
  },
  {
   "cell_type": "markdown",
   "metadata": {},
   "source": [
    "Apply: Any technical impossibilities for implementation identified must be considered during the technical and methodical provision.\n",
    "\n",
    "It involves technical setup for handling data, which is a crucial part of the methodical provision in machine learning or data processing projects. Ensuring the correct handling and sizing of datasets is vital to the success of such projects, and any technical impossibilities or limitations identified in this area must be addressed."
   ]
  },
  {
   "cell_type": "code",
   "execution_count": 202,
   "metadata": {},
   "outputs": [
    {
     "data": {
      "text/plain": [
       "{'train': 3004, 'test': 751}"
      ]
     },
     "execution_count": 202,
     "metadata": {},
     "output_type": "execute_result"
    }
   ],
   "source": [
    "# Create DataLoader for training and testing datasets \n",
    "dataloaders = {'train': train_dataset, 'test': test_dataset}\n",
    "dataset_sizes = {x: len(dataloaders[x]) for x in ['train', 'test']}\n",
    "dataset_sizes"
   ]
  },
  {
   "cell_type": "markdown",
   "metadata": {},
   "source": [
    "The function for training and testing data is created.\n",
    "This will train 25 epochs, and save the best model during training. "
   ]
  },
  {
   "cell_type": "code",
   "execution_count": 203,
   "metadata": {},
   "outputs": [],
   "source": [
    "def train_model(model, criterion, optimizer, scheduler, num_epochs=1):\n",
    "    since = time.time()\n",
    "    with TemporaryDirectory() as tempdir:\n",
    "        # Path to save the best model parameters\n",
    "        best_model_params_path = os.path.join(tempdir, 'best_model_params.pt')\n",
    "        torch.save(model.state_dict(), best_model_params_path)\n",
    "        best_acc = 0.0\n",
    "\n",
    "        for epoch in range(num_epochs):\n",
    "            print(f'Epoch {epoch}/{num_epochs - 1}')\n",
    "            print('-' * 10)\n",
    "\n",
    "            # Each epoch has a training and validation phase\n",
    "            for phase in ['train', 'test']:\n",
    "                # Set model to training mode or evaluation mode\n",
    "                if phase == 'train':\n",
    "                    model.train()  # Training mode\n",
    "                else: \n",
    "                    model.eval()   # Evaluation mode\n",
    "                \n",
    "                running_loss = 0.0\n",
    "                running_corrects = 0\n",
    "\n",
    "                # Iterate over data.\n",
    "                for inputs_vector, labels_vector in dataloaders[phase]:\n",
    "\n",
    "                    # Zero the parameter gradients\n",
    "                    optimizer.zero_grad()\n",
    "\n",
    "                    # Forward pass: compute predicted outputs by passing inputs to the model\n",
    "                    with torch.set_grad_enabled(phase == 'train'):\n",
    "                        outputs = model(inputs_vector)\n",
    "\n",
    "                        # Predictions and actual results\n",
    "                        pred = torch.argmax(outputs).item()\n",
    "                        result = torch.argmax(labels_vector).item()\n",
    "                        # Calculate loss\n",
    "                        loss = criterion(outputs, labels_vector)\n",
    "\n",
    "                        # Backward pass and optimize only if in training phase\n",
    "                        if phase == 'train':\n",
    "                            loss.backward()\n",
    "                            optimizer.step()\n",
    "\n",
    "                    # Statistics: accumulate loss and count correct predictions\n",
    "                    running_loss += loss.item()\n",
    "                    if pred == result:\n",
    "                        running_corrects += 1\n",
    "\n",
    "                # Learning rate scheduler step in training phase\n",
    "                if phase == 'train':\n",
    "                    scheduler.step()\n",
    "\n",
    "                # Calculate loss and accuracy for each epoch\n",
    "                epoch_loss = running_loss / dataset_sizes[phase]\n",
    "                epoch_acc = running_corrects / dataset_sizes[phase]\n",
    "                if phase == 'train':\n",
    "                    train_acc.append(epoch_acc)\n",
    "                else:\n",
    "                    test_acc.append(epoch_acc)\n",
    "                print(f'{phase} Loss: {epoch_loss:.4f} Acc: {epoch_acc:.4f} Time elapsed: {round((time.time() - since))} sec.')\n",
    "                \n",
    "                # Save the model if it has the best accuracy so far\n",
    "                if phase == 'test' and epoch_acc > best_acc:\n",
    "                    best_acc = epoch_acc\n",
    "                    torch.save(model.state_dict(), best_model_params_path)\n",
    "\n",
    "            print()\n",
    "\n",
    "        # Print out total time for training and the best accuracy\n",
    "        time_elapsed = time.time() - since\n",
    "        print(f'Training complete in {time_elapsed // 60:.0f}m {time_elapsed % 60:.0f}s')\n",
    "        print(f'Best val Acc: {best_acc:4f}')\n",
    "\n",
    "        # Load the best model weights before proceeding to the next epoch\n",
    "        model.load_state_dict(torch.load(best_model_params_path))\n",
    "    return model\n"
   ]
  },
  {
   "cell_type": "markdown",
   "metadata": {},
   "source": [
    "Create a neural network model"
   ]
  },
  {
   "cell_type": "code",
   "execution_count": 204,
   "metadata": {},
   "outputs": [],
   "source": [
    "class SalaryPredictor(nn.Module):\n",
    "    def __init__(self, input_size):\n",
    "        super(SalaryPredictor, self).__init__()\n",
    "        self.layer1 = nn.Linear(input_size, 64)\n",
    "        self.layer2 = nn.Linear(64, 32)\n",
    "        # self.layer3 = nn.Linear(32, 16)\n",
    "        # self.layer4 = nn.Linear(16, 8)\n",
    "        self.output_layer = nn.Linear(32, 4)\n",
    "    \n",
    "    def forward(self, x):\n",
    "        x = torch.relu(self.layer1(x))\n",
    "        x = torch.relu(self.layer2(x))\n",
    "        # x = torch.relu(self.layer3(x))\n",
    "        # x = torch.relu(self.layer4(x))\n",
    "        x = self.output_layer(x)\n",
    "        return x\n"
   ]
  },
  {
   "cell_type": "code",
   "execution_count": 205,
   "metadata": {},
   "outputs": [],
   "source": [
    "# TODO: add the comment for try and errors\n",
    "train_acc = [] \n",
    "test_acc = []\n",
    "\n",
    "D_in, D_out = 173, 4\n",
    "model = SalaryPredictor(D_in)\n",
    "# criterion = nn.BCELoss()\n",
    "criterion = nn.CrossEntropyLoss()\n",
    "optimizer = optim.AdamW(model.parameters(), lr=0.001)\n",
    "# optimizer = optim.SGD(model.parameters(), lr=0.0001, momentum=0.01)\n",
    "loss_function = nn.CrossEntropyLoss()\n",
    "exp_lr_scheduler = lr_scheduler.StepLR(optimizer, step_size=7, gamma=0.1)"
   ]
  },
  {
   "cell_type": "markdown",
   "metadata": {},
   "source": [
    "# P2.9 Provide\n",
    "\n",
    "Provide: The results of the technical and methodical provision form the basis for the professional provision of the prepared analysis results for the target user group. The effects can range from a support of existing processes to a project adjustment to a completely new development (now automated, if applicable) of processes.\n",
    "\n",
    "Technical provision results underpin targeted user analysis with epoch data. And finally save the best prediction result of model, which is easy to deploy and use in the future. "
   ]
  },
  {
   "cell_type": "markdown",
   "metadata": {},
   "source": [
    "## Conclusion\n",
    "### Original Parameters\n",
    "- 2-layer linear networks: (64, 32), (32, 16); output layer (16, 4)\n",
    "- Criterion: BCELoss()\n",
    "- Optimizer: AdamW with a learning rate of 0.001\n",
    "- Loss function: CrossEntropyLoss()\n",
    "\n",
    "### Search for Optimal Parameters\n",
    "- Changing lr from 0.01 to 0.001 resulted in improved performance: 0.259654 -> 0.327563\n",
    "- Updating momentum from 0.01 to 0.9 led to better results: 0.327563 -> 0.488682\n",
    "- Switching from SGD to AdamW as the optimizer slightly increased accuracy: 0.488682 -> 0.490013\n",
    "- Trying a different criterion, changing from CrossEntropyLoss() to BCELoss(), did not yield improvement.\n",
    "\n",
    "### Label Modification\n",
    "25th, 50th, and 75th percentiles of salaries: (95000, 135000, 175000)\n",
    "1. Changing from [25, 50, 75] to [50], with a cut-off at 135,000.00 (NTD 4 million): Accuracy 91%\n",
    "2. Changing from [25, 50, 75] to [75], with a cut-off at 175,000.00 (NTD 5 million): Accuracy 89%\n",
    "3. Changing from [25, 50, 75] to [25, 75] (95000, 175000), with cut-offs at 95,000.00 and 175,000.00: Accuracy 64%\n",
    "\n",
    "### Exploring Alternative Approaches\n",
    "- Even with cleaning, the results remained relatively consistent.\n",
    "- Significant changes in occupation visibly affect the model's predictions. However, due to the low diversity in samples for work_year, remote_rate, and company_location, the predictive results are limited."
   ]
  },
  {
   "cell_type": "code",
   "execution_count": 206,
   "metadata": {},
   "outputs": [
    {
     "name": "stdout",
     "output_type": "stream",
     "text": [
      "Epoch 0/24\n",
      "----------\n"
     ]
    },
    {
     "name": "stdout",
     "output_type": "stream",
     "text": [
      "train Loss: 0.9649 Acc: 0.5719 Time elapsed: 2 sec.\n",
      "test Loss: 0.8782 Acc: 0.6165 Time elapsed: 2 sec.\n",
      "\n",
      "Epoch 1/24\n",
      "----------\n",
      "train Loss: 0.8577 Acc: 0.6212 Time elapsed: 5 sec.\n",
      "test Loss: 0.8654 Acc: 0.6072 Time elapsed: 5 sec.\n",
      "\n",
      "Epoch 2/24\n",
      "----------\n",
      "train Loss: 0.8378 Acc: 0.6328 Time elapsed: 7 sec.\n",
      "test Loss: 0.8609 Acc: 0.6192 Time elapsed: 7 sec.\n",
      "\n",
      "Epoch 3/24\n",
      "----------\n",
      "train Loss: 0.8275 Acc: 0.6411 Time elapsed: 9 sec.\n",
      "test Loss: 0.8643 Acc: 0.6218 Time elapsed: 9 sec.\n",
      "\n",
      "Epoch 4/24\n",
      "----------\n",
      "train Loss: 0.8198 Acc: 0.6428 Time elapsed: 11 sec.\n",
      "test Loss: 0.8704 Acc: 0.6312 Time elapsed: 11 sec.\n",
      "\n",
      "Epoch 5/24\n",
      "----------\n",
      "train Loss: 0.8137 Acc: 0.6458 Time elapsed: 13 sec.\n",
      "test Loss: 0.8605 Acc: 0.6352 Time elapsed: 14 sec.\n",
      "\n",
      "Epoch 6/24\n",
      "----------\n",
      "train Loss: 0.8069 Acc: 0.6525 Time elapsed: 16 sec.\n",
      "test Loss: 0.8731 Acc: 0.6272 Time elapsed: 16 sec.\n",
      "\n",
      "Epoch 7/24\n",
      "----------\n",
      "train Loss: 0.7869 Acc: 0.6605 Time elapsed: 18 sec.\n",
      "test Loss: 0.8687 Acc: 0.6352 Time elapsed: 18 sec.\n",
      "\n",
      "Epoch 8/24\n",
      "----------\n",
      "train Loss: 0.7813 Acc: 0.6634 Time elapsed: 20 sec.\n",
      "test Loss: 0.8708 Acc: 0.6352 Time elapsed: 20 sec.\n",
      "\n",
      "Epoch 9/24\n",
      "----------\n",
      "train Loss: 0.7792 Acc: 0.6638 Time elapsed: 23 sec.\n",
      "test Loss: 0.8730 Acc: 0.6338 Time elapsed: 23 sec.\n",
      "\n",
      "Epoch 10/24\n",
      "----------\n",
      "train Loss: 0.7776 Acc: 0.6638 Time elapsed: 25 sec.\n",
      "test Loss: 0.8753 Acc: 0.6338 Time elapsed: 25 sec.\n",
      "\n",
      "Epoch 11/24\n",
      "----------\n",
      "train Loss: 0.7763 Acc: 0.6641 Time elapsed: 27 sec.\n",
      "test Loss: 0.8780 Acc: 0.6325 Time elapsed: 27 sec.\n",
      "\n",
      "Epoch 12/24\n",
      "----------\n",
      "train Loss: 0.7751 Acc: 0.6654 Time elapsed: 29 sec.\n",
      "test Loss: 0.8804 Acc: 0.6325 Time elapsed: 30 sec.\n",
      "\n",
      "Epoch 13/24\n",
      "----------\n",
      "train Loss: 0.7741 Acc: 0.6638 Time elapsed: 32 sec.\n",
      "test Loss: 0.8820 Acc: 0.6312 Time elapsed: 32 sec.\n",
      "\n",
      "Epoch 14/24\n",
      "----------\n",
      "train Loss: 0.7708 Acc: 0.6628 Time elapsed: 34 sec.\n",
      "test Loss: 0.8814 Acc: 0.6312 Time elapsed: 34 sec.\n",
      "\n",
      "Epoch 15/24\n",
      "----------\n",
      "train Loss: 0.7701 Acc: 0.6651 Time elapsed: 36 sec.\n",
      "test Loss: 0.8815 Acc: 0.6365 Time elapsed: 36 sec.\n",
      "\n",
      "Epoch 16/24\n",
      "----------\n",
      "train Loss: 0.7698 Acc: 0.6658 Time elapsed: 38 sec.\n",
      "test Loss: 0.8818 Acc: 0.6391 Time elapsed: 39 sec.\n",
      "\n",
      "Epoch 17/24\n",
      "----------\n",
      "train Loss: 0.7696 Acc: 0.6668 Time elapsed: 41 sec.\n",
      "test Loss: 0.8820 Acc: 0.6391 Time elapsed: 41 sec.\n",
      "\n",
      "Epoch 18/24\n",
      "----------\n",
      "train Loss: 0.7694 Acc: 0.6671 Time elapsed: 43 sec.\n",
      "test Loss: 0.8823 Acc: 0.6391 Time elapsed: 43 sec.\n",
      "\n",
      "Epoch 19/24\n",
      "----------\n",
      "train Loss: 0.7693 Acc: 0.6668 Time elapsed: 45 sec.\n",
      "test Loss: 0.8826 Acc: 0.6391 Time elapsed: 45 sec.\n",
      "\n",
      "Epoch 20/24\n",
      "----------\n",
      "train Loss: 0.7692 Acc: 0.6668 Time elapsed: 47 sec.\n",
      "test Loss: 0.8829 Acc: 0.6391 Time elapsed: 48 sec.\n",
      "\n",
      "Epoch 21/24\n",
      "----------\n",
      "train Loss: 0.7687 Acc: 0.6664 Time elapsed: 50 sec.\n",
      "test Loss: 0.8830 Acc: 0.6391 Time elapsed: 50 sec.\n",
      "\n",
      "Epoch 22/24\n",
      "----------\n",
      "train Loss: 0.7686 Acc: 0.6668 Time elapsed: 52 sec.\n",
      "test Loss: 0.8830 Acc: 0.6405 Time elapsed: 52 sec.\n",
      "\n",
      "Epoch 23/24\n",
      "----------\n",
      "train Loss: 0.7686 Acc: 0.6668 Time elapsed: 54 sec.\n",
      "test Loss: 0.8830 Acc: 0.6405 Time elapsed: 54 sec.\n",
      "\n",
      "Epoch 24/24\n",
      "----------\n",
      "train Loss: 0.7686 Acc: 0.6668 Time elapsed: 56 sec.\n",
      "test Loss: 0.8831 Acc: 0.6405 Time elapsed: 57 sec.\n",
      "\n",
      "Training complete in 0m 57s\n",
      "Best val Acc: 0.640479\n"
     ]
    }
   ],
   "source": [
    "model = train_model(model, loss_function, optimizer, exp_lr_scheduler, num_epochs=25)"
   ]
  },
  {
   "cell_type": "code",
   "execution_count": 207,
   "metadata": {},
   "outputs": [
    {
     "data": {
      "text/plain": [
       "Text(0, 0.5, 'Accuracy')"
      ]
     },
     "execution_count": 207,
     "metadata": {},
     "output_type": "execute_result"
    },
    {
     "data": {
      "image/png": "[encoded data removed]",
      "text/plain": [
       "<Figure size 640x480 with 1 Axes>"
      ]
     },
     "metadata": {},
     "output_type": "display_data"
    }
   ],
   "source": [
    "import matplotlib.pyplot as plt\n",
    "plt.plot(train_acc, color='orange')\n",
    "plt.plot(test_acc, color='green')\n",
    "plt.ylim(0.0, 0.8)\n",
    "plt.legend(['Train Accuracy', 'Test Accuracy'], loc='upper right')\n",
    "plt.xlabel('Epoch')\n",
    "plt.ylabel('Accuracy')"
   ]
  },
  {
   "cell_type": "code",
   "execution_count": 208,
   "metadata": {},
   "outputs": [],
   "source": [
    "# save the model to disk. (2L=50th; 4L=25,50,75th; 3L=25,50th)\n",
    "torch.save(model.state_dict(), '../data/model/salary_pred_3L.pt')"
   ]
  },
  {
   "cell_type": "markdown",
   "metadata": {},
   "source": [
    "### Predict the value with the model\n",
    "1. Get all data from the source.\n",
    "2. Add new data to the source.\n",
    "3. Convert the data to datasource for model prediction.\n",
    "4. Get the model and predict the value with the last data in the source. "
   ]
  },
  {
   "cell_type": "markdown",
   "metadata": {},
   "source": [
    "> 1. Get all data from the source"
   ]
  },
  {
   "cell_type": "code",
   "execution_count": 209,
   "metadata": {},
   "outputs": [
    {
     "name": "stdout",
     "output_type": "stream",
     "text": [
      "[ 95000. 175000.]\n",
      "Level 1: < 95000.00 USD\n",
      "Level 2: 95000.00 ~ 175000.00 USD\n",
      "Level 3: > 175000.00 USD\n",
      "\n",
      "The data of each salary level is balanced.\n",
      "salary_level\n",
      "Level 2    1867\n",
      "Level 1     956\n",
      "Level 3     932\n",
      "Name: count, dtype: int64\n"
     ]
    }
   ],
   "source": [
    "df = pd.read_csv('../data/ds_salaries_cleaned.csv')\n",
    "data = convertData(df)"
   ]
  },
  {
   "cell_type": "markdown",
   "metadata": {},
   "source": [
    "> 2. Add new data to the source"
   ]
  },
  {
   "cell_type": "code",
   "execution_count": 210,
   "metadata": {},
   "outputs": [
    {
     "data": {
      "text/html": [
       "<div>\n",
       "<style scoped>\n",
       "    .dataframe tbody tr th:only-of-type {\n",
       "        vertical-align: middle;\n",
       "    }\n",
       "\n",
       "    .dataframe tbody tr th {\n",
       "        vertical-align: top;\n",
       "    }\n",
       "\n",
       "    .dataframe thead th {\n",
       "        text-align: right;\n",
       "    }\n",
       "</style>\n",
       "<table border=\"1\" class=\"dataframe\">\n",
       "  <thead>\n",
       "    <tr style=\"text-align: right;\">\n",
       "      <th></th>\n",
       "      <th>work_year</th>\n",
       "      <th>experience_level</th>\n",
       "      <th>employment_type</th>\n",
       "      <th>job_title</th>\n",
       "      <th>employee_residence</th>\n",
       "      <th>remote_ratio</th>\n",
       "      <th>company_location</th>\n",
       "      <th>company_size</th>\n",
       "      <th>salary_level</th>\n",
       "    </tr>\n",
       "  </thead>\n",
       "  <tbody>\n",
       "    <tr>\n",
       "      <th>3751</th>\n",
       "      <td>2021</td>\n",
       "      <td>Mid-level/Intermediate</td>\n",
       "      <td>Full-Time</td>\n",
       "      <td>Data Scientist</td>\n",
       "      <td>US</td>\n",
       "      <td>100</td>\n",
       "      <td>US</td>\n",
       "      <td>L</td>\n",
       "      <td>Level 2</td>\n",
       "    </tr>\n",
       "    <tr>\n",
       "      <th>3752</th>\n",
       "      <td>2020</td>\n",
       "      <td>Entry-level/Junior</td>\n",
       "      <td>Full-Time</td>\n",
       "      <td>Data Scientist</td>\n",
       "      <td>US</td>\n",
       "      <td>100</td>\n",
       "      <td>US</td>\n",
       "      <td>S</td>\n",
       "      <td>Level 2</td>\n",
       "    </tr>\n",
       "    <tr>\n",
       "      <th>3753</th>\n",
       "      <td>2020</td>\n",
       "      <td>Entry-level/Junior</td>\n",
       "      <td>Contract</td>\n",
       "      <td>Data Analyst</td>\n",
       "      <td>US</td>\n",
       "      <td>100</td>\n",
       "      <td>US</td>\n",
       "      <td>L</td>\n",
       "      <td>Level 2</td>\n",
       "    </tr>\n",
       "    <tr>\n",
       "      <th>3754</th>\n",
       "      <td>2021</td>\n",
       "      <td>Senior-level/Expert</td>\n",
       "      <td>Full-Time</td>\n",
       "      <td>Data Science Manager</td>\n",
       "      <td>IN</td>\n",
       "      <td>50</td>\n",
       "      <td>IN</td>\n",
       "      <td>L</td>\n",
       "      <td>Level 1</td>\n",
       "    </tr>\n",
       "    <tr>\n",
       "      <th>3755</th>\n",
       "      <td>2023</td>\n",
       "      <td>Entry-level/Junior</td>\n",
       "      <td>Full-Time</td>\n",
       "      <td>Data Analyst</td>\n",
       "      <td>US</td>\n",
       "      <td>100</td>\n",
       "      <td>US</td>\n",
       "      <td>L</td>\n",
       "      <td>Level 1</td>\n",
       "    </tr>\n",
       "  </tbody>\n",
       "</table>\n",
       "</div>"
      ],
      "text/plain": [
       "      work_year        experience_level employment_type             job_title  \\\n",
       "3751       2021  Mid-level/Intermediate       Full-Time        Data Scientist   \n",
       "3752       2020      Entry-level/Junior       Full-Time        Data Scientist   \n",
       "3753       2020      Entry-level/Junior        Contract          Data Analyst   \n",
       "3754       2021     Senior-level/Expert       Full-Time  Data Science Manager   \n",
       "3755       2023      Entry-level/Junior       Full-Time          Data Analyst   \n",
       "\n",
       "     employee_residence  remote_ratio company_location company_size  \\\n",
       "3751                 US           100               US            L   \n",
       "3752                 US           100               US            S   \n",
       "3753                 US           100               US            L   \n",
       "3754                 IN            50               IN            L   \n",
       "3755                 US           100               US            L   \n",
       "\n",
       "     salary_level  \n",
       "3751      Level 2  \n",
       "3752      Level 2  \n",
       "3753      Level 2  \n",
       "3754      Level 1  \n",
       "3755      Level 1  "
      ]
     },
     "execution_count": 210,
     "metadata": {},
     "output_type": "execute_result"
    }
   ],
   "source": [
    "hight_input = {\n",
    "    'work_year': 2023,\n",
    "    'experience_level': 'Senior-level/Expert',\n",
    "    'employment_type': 'Full-Time',\n",
    "    'job_title': 'Data Science Manager',\n",
    "    'employee_residence': ['US'],\n",
    "    'remote_ratio': [100],\n",
    "    'company_location': ['US'],\n",
    "    'company_size': ['L'],\n",
    "    'salary_level': ['Level 1'] # we don't care about the label\n",
    "}\n",
    "\n",
    "low_intput = {\n",
    "    'work_year': 2023,\n",
    "    'experience_level': 'Entry-level/Junior',\n",
    "    'employment_type': 'Full-Time',\n",
    "    'job_title': 'Data Analyst',\n",
    "    'employee_residence': ['US'],\n",
    "    'remote_ratio': [100],\n",
    "    'company_location': ['US'],\n",
    "    'company_size': ['L'],\n",
    "    'salary_level': ['Level 1'] # we don't care about the label\n",
    "}\n",
    "\n",
    "input = low_intput\n",
    "\n",
    "data = pd.concat([data, pd.DataFrame(input)], ignore_index=True)\n",
    "data.tail()"
   ]
  },
  {
   "cell_type": "markdown",
   "metadata": {},
   "source": [
    "> 3. Convert the data to datasource for model prediction."
   ]
  },
  {
   "cell_type": "code",
   "execution_count": 211,
   "metadata": {},
   "outputs": [
    {
     "data": {
      "text/plain": [
       "work_year              int64\n",
       "experience_level      object\n",
       "employment_type       object\n",
       "job_title             object\n",
       "employee_residence    object\n",
       "remote_ratio           int64\n",
       "company_location      object\n",
       "company_size          object\n",
       "salary_level          object\n",
       "dtype: object"
      ]
     },
     "execution_count": 211,
     "metadata": {},
     "output_type": "execute_result"
    }
   ],
   "source": [
    "data.dtypes"
   ]
  },
  {
   "cell_type": "code",
   "execution_count": 212,
   "metadata": {},
   "outputs": [],
   "source": [
    "class DatasetConverter(Dataset):\n",
    "\n",
    "    # Initialization function for loading and preprocessing data\n",
    "    def __init__(self, data, transform=None):\n",
    "        # Create MinMaxScaler and OneHotEncoder for data preprocessing\n",
    "        minmax_scaler = MinMaxScaler()\n",
    "        onehot_enc = OneHotEncoder()\n",
    "\n",
    "        # Split data into categorical features, numerical features, and labels\n",
    "        categorical_features = data[data.select_dtypes(include=['object']).columns].drop('salary_level', axis=1)\n",
    "        categorical_columns = data.select_dtypes(include=['object']).columns\n",
    "        print(f'categorical_features=${categorical_columns}')\n",
    "\n",
    "        numerical_features = data[data.select_dtypes(exclude=['object']).columns]\n",
    "        numerical_columns = data.select_dtypes(exclude=['object']).columns\n",
    "        print(f'numerical_features=${numerical_columns}')\n",
    "        \n",
    "        label_features = data[['salary_level']]\n",
    "\n",
    "        # Normalize numerical features (MinMax normalization)\n",
    "        numerical_features_arr = minmax_scaler.fit_transform(numerical_features)\n",
    "\n",
    "        # Perform one-hot encoding on categorical features\n",
    "        categorical_features_arr = onehot_enc.fit_transform(categorical_features).toarray()\n",
    "\n",
    "        # After one-hot encoding categorical features, retrieve the encoded feature names\n",
    "        label_features = onehot_enc.fit_transform(label_features).toarray()\n",
    "\n",
    "        # Combine normalized numerical features and one-hot encoded categorical features into one dataset\n",
    "        combined_features = pd.DataFrame(data=numerical_features_arr, columns=numerical_features.columns)\n",
    "        combined_features = pd.concat([combined_features, pd.DataFrame(data=categorical_features_arr)], axis=1)\n",
    "        combined_features = pd.concat([combined_features, pd.DataFrame(data=label_features)], axis=1).reset_index(drop=True)\n",
    "\n",
    "        self.data = combined_features\n",
    "\n",
    "    # Returns the length of the dataset\n",
    "    def __len__(self):\n",
    "        return len(self.data)\n",
    "\n",
    "    # Function for retrieving features and labels for training the neural network\n",
    "    def __getitem__(self, idx):\n",
    "        # Retrieve the data from the ith row in the self.data DataFrame\n",
    "        sample = self.data.iloc[idx] \n",
    "        # Convert a data structure into a PyTorch tensor and specify the tensor's data type as float\n",
    "        features = torch.FloatTensor(sample[:-4])\n",
    "        label = torch.FloatTensor(sample[-4:])\n",
    "        return features, label\n",
    "\n",
    "    # Returns the entire dataset as a DataFrame\n",
    "    def getData(self):\n",
    "        return self.data\n"
   ]
  },
  {
   "cell_type": "code",
   "execution_count": 213,
   "metadata": {},
   "outputs": [
    {
     "name": "stdout",
     "output_type": "stream",
     "text": [
      "categorical_features=$Index(['experience_level', 'employment_type', 'job_title',\n",
      "       'employee_residence', 'company_location', 'company_size',\n",
      "       'salary_level'],\n",
      "      dtype='object')\n",
      "numerical_features=$Index(['work_year', 'remote_ratio'], dtype='object')\n",
      "categorical_features=$Index(['experience_level', 'employment_type', 'job_title',\n",
      "       'employee_residence', 'company_location', 'company_size',\n",
      "       'salary_level'],\n",
      "      dtype='object')\n",
      "numerical_features=$Index(['work_year', 'remote_ratio'], dtype='object')\n",
      "tensor_input = $tensor([1., 1., 1., 0., 0., 0., 0., 0., 1., 0., 0., 0., 1., 0., 0., 0., 0., 0.,\n",
      "        0., 0., 0., 0., 0., 0., 0., 0., 0., 0., 0., 0., 0., 0., 0., 0., 0., 0.,\n",
      "        0., 0., 0., 0., 0., 0., 0., 0., 0., 0., 0., 0., 0., 0., 0., 0., 0., 0.,\n",
      "        0., 0., 0., 0., 0., 0., 0., 0., 0., 0., 0., 0., 0., 0., 0., 0., 0., 0.,\n",
      "        0., 0., 0., 0., 0., 0., 0., 0., 0., 0., 0., 0., 0., 0., 0., 0., 0., 0.,\n",
      "        0., 0., 0., 0., 0., 0., 1., 0., 0., 0., 0., 0., 0., 0., 0., 0., 0., 0.,\n",
      "        0., 0., 0., 0., 0., 0., 0., 0., 0., 0., 0., 0., 0., 0., 0., 0., 0., 0.,\n",
      "        0., 0., 0., 0., 0., 0., 0., 0., 0., 0., 0., 0., 0., 0., 0., 0., 0., 0.,\n",
      "        0., 0., 0., 0., 0., 0., 0., 0., 0., 0., 0., 0., 0., 0., 0., 0., 0., 0.,\n",
      "        0., 0., 0., 0., 0., 0., 0., 1., 0., 1., 0.]), \n",
      "tensor_label = $tensor([0., 1., 0., 0.])\n"
     ]
    }
   ],
   "source": [
    "# -1 is for get the last row of the data\n",
    "tensor_input = DatasetConverter(data).__getitem__(-1)[0]\n",
    "tensor_label = DatasetConverter(data).__getitem__(-1)[1]\n",
    "print(f'tensor_input = ${tensor_input}, \\ntensor_label = ${tensor_label}')"
   ]
  },
  {
   "cell_type": "markdown",
   "metadata": {},
   "source": [
    "# P2.10 Request"
   ]
  },
  {
   "cell_type": "markdown",
   "metadata": {},
   "source": [
    "Request: If the professional provision does not lead to the desired results, changes to the technical and methodical provision can be requested.\n",
    "\n",
    "In this step, we give the mock data to the model and predict the value. If the result is not as expected, we can request changes to the technical and methodical provision."
   ]
  },
  {
   "cell_type": "code",
   "execution_count": 214,
   "metadata": {},
   "outputs": [
    {
     "ename": "FileNotFoundError",
     "evalue": "[Errno 2] No such file or directory: '../data/model/salary_pred.pt'",
     "output_type": "error",
     "traceback": [
      "\u001b[0;31m---------------------------------------------------------------------------\u001b[0m",
      "\u001b[0;31mFileNotFoundError\u001b[0m                         Traceback (most recent call last)",
      "Cell \u001b[0;32mIn[214], line 4\u001b[0m\n\u001b[1;32m      2\u001b[0m D_in, D_out \u001b[38;5;241m=\u001b[39m \u001b[38;5;241m174\u001b[39m, \u001b[38;5;241m4\u001b[39m\n\u001b[1;32m      3\u001b[0m pred_model \u001b[38;5;241m=\u001b[39m SalaryPredictor(D_in)\n\u001b[0;32m----> 4\u001b[0m pred_model\u001b[38;5;241m.\u001b[39mload_state_dict(\u001b[43mtorch\u001b[49m\u001b[38;5;241;43m.\u001b[39;49m\u001b[43mload\u001b[49m\u001b[43m(\u001b[49m\u001b[38;5;124;43m'\u001b[39;49m\u001b[38;5;124;43m../data/model/salary_pred.pt\u001b[39;49m\u001b[38;5;124;43m'\u001b[39;49m\u001b[43m)\u001b[49m)\n\u001b[1;32m      6\u001b[0m \u001b[38;5;66;03m# predict the salary level of the new data\u001b[39;00m\n\u001b[1;32m      7\u001b[0m \u001b[38;5;28;01mwith\u001b[39;00m torch\u001b[38;5;241m.\u001b[39mno_grad():\n\u001b[1;32m      8\u001b[0m     \u001b[38;5;66;03m# get the last row of the data\u001b[39;00m\n",
      "File \u001b[0;32m~/anaconda3/envs/ai/lib/python3.11/site-packages/torch/serialization.py:986\u001b[0m, in \u001b[0;36mload\u001b[0;34m(f, map_location, pickle_module, weights_only, mmap, **pickle_load_args)\u001b[0m\n\u001b[1;32m    983\u001b[0m \u001b[38;5;28;01mif\u001b[39;00m \u001b[38;5;124m'\u001b[39m\u001b[38;5;124mencoding\u001b[39m\u001b[38;5;124m'\u001b[39m \u001b[38;5;129;01mnot\u001b[39;00m \u001b[38;5;129;01min\u001b[39;00m pickle_load_args\u001b[38;5;241m.\u001b[39mkeys():\n\u001b[1;32m    984\u001b[0m     pickle_load_args[\u001b[38;5;124m'\u001b[39m\u001b[38;5;124mencoding\u001b[39m\u001b[38;5;124m'\u001b[39m] \u001b[38;5;241m=\u001b[39m \u001b[38;5;124m'\u001b[39m\u001b[38;5;124mutf-8\u001b[39m\u001b[38;5;124m'\u001b[39m\n\u001b[0;32m--> 986\u001b[0m \u001b[38;5;28;01mwith\u001b[39;00m \u001b[43m_open_file_like\u001b[49m\u001b[43m(\u001b[49m\u001b[43mf\u001b[49m\u001b[43m,\u001b[49m\u001b[43m \u001b[49m\u001b[38;5;124;43m'\u001b[39;49m\u001b[38;5;124;43mrb\u001b[39;49m\u001b[38;5;124;43m'\u001b[39;49m\u001b[43m)\u001b[49m \u001b[38;5;28;01mas\u001b[39;00m opened_file:\n\u001b[1;32m    987\u001b[0m     \u001b[38;5;28;01mif\u001b[39;00m _is_zipfile(opened_file):\n\u001b[1;32m    988\u001b[0m         \u001b[38;5;66;03m# The zipfile reader is going to advance the current file position.\u001b[39;00m\n\u001b[1;32m    989\u001b[0m         \u001b[38;5;66;03m# If we want to actually tail call to torch.jit.load, we need to\u001b[39;00m\n\u001b[1;32m    990\u001b[0m         \u001b[38;5;66;03m# reset back to the original position.\u001b[39;00m\n\u001b[1;32m    991\u001b[0m         orig_position \u001b[38;5;241m=\u001b[39m opened_file\u001b[38;5;241m.\u001b[39mtell()\n",
      "File \u001b[0;32m~/anaconda3/envs/ai/lib/python3.11/site-packages/torch/serialization.py:435\u001b[0m, in \u001b[0;36m_open_file_like\u001b[0;34m(name_or_buffer, mode)\u001b[0m\n\u001b[1;32m    433\u001b[0m \u001b[38;5;28;01mdef\u001b[39;00m \u001b[38;5;21m_open_file_like\u001b[39m(name_or_buffer, mode):\n\u001b[1;32m    434\u001b[0m     \u001b[38;5;28;01mif\u001b[39;00m _is_path(name_or_buffer):\n\u001b[0;32m--> 435\u001b[0m         \u001b[38;5;28;01mreturn\u001b[39;00m \u001b[43m_open_file\u001b[49m\u001b[43m(\u001b[49m\u001b[43mname_or_buffer\u001b[49m\u001b[43m,\u001b[49m\u001b[43m \u001b[49m\u001b[43mmode\u001b[49m\u001b[43m)\u001b[49m\n\u001b[1;32m    436\u001b[0m     \u001b[38;5;28;01melse\u001b[39;00m:\n\u001b[1;32m    437\u001b[0m         \u001b[38;5;28;01mif\u001b[39;00m \u001b[38;5;124m'\u001b[39m\u001b[38;5;124mw\u001b[39m\u001b[38;5;124m'\u001b[39m \u001b[38;5;129;01min\u001b[39;00m mode:\n",
      "File \u001b[0;32m~/anaconda3/envs/ai/lib/python3.11/site-packages/torch/serialization.py:416\u001b[0m, in \u001b[0;36m_open_file.__init__\u001b[0;34m(self, name, mode)\u001b[0m\n\u001b[1;32m    415\u001b[0m \u001b[38;5;28;01mdef\u001b[39;00m \u001b[38;5;21m__init__\u001b[39m(\u001b[38;5;28mself\u001b[39m, name, mode):\n\u001b[0;32m--> 416\u001b[0m     \u001b[38;5;28msuper\u001b[39m()\u001b[38;5;241m.\u001b[39m\u001b[38;5;21m__init__\u001b[39m(\u001b[38;5;28mopen\u001b[39m(name, mode))\n",
      "\u001b[0;31mFileNotFoundError\u001b[0m: [Errno 2] No such file or directory: '../data/model/salary_pred.pt'"
     ]
    }
   ],
   "source": [
    "# load the model from disk\n",
    "D_in, D_out = 174, 4\n",
    "pred_model = SalaryPredictor(D_in)\n",
    "pred_model.load_state_dict(torch.load('../data/model/salary_pred.pt'))\n",
    "\n",
    "# predict the salary level of the new data\n",
    "with torch.no_grad():\n",
    "    # get the last row of the data\n",
    "    tensor_data = DatasetConverter(data).__getitem__(-1)\n",
    "    input = tensor_data[0]\n",
    "    output = pred_model(input)\n",
    "    print(f'output = ${output}')\n",
    "    pred = torch.argmax(output).item()\n",
    "    print('The predicted salary level is:', pred)"
   ]
  }
 ],
 "metadata": {
  "kernelspec": {
   "display_name": "aienv",
   "language": "python",
   "name": "python3"
  },
  "language_info": {
   "codemirror_mode": {
    "name": "ipython",
    "version": 3
   },
   "file_extension": ".py",
   "mimetype": "text/x-python",
   "name": "python",
   "nbconvert_exporter": "python",
   "pygments_lexer": "ipython3",
   "version": "3.11.4"
  }
 },
 "nbformat": 4,
 "nbformat_minor": 2
}
