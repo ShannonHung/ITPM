{
 "cells": [
  {
   "cell_type": "markdown",
   "metadata": {},
   "source": [
    "# Analytical Data Source"
   ]
  },
  {
   "cell_type": "markdown",
   "metadata": {},
   "source": [
    "### D.1 Select"
   ]
  },
  {
   "cell_type": "markdown",
   "metadata": {},
   "source": [
    "Select: Selecting the analysis results for the technical and methodical provision.\n",
    "\n",
    "Choosing analysis outcomes for technical and systematic planning."
   ]
  },
  {
   "cell_type": "code",
   "execution_count": 37,
   "metadata": {},
   "outputs": [],
   "source": [
    "import torch\n",
    "import torch.nn as nn\n",
    "import torch.optim as optim\n",
    "from torch.utils.data import Dataset, DataLoader\n",
    "from sklearn.model_selection import train_test_split\n",
    "from sklearn.preprocessing import OneHotEncoder, MinMaxScaler\n",
    "import pandas as pd\n",
    "import numpy as np\n",
    "from torch.optim import lr_scheduler\n",
    "import time\n",
    "import os\n",
    "from tempfile import TemporaryDirectory\n",
    "\n",
    "df = pd.read_csv('../data/ds_salaries_cleaned.csv')\n",
    "\n"
   ]
  },
  {
   "cell_type": "code",
   "execution_count": 64,
   "metadata": {},
   "outputs": [],
   "source": [
    "# model 3 \n",
    "# features = torch.FloatTensor(sample[:-3])\n",
    "# percentiles_arr = [25, 50]\n",
    "# labels = ['Level 1', 'Level 2', 'Level 3']\n",
    "# D_in, D_out = 256, 3 # 177 \n",
    "\n",
    "# # model 4\n",
    "# features = torch.FloatTensor(sample[:-4])\n",
    "percentiles_arr = [25, 50, 75]\n",
    "labels = ['Level 1', 'Level 2', 'Level 3', 'Level 4']\n",
    "D_in, D_out = 256, 4 # 178 \n",
    "\n",
    "# model 4\n",
    "# features = torch.FloatTensor(sample[:-2])\n",
    "# percentiles_arr = [50]\n",
    "# labels = ['Level 1', 'Level 2']\n",
    "# D_in, D_out = 256, 2 # 176\n"
   ]
  },
  {
   "cell_type": "markdown",
   "metadata": {},
   "source": [
    "### D.2 Request"
   ]
  },
  {
   "cell_type": "markdown",
   "metadata": {},
   "source": [
    "Request: If the analysis results do not suit the intended technical and methodical provision, changes can be requested. \n",
    "\n",
    "The analysis results meet expectations, so skip this step."
   ]
  },
  {
   "cell_type": "markdown",
   "metadata": {},
   "source": [
    "### D.3 Select"
   ]
  },
  {
   "cell_type": "markdown",
   "metadata": {},
   "source": [
    "Select: This process aligns well with the requirement that data selected for technical and methodical provision should be appropriately prepared. If new data are introduced, they should be processed in the same manner to ensure consistency with the original model's data characteristics.\n",
    "\n",
    "We calculate the 25th, 50th, and 75th percentiles of salaries in the 'salary_in_usd' column of the DataFrame df and define four salary levels based on these percentiles. Even add a new row data, the following function can still be used. "
   ]
  },
  {
   "cell_type": "code",
   "execution_count": 39,
   "metadata": {},
   "outputs": [],
   "source": [
    "# calculate the percentiles\n",
    "def convertData(data):\n",
    "    \n",
    "    percentiles = np.percentile(df['salary_in_usd'], percentiles_arr)  # 25th, 50th, 75th percentiles\n",
    "    print(percentiles)\n",
    "\n",
    "    # print the meaning of label \n",
    "    for i in range(len(labels)):\n",
    "        if i == 0:\n",
    "            print('Level 1: < {:.2f} USD'.format(percentiles[i]))\n",
    "        elif i == len(labels) - 1:\n",
    "            print('Level {}: > {:.2f} USD'.format(i+1, percentiles[i-1]))\n",
    "        else:\n",
    "            print('Level {}: {:.2f} ~ {:.2f} USD'.format(i+1, percentiles[i-1], percentiles[i]))\n",
    "\n",
    "\n",
    "    #  -np.inf, np.inf be the lower and upper bounds of the bins\n",
    "    # *percentiles: base on the percentiles to cut the bins and generate the salary levels for being the labels of training data\n",
    "    df['salary_level'] = pd.cut(df['salary_in_usd'], bins=[-np.inf, *percentiles, np.inf], labels=labels)\n",
    "    data = df.drop(['salary_in_usd'], axis=1) # we cannot put the label into the training data\n",
    "    print(\"\\nThe data of each salary level is balanced.\")\n",
    "    print(data['salary_level'].value_counts())\n",
    "    return data\n",
    "\n"
   ]
  },
  {
   "cell_type": "markdown",
   "metadata": {},
   "source": [
    "### D.4 Request"
   ]
  },
  {
   "cell_type": "markdown",
   "metadata": {},
   "source": [
    "Request: If the selected data do not suit the intended technical and methodical provision, changes can be requested. \n",
    "\n",
    "The selected data suit the intended technical and methodical provision,so skip this step. "
   ]
  },
  {
   "cell_type": "markdown",
   "metadata": {},
   "source": [
    "### D.5 Check"
   ]
  },
  {
   "cell_type": "markdown",
   "metadata": {},
   "source": [
    "Check: During the technical and methodical provision, the applicability must be checked by the target group for the analysis. \n",
    "\n",
    "We check by the target group for the analysis. It check the data is balanced or not and calculate each salary level's data"
   ]
  },
  {
   "cell_type": "code",
   "execution_count": 40,
   "metadata": {},
   "outputs": [
    {
     "name": "stdout",
     "output_type": "stream",
     "text": [
      "[ 95000. 135000. 175000.]\n",
      "Level 1: < 95000.00 USD\n",
      "Level 2: 95000.00 ~ 135000.00 USD\n",
      "Level 3: 135000.00 ~ 175000.00 USD\n",
      "Level 4: > 175000.00 USD\n",
      "\n",
      "The data of each salary level is balanced.\n",
      "salary_level\n",
      "Level 2    967\n",
      "Level 1    956\n",
      "Level 4    932\n",
      "Level 3    900\n",
      "Name: count, dtype: int64\n"
     ]
    },
    {
     "data": {
      "text/html": [
       "<div>\n",
       "<style scoped>\n",
       "    .dataframe tbody tr th:only-of-type {\n",
       "        vertical-align: middle;\n",
       "    }\n",
       "\n",
       "    .dataframe tbody tr th {\n",
       "        vertical-align: top;\n",
       "    }\n",
       "\n",
       "    .dataframe thead th {\n",
       "        text-align: right;\n",
       "    }\n",
       "</style>\n",
       "<table border=\"1\" class=\"dataframe\">\n",
       "  <thead>\n",
       "    <tr style=\"text-align: right;\">\n",
       "      <th></th>\n",
       "      <th>work_year</th>\n",
       "      <th>experience_level</th>\n",
       "      <th>employment_type</th>\n",
       "      <th>job_title</th>\n",
       "      <th>employee_residence</th>\n",
       "      <th>remote_ratio</th>\n",
       "      <th>company_location</th>\n",
       "      <th>company_size</th>\n",
       "      <th>salary_level</th>\n",
       "    </tr>\n",
       "  </thead>\n",
       "  <tbody>\n",
       "    <tr>\n",
       "      <th>0</th>\n",
       "      <td>2023</td>\n",
       "      <td>Senior-level/Expert</td>\n",
       "      <td>Full-Time</td>\n",
       "      <td>Principal Data Scientist</td>\n",
       "      <td>ES</td>\n",
       "      <td>100</td>\n",
       "      <td>ES</td>\n",
       "      <td>L</td>\n",
       "      <td>Level 1</td>\n",
       "    </tr>\n",
       "    <tr>\n",
       "      <th>1</th>\n",
       "      <td>2023</td>\n",
       "      <td>Mid-level/Intermediate</td>\n",
       "      <td>Contract</td>\n",
       "      <td>ML Engineer</td>\n",
       "      <td>US</td>\n",
       "      <td>100</td>\n",
       "      <td>US</td>\n",
       "      <td>S</td>\n",
       "      <td>Level 1</td>\n",
       "    </tr>\n",
       "    <tr>\n",
       "      <th>2</th>\n",
       "      <td>2023</td>\n",
       "      <td>Mid-level/Intermediate</td>\n",
       "      <td>Contract</td>\n",
       "      <td>ML Engineer</td>\n",
       "      <td>US</td>\n",
       "      <td>100</td>\n",
       "      <td>US</td>\n",
       "      <td>S</td>\n",
       "      <td>Level 1</td>\n",
       "    </tr>\n",
       "    <tr>\n",
       "      <th>3</th>\n",
       "      <td>2023</td>\n",
       "      <td>Senior-level/Expert</td>\n",
       "      <td>Full-Time</td>\n",
       "      <td>Data Scientist</td>\n",
       "      <td>CA</td>\n",
       "      <td>100</td>\n",
       "      <td>CA</td>\n",
       "      <td>M</td>\n",
       "      <td>Level 3</td>\n",
       "    </tr>\n",
       "    <tr>\n",
       "      <th>4</th>\n",
       "      <td>2023</td>\n",
       "      <td>Senior-level/Expert</td>\n",
       "      <td>Full-Time</td>\n",
       "      <td>Data Scientist</td>\n",
       "      <td>CA</td>\n",
       "      <td>100</td>\n",
       "      <td>CA</td>\n",
       "      <td>M</td>\n",
       "      <td>Level 2</td>\n",
       "    </tr>\n",
       "    <tr>\n",
       "      <th>...</th>\n",
       "      <td>...</td>\n",
       "      <td>...</td>\n",
       "      <td>...</td>\n",
       "      <td>...</td>\n",
       "      <td>...</td>\n",
       "      <td>...</td>\n",
       "      <td>...</td>\n",
       "      <td>...</td>\n",
       "      <td>...</td>\n",
       "    </tr>\n",
       "    <tr>\n",
       "      <th>3750</th>\n",
       "      <td>2020</td>\n",
       "      <td>Senior-level/Expert</td>\n",
       "      <td>Full-Time</td>\n",
       "      <td>Data Scientist</td>\n",
       "      <td>US</td>\n",
       "      <td>100</td>\n",
       "      <td>US</td>\n",
       "      <td>L</td>\n",
       "      <td>Level 4</td>\n",
       "    </tr>\n",
       "    <tr>\n",
       "      <th>3751</th>\n",
       "      <td>2021</td>\n",
       "      <td>Mid-level/Intermediate</td>\n",
       "      <td>Full-Time</td>\n",
       "      <td>Principal Data Scientist</td>\n",
       "      <td>US</td>\n",
       "      <td>100</td>\n",
       "      <td>US</td>\n",
       "      <td>L</td>\n",
       "      <td>Level 3</td>\n",
       "    </tr>\n",
       "    <tr>\n",
       "      <th>3752</th>\n",
       "      <td>2020</td>\n",
       "      <td>Entry-level/Junior</td>\n",
       "      <td>Full-Time</td>\n",
       "      <td>Data Scientist</td>\n",
       "      <td>US</td>\n",
       "      <td>100</td>\n",
       "      <td>US</td>\n",
       "      <td>S</td>\n",
       "      <td>Level 2</td>\n",
       "    </tr>\n",
       "    <tr>\n",
       "      <th>3753</th>\n",
       "      <td>2020</td>\n",
       "      <td>Entry-level/Junior</td>\n",
       "      <td>Contract</td>\n",
       "      <td>Business Data Analyst</td>\n",
       "      <td>US</td>\n",
       "      <td>100</td>\n",
       "      <td>US</td>\n",
       "      <td>L</td>\n",
       "      <td>Level 2</td>\n",
       "    </tr>\n",
       "    <tr>\n",
       "      <th>3754</th>\n",
       "      <td>2021</td>\n",
       "      <td>Senior-level/Expert</td>\n",
       "      <td>Full-Time</td>\n",
       "      <td>Data Science Manager</td>\n",
       "      <td>IN</td>\n",
       "      <td>50</td>\n",
       "      <td>IN</td>\n",
       "      <td>L</td>\n",
       "      <td>Level 1</td>\n",
       "    </tr>\n",
       "  </tbody>\n",
       "</table>\n",
       "<p>3755 rows × 9 columns</p>\n",
       "</div>"
      ],
      "text/plain": [
       "      work_year        experience_level employment_type  \\\n",
       "0          2023     Senior-level/Expert       Full-Time   \n",
       "1          2023  Mid-level/Intermediate        Contract   \n",
       "2          2023  Mid-level/Intermediate        Contract   \n",
       "3          2023     Senior-level/Expert       Full-Time   \n",
       "4          2023     Senior-level/Expert       Full-Time   \n",
       "...         ...                     ...             ...   \n",
       "3750       2020     Senior-level/Expert       Full-Time   \n",
       "3751       2021  Mid-level/Intermediate       Full-Time   \n",
       "3752       2020      Entry-level/Junior       Full-Time   \n",
       "3753       2020      Entry-level/Junior        Contract   \n",
       "3754       2021     Senior-level/Expert       Full-Time   \n",
       "\n",
       "                     job_title employee_residence  remote_ratio  \\\n",
       "0     Principal Data Scientist                 ES           100   \n",
       "1                  ML Engineer                 US           100   \n",
       "2                  ML Engineer                 US           100   \n",
       "3               Data Scientist                 CA           100   \n",
       "4               Data Scientist                 CA           100   \n",
       "...                        ...                ...           ...   \n",
       "3750            Data Scientist                 US           100   \n",
       "3751  Principal Data Scientist                 US           100   \n",
       "3752            Data Scientist                 US           100   \n",
       "3753     Business Data Analyst                 US           100   \n",
       "3754      Data Science Manager                 IN            50   \n",
       "\n",
       "     company_location company_size salary_level  \n",
       "0                  ES            L      Level 1  \n",
       "1                  US            S      Level 1  \n",
       "2                  US            S      Level 1  \n",
       "3                  CA            M      Level 3  \n",
       "4                  CA            M      Level 2  \n",
       "...               ...          ...          ...  \n",
       "3750               US            L      Level 4  \n",
       "3751               US            L      Level 3  \n",
       "3752               US            S      Level 2  \n",
       "3753               US            L      Level 2  \n",
       "3754               IN            L      Level 1  \n",
       "\n",
       "[3755 rows x 9 columns]"
      ]
     },
     "execution_count": 40,
     "metadata": {},
     "output_type": "execute_result"
    }
   ],
   "source": [
    "data = convertData(df)\n",
    "data\n",
    "# each number of salary level have approximately the same number of data which occupy 25% of the whole data"
   ]
  },
  {
   "cell_type": "markdown",
   "metadata": {},
   "source": [
    "### D.6 Apply"
   ]
  },
  {
   "cell_type": "markdown",
   "metadata": {},
   "source": [
    "Apply: Identified opportunities for ensuring applicability must be considered during the technical and methodical provision.\n",
    "\n",
    "We create the function to convert the data for training and testing, ensuring applicability by turning the data into tensors and normalizing it, while considering identified opportunities during the technical and methodical provision."
   ]
  },
  {
   "cell_type": "code",
   "execution_count": 41,
   "metadata": {},
   "outputs": [],
   "source": [
    "class SalaryDataset(Dataset):\n",
    "\n",
    "    # Initialization function for loading and preprocessing data\n",
    "    def __init__(self, data, train=True, transform=None):\n",
    "        self.out_size = D_out * (-1)\n",
    "        # The 'train' parameter indicates whether the data is for training or testing\n",
    "        self.train = train\n",
    "\n",
    "        # Create MinMaxScaler and OneHotEncoder for data preprocessing\n",
    "        minmax_scaler = MinMaxScaler()\n",
    "        onehot_enc = OneHotEncoder()\n",
    "\n",
    "        # 將數據分為類別特徵、數值特徵和標籤\n",
    "        categorical_features = data[data.select_dtypes(include=['object']).columns]\n",
    "        numerical_features = data[data.select_dtypes(exclude=['object']).columns].drop('salary_level', axis=1)\n",
    "        label_features = data[['salary_level']]\n",
    "\n",
    "        # 對數值特徵進行歸一化（MinMax 歸一化）\n",
    "        numerical_features_arr = minmax_scaler.fit_transform(numerical_features)\n",
    "\n",
    "        # 對類別特徵進行獨熱編碼\n",
    "        categorical_features_arr = onehot_enc.fit_transform(categorical_features).toarray()\n",
    "\n",
    "        # 對類別特徵進行one-hot編碼後，獲取編碼後的特徵名稱\n",
    "        label_features = onehot_enc.fit_transform(label_features).toarray()\n",
    "\n",
    "        # 將歸一化的數值特徵和獨熱編碼後的類別特徵合併成一個數據集\n",
    "        combined_features = pd.DataFrame(data=numerical_features_arr, columns=numerical_features.columns)\n",
    "        combined_features = pd.concat([combined_features, pd.DataFrame(data=categorical_features_arr)], axis=1)\n",
    "        combined_features = pd.concat([combined_features, pd.DataFrame(data=label_features)], axis=1).reset_index(drop=True)\n",
    "\n",
    "        # Split the dataset into training and testing sets\n",
    "        train_data, test_data = train_test_split(combined_features, test_size=0.2, random_state=42)\n",
    "        print(\"train_data Shape:\", train_data.shape)\n",
    "        # Choose the data to use based on the training or testing mode\n",
    "        if train:\n",
    "            self.data = train_data\n",
    "        else:\n",
    "            self.data = test_data\n",
    "\n",
    "    # Returns the length of the dataset\n",
    "    def __len__(self):\n",
    "        return len(self.data)\n",
    "\n",
    "    # Function for training the neural network, returns features and labels\n",
    "    def __getitem__(self, idx):\n",
    "        # Retrieve the data from the ith row in the self.data DataFrame\n",
    "        sample = self.data.iloc[idx] \n",
    "        # Convert a data structure into a PyTorch tensor and specify the tensor's data type as float\n",
    "        features = torch.FloatTensor(sample[:self.out_size])\n",
    "        label = torch.FloatTensor(sample[self.out_size:])\n",
    "        return features, label\n",
    "\n",
    "    # Returns the entire dataset as a DataFrame\n",
    "    def getData(self):\n",
    "        return self.data\n"
   ]
  },
  {
   "cell_type": "markdown",
   "metadata": {},
   "source": [
    "### D.7 Check"
   ]
  },
  {
   "cell_type": "markdown",
   "metadata": {},
   "source": [
    "Check: During the technical and methodical provision, technical requirements must be examined.\n",
    "\n",
    "Create«"
   ]
  },
  {
   "cell_type": "code",
   "execution_count": 42,
   "metadata": {},
   "outputs": [
    {
     "name": "stdout",
     "output_type": "stream",
     "text": [
      "work_year                int64\n",
      "experience_level        object\n",
      "employment_type         object\n",
      "job_title               object\n",
      "employee_residence      object\n",
      "remote_ratio             int64\n",
      "company_location        object\n",
      "company_size            object\n",
      "salary_level          category\n",
      "dtype: object\n"
     ]
    }
   ],
   "source": [
    "# print data column types\n",
    "print(data.dtypes)"
   ]
  },
  {
   "cell_type": "code",
   "execution_count": 43,
   "metadata": {},
   "outputs": [
    {
     "name": "stdout",
     "output_type": "stream",
     "text": [
      "train_data Shape: (3004, 260)\n",
      "train_data Shape: (3004, 260)\n",
      "train_dataset len: 3004\n",
      "val_dataset len: 751\n",
      "total_dataset len: 3755\n"
     ]
    }
   ],
   "source": [
    "train_dataset = SalaryDataset(data, train=True) \n",
    "test_dataset = SalaryDataset(data, train=False)\n",
    "print('train_dataset len:', len(train_dataset))\n",
    "print('val_dataset len:', len(test_dataset))\n",
    "print('total_dataset len:', len(train_dataset) + len(test_dataset))"
   ]
  },
  {
   "cell_type": "code",
   "execution_count": 44,
   "metadata": {},
   "outputs": [
    {
     "data": {
      "text/plain": [
       "(3004, 260)"
      ]
     },
     "execution_count": 44,
     "metadata": {},
     "output_type": "execute_result"
    }
   ],
   "source": [
    "train_dataset.getData().shape"
   ]
  },
  {
   "cell_type": "code",
   "execution_count": 45,
   "metadata": {},
   "outputs": [
    {
     "data": {
      "text/html": [
       "<div>\n",
       "<style scoped>\n",
       "    .dataframe tbody tr th:only-of-type {\n",
       "        vertical-align: middle;\n",
       "    }\n",
       "\n",
       "    .dataframe tbody tr th {\n",
       "        vertical-align: top;\n",
       "    }\n",
       "\n",
       "    .dataframe thead th {\n",
       "        text-align: right;\n",
       "    }\n",
       "</style>\n",
       "<table border=\"1\" class=\"dataframe\">\n",
       "  <thead>\n",
       "    <tr style=\"text-align: right;\">\n",
       "      <th></th>\n",
       "      <th>work_year</th>\n",
       "      <th>experience_level</th>\n",
       "      <th>employment_type</th>\n",
       "      <th>job_title</th>\n",
       "      <th>employee_residence</th>\n",
       "      <th>remote_ratio</th>\n",
       "      <th>company_location</th>\n",
       "      <th>company_size</th>\n",
       "      <th>salary_level</th>\n",
       "    </tr>\n",
       "  </thead>\n",
       "  <tbody>\n",
       "    <tr>\n",
       "      <th>0</th>\n",
       "      <td>2023</td>\n",
       "      <td>Senior-level/Expert</td>\n",
       "      <td>Full-Time</td>\n",
       "      <td>Principal Data Scientist</td>\n",
       "      <td>ES</td>\n",
       "      <td>100</td>\n",
       "      <td>ES</td>\n",
       "      <td>L</td>\n",
       "      <td>Level 1</td>\n",
       "    </tr>\n",
       "    <tr>\n",
       "      <th>1</th>\n",
       "      <td>2023</td>\n",
       "      <td>Mid-level/Intermediate</td>\n",
       "      <td>Contract</td>\n",
       "      <td>ML Engineer</td>\n",
       "      <td>US</td>\n",
       "      <td>100</td>\n",
       "      <td>US</td>\n",
       "      <td>S</td>\n",
       "      <td>Level 1</td>\n",
       "    </tr>\n",
       "    <tr>\n",
       "      <th>2</th>\n",
       "      <td>2023</td>\n",
       "      <td>Mid-level/Intermediate</td>\n",
       "      <td>Contract</td>\n",
       "      <td>ML Engineer</td>\n",
       "      <td>US</td>\n",
       "      <td>100</td>\n",
       "      <td>US</td>\n",
       "      <td>S</td>\n",
       "      <td>Level 1</td>\n",
       "    </tr>\n",
       "    <tr>\n",
       "      <th>3</th>\n",
       "      <td>2023</td>\n",
       "      <td>Senior-level/Expert</td>\n",
       "      <td>Full-Time</td>\n",
       "      <td>Data Scientist</td>\n",
       "      <td>CA</td>\n",
       "      <td>100</td>\n",
       "      <td>CA</td>\n",
       "      <td>M</td>\n",
       "      <td>Level 3</td>\n",
       "    </tr>\n",
       "    <tr>\n",
       "      <th>4</th>\n",
       "      <td>2023</td>\n",
       "      <td>Senior-level/Expert</td>\n",
       "      <td>Full-Time</td>\n",
       "      <td>Data Scientist</td>\n",
       "      <td>CA</td>\n",
       "      <td>100</td>\n",
       "      <td>CA</td>\n",
       "      <td>M</td>\n",
       "      <td>Level 2</td>\n",
       "    </tr>\n",
       "  </tbody>\n",
       "</table>\n",
       "</div>"
      ],
      "text/plain": [
       "   work_year        experience_level employment_type  \\\n",
       "0       2023     Senior-level/Expert       Full-Time   \n",
       "1       2023  Mid-level/Intermediate        Contract   \n",
       "2       2023  Mid-level/Intermediate        Contract   \n",
       "3       2023     Senior-level/Expert       Full-Time   \n",
       "4       2023     Senior-level/Expert       Full-Time   \n",
       "\n",
       "                  job_title employee_residence  remote_ratio company_location  \\\n",
       "0  Principal Data Scientist                 ES           100               ES   \n",
       "1               ML Engineer                 US           100               US   \n",
       "2               ML Engineer                 US           100               US   \n",
       "3            Data Scientist                 CA           100               CA   \n",
       "4            Data Scientist                 CA           100               CA   \n",
       "\n",
       "  company_size salary_level  \n",
       "0            L      Level 1  \n",
       "1            S      Level 1  \n",
       "2            S      Level 1  \n",
       "3            M      Level 3  \n",
       "4            M      Level 2  "
      ]
     },
     "execution_count": 45,
     "metadata": {},
     "output_type": "execute_result"
    }
   ],
   "source": [
    "data.head()"
   ]
  },
  {
   "cell_type": "markdown",
   "metadata": {},
   "source": [
    "### D.8 Apply "
   ]
  },
  {
   "cell_type": "markdown",
   "metadata": {},
   "source": [
    "Apply: Any technical impossibilities for implementation identified must be considered during the technical and methodical provision.\n",
    "\n",
    "It involves technical setup for handling data, which is a crucial part of the methodical provision in machine learning or data processing projects. Ensuring the correct handling and sizing of datasets is vital to the success of such projects, and any technical impossibilities or limitations identified in this area must be addressed."
   ]
  },
  {
   "cell_type": "code",
   "execution_count": 46,
   "metadata": {},
   "outputs": [
    {
     "data": {
      "text/plain": [
       "{'train': 3004, 'test': 751}"
      ]
     },
     "execution_count": 46,
     "metadata": {},
     "output_type": "execute_result"
    }
   ],
   "source": [
    "# Create DataLoader for training and testing datasets \n",
    "dataloaders = {'train': train_dataset, 'test': test_dataset}\n",
    "dataset_sizes = {x: len(dataloaders[x]) for x in ['train', 'test']}\n",
    "dataset_sizes"
   ]
  },
  {
   "cell_type": "markdown",
   "metadata": {},
   "source": [
    "The function for training and testing data is created.\n",
    "This will train 25 epochs, and save the best model during training. "
   ]
  },
  {
   "cell_type": "code",
   "execution_count": 47,
   "metadata": {},
   "outputs": [],
   "source": [
    "def train_model(model, criterion, optimizer, scheduler, num_epochs=1):\n",
    "    since = time.time()\n",
    "    with TemporaryDirectory() as tempdir:\n",
    "        # Path to save the best model parameters\n",
    "        best_model_params_path = os.path.join(tempdir, 'best_model_params.pt')\n",
    "        torch.save(model.state_dict(), best_model_params_path)\n",
    "        best_acc = 0.0\n",
    "\n",
    "        for epoch in range(num_epochs):\n",
    "            print(f'Epoch {epoch}/{num_epochs - 1}')\n",
    "            print('-' * 10)\n",
    "\n",
    "            # Each epoch has a training and validation phase\n",
    "            for phase in ['train', 'test']:\n",
    "                # Set model to training mode or evaluation mode\n",
    "                if phase == 'train':\n",
    "                    model.train()  # Training mode\n",
    "                else: \n",
    "                    model.eval()   # Evaluation mode\n",
    "                \n",
    "                running_loss = 0.0\n",
    "                running_corrects = 0\n",
    "\n",
    "                # Iterate over data.\n",
    "                for inputs_vector, labels_vector in dataloaders[phase]:\n",
    "\n",
    "                    # Zero the parameter gradients\n",
    "                    optimizer.zero_grad()\n",
    "\n",
    "                    # Forward pass: compute predicted outputs by passing inputs to the model\n",
    "                    with torch.set_grad_enabled(phase == 'train'):\n",
    "                        outputs = model(inputs_vector)\n",
    "\n",
    "                        # Predictions and actual results\n",
    "                        pred = torch.argmax(outputs).item()\n",
    "                        result = torch.argmax(labels_vector).item()\n",
    "                        # Calculate loss\n",
    "                        loss = criterion(outputs, labels_vector)\n",
    "\n",
    "                        # Backward pass and optimize only if in training phase\n",
    "                        if phase == 'train':\n",
    "                            loss.backward()\n",
    "                            optimizer.step()\n",
    "\n",
    "                    # Statistics: accumulate loss and count correct predictions\n",
    "                    running_loss += loss.item()\n",
    "                    if pred == result:\n",
    "                        running_corrects += 1\n",
    "\n",
    "                # Learning rate scheduler step in training phase\n",
    "                if phase == 'train':\n",
    "                    scheduler.step()\n",
    "\n",
    "                # Calculate loss and accuracy for each epoch\n",
    "                epoch_loss = running_loss / dataset_sizes[phase]\n",
    "                epoch_acc = running_corrects / dataset_sizes[phase]\n",
    "                if phase == 'train':\n",
    "                    train_acc.append(epoch_acc)\n",
    "                else:\n",
    "                    test_acc.append(epoch_acc)\n",
    "                print(f'{phase} Loss: {epoch_loss:.4f} Acc: {epoch_acc:.4f} Time elapsed: {round((time.time() - since))} sec.')\n",
    "                \n",
    "                # Save the model if it has the best accuracy so far\n",
    "                if phase == 'test' and epoch_acc > best_acc:\n",
    "                    best_acc = epoch_acc\n",
    "                    torch.save(model.state_dict(), best_model_params_path)\n",
    "\n",
    "            print()\n",
    "\n",
    "        # Print out total time for training and the best accuracy\n",
    "        time_elapsed = time.time() - since\n",
    "        print(f'Training complete in {time_elapsed // 60:.0f}m {time_elapsed % 60:.0f}s')\n",
    "        print(f'Best val Acc: {best_acc:4f}')\n",
    "\n",
    "        # Load the best model weights before proceeding to the next epoch\n",
    "        model.load_state_dict(torch.load(best_model_params_path))\n",
    "    return model\n"
   ]
  },
  {
   "cell_type": "markdown",
   "metadata": {},
   "source": [
    "Create a neural network model"
   ]
  },
  {
   "cell_type": "code",
   "execution_count": 48,
   "metadata": {},
   "outputs": [],
   "source": [
    "class SalaryPredictor(nn.Module):\n",
    "    def __init__(self, input_size, output_size):\n",
    "        super(SalaryPredictor, self).__init__()\n",
    "        self.layer1 = nn.Linear(input_size, 64)\n",
    "        self.layer2 = nn.Linear(64, 32)\n",
    "        # self.layer3 = nn.Linear(32, 16)\n",
    "        # self.layer4 = nn.Linear(16, 8)\n",
    "        self.output_layer = nn.Linear(32, output_size)\n",
    "    \n",
    "    def forward(self, x):\n",
    "        x = torch.relu(self.layer1(x))\n",
    "        x = torch.relu(self.layer2(x))\n",
    "        # x = torch.relu(self.layer3(x))\n",
    "        # x = torch.relu(self.layer4(x))\n",
    "        x = self.output_layer(x)\n",
    "        return x\n"
   ]
  },
  {
   "cell_type": "code",
   "execution_count": 49,
   "metadata": {},
   "outputs": [],
   "source": [
    "# TODO: add the comment for try and errors\n",
    "train_acc = [] \n",
    "test_acc = []\n",
    "\n",
    "model = SalaryPredictor(D_in, D_out)\n",
    "# criterion = nn.BCELoss()\n",
    "criterion = nn.CrossEntropyLoss()\n",
    "optimizer = optim.AdamW(model.parameters(), lr=0.001)\n",
    "# optimizer = optim.SGD(model.parameters(), lr=0.0001, momentum=0.01)\n",
    "loss_function = nn.CrossEntropyLoss()\n",
    "exp_lr_scheduler = lr_scheduler.StepLR(optimizer, step_size=7, gamma=0.1)"
   ]
  },
  {
   "cell_type": "markdown",
   "metadata": {},
   "source": [
    "### D.9 Provide\n",
    "\n",
    "Provide: The results of the technical and methodical provision form the basis for the professional provision of the prepared analysis results for the target user group. The effects can range from a support of existing processes to a project adjustment to a completely new development (now automated, if applicable) of processes.\n",
    "\n",
    "Technical provision results underpin targeted user analysis with epoch data. And finally save the best prediction result of model, which is easy to deploy and use in the future. "
   ]
  },
  {
   "cell_type": "markdown",
   "metadata": {},
   "source": [
    "## Conclusion\n",
    "### Original Parameters\n",
    "- 2-layer linear networks: (64, 32), (32, 16); output layer (16, 4)\n",
    "- Criterion: BCELoss()\n",
    "- Optimizer: AdamW with a learning rate of 0.001\n",
    "- Loss function: CrossEntropyLoss()\n",
    "\n",
    "### Search for Optimal Parameters\n",
    "- Changing lr from 0.01 to 0.001 resulted in improved performance: 0.259654 -> 0.327563\n",
    "- Updating momentum from 0.01 to 0.9 led to better results: 0.327563 -> 0.488682\n",
    "- Switching from SGD to AdamW as the optimizer slightly increased accuracy: 0.488682 -> 0.490013\n",
    "- Trying a different criterion, changing from CrossEntropyLoss() to BCELoss(), did not yield improvement.\n",
    "\n",
    "### Label Modification\n",
    "25th, 50th, and 75th percentiles of salaries: (95000, 135000, 175000), Accuracy is 50%. \n",
    "1. Changing from [25, 50, 75] to [50], with a cut-off at 135,000.00 (NTD 4 million): Accuracy 72.70%\n",
    "2. Changing from [25, 50, 75] to [75], with a cut-off at 175,000.00 (NTD 5 million): Accuracy 78.56%\n",
    "3. Changing from [25, 50, 75] to [25, 75] (95000, 175000), with cut-offs at 95,000.00 and 175,000.00: Accuracy 64%\n",
    "3. Changing from [25, 50, 75] to [25, 50] (95000, 135000), with cut-offs at 95,000.00 and 135,000.00: Accuracy 62.98%\n",
    "\n",
    "### Exploring Alternative Approaches\n",
    "- Even with cleaning, the results remained relatively consistent.\n",
    "- Significant changes in occupation visibly affect the model's predictions. However, due to the low diversity in samples for work_year, remote_rate, and company_location, the predictive results are limited."
   ]
  },
  {
   "cell_type": "code",
   "execution_count": 50,
   "metadata": {},
   "outputs": [
    {
     "name": "stdout",
     "output_type": "stream",
     "text": [
      "Epoch 0/24\n",
      "----------\n",
      "train Loss: 1.1723 Acc: 0.4391 Time elapsed: 3 sec.\n",
      "test Loss: 1.1289 Acc: 0.4820 Time elapsed: 3 sec.\n",
      "\n",
      "Epoch 1/24\n",
      "----------\n",
      "train Loss: 1.0970 Acc: 0.4810 Time elapsed: 5 sec.\n",
      "test Loss: 1.1242 Acc: 0.4834 Time elapsed: 5 sec.\n",
      "\n",
      "Epoch 2/24\n",
      "----------\n",
      "train Loss: 1.0756 Acc: 0.4883 Time elapsed: 7 sec.\n",
      "test Loss: 1.1248 Acc: 0.4820 Time elapsed: 7 sec.\n",
      "\n",
      "Epoch 3/24\n",
      "----------\n",
      "train Loss: 1.0603 Acc: 0.4943 Time elapsed: 10 sec.\n",
      "test Loss: 1.1287 Acc: 0.4834 Time elapsed: 10 sec.\n",
      "\n",
      "Epoch 4/24\n",
      "----------\n",
      "train Loss: 1.0480 Acc: 0.5060 Time elapsed: 12 sec.\n",
      "test Loss: 1.1332 Acc: 0.4887 Time elapsed: 12 sec.\n",
      "\n",
      "Epoch 5/24\n",
      "----------\n",
      "train Loss: 1.0365 Acc: 0.5090 Time elapsed: 14 sec.\n",
      "test Loss: 1.1382 Acc: 0.4860 Time elapsed: 14 sec.\n",
      "\n",
      "Epoch 6/24\n",
      "----------\n",
      "train Loss: 1.0260 Acc: 0.5133 Time elapsed: 17 sec.\n",
      "test Loss: 1.1469 Acc: 0.4767 Time elapsed: 17 sec.\n",
      "\n",
      "Epoch 7/24\n",
      "----------\n",
      "train Loss: 0.9996 Acc: 0.5173 Time elapsed: 19 sec.\n",
      "test Loss: 1.1457 Acc: 0.4700 Time elapsed: 19 sec.\n",
      "\n",
      "Epoch 8/24\n",
      "----------\n",
      "train Loss: 0.9922 Acc: 0.5183 Time elapsed: 21 sec.\n",
      "test Loss: 1.1514 Acc: 0.4714 Time elapsed: 21 sec.\n",
      "\n",
      "Epoch 9/24\n",
      "----------\n",
      "train Loss: 0.9885 Acc: 0.5180 Time elapsed: 24 sec.\n",
      "test Loss: 1.1541 Acc: 0.4700 Time elapsed: 24 sec.\n",
      "\n",
      "Epoch 10/24\n",
      "----------\n",
      "train Loss: 0.9857 Acc: 0.5206 Time elapsed: 26 sec.\n",
      "test Loss: 1.1572 Acc: 0.4687 Time elapsed: 26 sec.\n",
      "\n",
      "Epoch 11/24\n",
      "----------\n",
      "train Loss: 0.9834 Acc: 0.5240 Time elapsed: 28 sec.\n",
      "test Loss: 1.1606 Acc: 0.4687 Time elapsed: 29 sec.\n",
      "\n",
      "Epoch 12/24\n",
      "----------\n",
      "train Loss: 0.9813 Acc: 0.5233 Time elapsed: 31 sec.\n",
      "test Loss: 1.1637 Acc: 0.4714 Time elapsed: 31 sec.\n",
      "\n",
      "Epoch 13/24\n",
      "----------\n",
      "train Loss: 0.9795 Acc: 0.5230 Time elapsed: 33 sec.\n",
      "test Loss: 1.1665 Acc: 0.4700 Time elapsed: 33 sec.\n",
      "\n",
      "Epoch 14/24\n",
      "----------\n",
      "train Loss: 0.9761 Acc: 0.5326 Time elapsed: 36 sec.\n",
      "test Loss: 1.1624 Acc: 0.4780 Time elapsed: 36 sec.\n",
      "\n",
      "Epoch 15/24\n",
      "----------\n",
      "train Loss: 0.9750 Acc: 0.5303 Time elapsed: 38 sec.\n",
      "test Loss: 1.1605 Acc: 0.4767 Time elapsed: 38 sec.\n",
      "\n",
      "Epoch 16/24\n",
      "----------\n",
      "train Loss: 0.9744 Acc: 0.5320 Time elapsed: 40 sec.\n",
      "test Loss: 1.1598 Acc: 0.4767 Time elapsed: 40 sec.\n",
      "\n",
      "Epoch 17/24\n",
      "----------\n",
      "train Loss: 0.9740 Acc: 0.5293 Time elapsed: 43 sec.\n",
      "test Loss: 1.1596 Acc: 0.4727 Time elapsed: 43 sec.\n",
      "\n",
      "Epoch 18/24\n",
      "----------\n",
      "train Loss: 0.9737 Acc: 0.5313 Time elapsed: 45 sec.\n",
      "test Loss: 1.1598 Acc: 0.4727 Time elapsed: 46 sec.\n",
      "\n",
      "Epoch 19/24\n",
      "----------\n",
      "train Loss: 0.9735 Acc: 0.5326 Time elapsed: 48 sec.\n",
      "test Loss: 1.1600 Acc: 0.4727 Time elapsed: 48 sec.\n",
      "\n",
      "Epoch 20/24\n",
      "----------\n",
      "train Loss: 0.9733 Acc: 0.5330 Time elapsed: 50 sec.\n",
      "test Loss: 1.1603 Acc: 0.4727 Time elapsed: 50 sec.\n",
      "\n",
      "Epoch 21/24\n",
      "----------\n",
      "train Loss: 0.9726 Acc: 0.5310 Time elapsed: 52 sec.\n",
      "test Loss: 1.1602 Acc: 0.4727 Time elapsed: 52 sec.\n",
      "\n",
      "Epoch 22/24\n",
      "----------\n",
      "train Loss: 0.9726 Acc: 0.5320 Time elapsed: 55 sec.\n",
      "test Loss: 1.1602 Acc: 0.4727 Time elapsed: 55 sec.\n",
      "\n",
      "Epoch 23/24\n",
      "----------\n",
      "train Loss: 0.9725 Acc: 0.5313 Time elapsed: 57 sec.\n",
      "test Loss: 1.1602 Acc: 0.4727 Time elapsed: 57 sec.\n",
      "\n",
      "Epoch 24/24\n",
      "----------\n",
      "train Loss: 0.9725 Acc: 0.5310 Time elapsed: 59 sec.\n",
      "test Loss: 1.1602 Acc: 0.4727 Time elapsed: 59 sec.\n",
      "\n",
      "Training complete in 0m 59s\n",
      "Best val Acc: 0.488682\n"
     ]
    }
   ],
   "source": [
    "model = train_model(model, loss_function, optimizer, exp_lr_scheduler, num_epochs=25)"
   ]
  },
  {
   "cell_type": "code",
   "execution_count": 51,
   "metadata": {},
   "outputs": [
    {
     "data": {
      "text/plain": [
       "Text(0, 0.5, 'Accuracy')"
      ]
     },
     "execution_count": 51,
     "metadata": {},
     "output_type": "execute_result"
    },
    {
     "data": {
      "image/png": "[encoded data removed]",
      "text/plain": [
       "<Figure size 640x480 with 1 Axes>"
      ]
     },
     "metadata": {},
     "output_type": "display_data"
    }
   ],
   "source": [
    "import matplotlib.pyplot as plt\n",
    "plt.plot(train_acc, color='orange')\n",
    "plt.plot(test_acc, color='green')\n",
    "plt.ylim(0.0, 0.8)\n",
    "plt.legend(['Train Accuracy', 'Test Accuracy'], loc='upper right')\n",
    "plt.xlabel('Epoch')\n",
    "plt.ylabel('Accuracy')"
   ]
  },
  {
   "cell_type": "code",
   "execution_count": 52,
   "metadata": {},
   "outputs": [],
   "source": [
    "# save the model to disk. (2L=50th; 4L=25,50,75th; 3L=25,50th)\n",
    "torch.save(model.state_dict(), '../data/model/salary_pred_'+str(D_out)+'L.pt')"
   ]
  },
  {
   "cell_type": "markdown",
   "metadata": {},
   "source": [
    "### Predict the value with the model\n",
    "1. Get all data from the source.\n",
    "2. Add new data to the source.\n",
    "3. Convert the data to datasource for model prediction.\n",
    "4. Get the model and predict the value with the last data in the source. "
   ]
  },
  {
   "cell_type": "markdown",
   "metadata": {},
   "source": [
    "> 1. Get all data from the source"
   ]
  },
  {
   "cell_type": "code",
   "execution_count": 53,
   "metadata": {},
   "outputs": [
    {
     "name": "stdout",
     "output_type": "stream",
     "text": [
      "[ 95000. 135000. 175000.]\n",
      "Level 1: < 95000.00 USD\n",
      "Level 2: 95000.00 ~ 135000.00 USD\n",
      "Level 3: 135000.00 ~ 175000.00 USD\n",
      "Level 4: > 175000.00 USD\n",
      "\n",
      "The data of each salary level is balanced.\n",
      "salary_level\n",
      "Level 2    967\n",
      "Level 1    956\n",
      "Level 4    932\n",
      "Level 3    900\n",
      "Name: count, dtype: int64\n"
     ]
    }
   ],
   "source": [
    "df = pd.read_csv('../data/ds_salaries_cleaned.csv')\n",
    "data = convertData(df)"
   ]
  },
  {
   "cell_type": "markdown",
   "metadata": {},
   "source": [
    "> 2. Add new data to the source"
   ]
  },
  {
   "cell_type": "code",
   "execution_count": 66,
   "metadata": {},
   "outputs": [
    {
     "data": {
      "text/html": [
       "<div>\n",
       "<style scoped>\n",
       "    .dataframe tbody tr th:only-of-type {\n",
       "        vertical-align: middle;\n",
       "    }\n",
       "\n",
       "    .dataframe tbody tr th {\n",
       "        vertical-align: top;\n",
       "    }\n",
       "\n",
       "    .dataframe thead th {\n",
       "        text-align: right;\n",
       "    }\n",
       "</style>\n",
       "<table border=\"1\" class=\"dataframe\">\n",
       "  <thead>\n",
       "    <tr style=\"text-align: right;\">\n",
       "      <th></th>\n",
       "      <th>work_year</th>\n",
       "      <th>experience_level</th>\n",
       "      <th>employment_type</th>\n",
       "      <th>job_title</th>\n",
       "      <th>employee_residence</th>\n",
       "      <th>remote_ratio</th>\n",
       "      <th>company_location</th>\n",
       "      <th>company_size</th>\n",
       "      <th>salary_level</th>\n",
       "    </tr>\n",
       "  </thead>\n",
       "  <tbody>\n",
       "    <tr>\n",
       "      <th>3752</th>\n",
       "      <td>2020</td>\n",
       "      <td>Entry-level/Junior</td>\n",
       "      <td>Full-Time</td>\n",
       "      <td>Data Scientist</td>\n",
       "      <td>US</td>\n",
       "      <td>100</td>\n",
       "      <td>US</td>\n",
       "      <td>S</td>\n",
       "      <td>Level 2</td>\n",
       "    </tr>\n",
       "    <tr>\n",
       "      <th>3753</th>\n",
       "      <td>2020</td>\n",
       "      <td>Entry-level/Junior</td>\n",
       "      <td>Contract</td>\n",
       "      <td>Business Data Analyst</td>\n",
       "      <td>US</td>\n",
       "      <td>100</td>\n",
       "      <td>US</td>\n",
       "      <td>L</td>\n",
       "      <td>Level 2</td>\n",
       "    </tr>\n",
       "    <tr>\n",
       "      <th>3754</th>\n",
       "      <td>2021</td>\n",
       "      <td>Senior-level/Expert</td>\n",
       "      <td>Full-Time</td>\n",
       "      <td>Data Science Manager</td>\n",
       "      <td>IN</td>\n",
       "      <td>50</td>\n",
       "      <td>IN</td>\n",
       "      <td>L</td>\n",
       "      <td>Level 1</td>\n",
       "    </tr>\n",
       "    <tr>\n",
       "      <th>3755</th>\n",
       "      <td>2023</td>\n",
       "      <td>Entry-level/Junior</td>\n",
       "      <td>Full-Time</td>\n",
       "      <td>Data Analyst</td>\n",
       "      <td>US</td>\n",
       "      <td>100</td>\n",
       "      <td>US</td>\n",
       "      <td>L</td>\n",
       "      <td>Level 1</td>\n",
       "    </tr>\n",
       "    <tr>\n",
       "      <th>3756</th>\n",
       "      <td>2023</td>\n",
       "      <td>Senior-level/Expert</td>\n",
       "      <td>Full-Time</td>\n",
       "      <td>Data Science Manager</td>\n",
       "      <td>US</td>\n",
       "      <td>100</td>\n",
       "      <td>US</td>\n",
       "      <td>L</td>\n",
       "      <td>Level 1</td>\n",
       "    </tr>\n",
       "  </tbody>\n",
       "</table>\n",
       "</div>"
      ],
      "text/plain": [
       "      work_year     experience_level employment_type              job_title  \\\n",
       "3752       2020   Entry-level/Junior       Full-Time         Data Scientist   \n",
       "3753       2020   Entry-level/Junior        Contract  Business Data Analyst   \n",
       "3754       2021  Senior-level/Expert       Full-Time   Data Science Manager   \n",
       "3755       2023   Entry-level/Junior       Full-Time           Data Analyst   \n",
       "3756       2023  Senior-level/Expert       Full-Time   Data Science Manager   \n",
       "\n",
       "     employee_residence  remote_ratio company_location company_size  \\\n",
       "3752                 US           100               US            S   \n",
       "3753                 US           100               US            L   \n",
       "3754                 IN            50               IN            L   \n",
       "3755                 US           100               US            L   \n",
       "3756                 US           100               US            L   \n",
       "\n",
       "     salary_level  \n",
       "3752      Level 2  \n",
       "3753      Level 2  \n",
       "3754      Level 1  \n",
       "3755      Level 1  \n",
       "3756      Level 1  "
      ]
     },
     "execution_count": 66,
     "metadata": {},
     "output_type": "execute_result"
    }
   ],
   "source": [
    "hight_input = {\n",
    "    'work_year': 2023,\n",
    "    'experience_level': 'Senior-level/Expert',\n",
    "    'employment_type': 'Full-Time',\n",
    "    'job_title': 'Data Science Manager',\n",
    "    'employee_residence': ['US'],\n",
    "    'remote_ratio': [100],\n",
    "    'company_location': ['US'],\n",
    "    'company_size': ['L'],\n",
    "    'salary_level': ['Level 1'] # we don't care about the label\n",
    "}\n",
    "\n",
    "low_intput = {\n",
    "    'work_year': 2023,\n",
    "    'experience_level': 'Entry-level/Junior',\n",
    "    'employment_type': 'Full-Time',\n",
    "    'job_title': 'Data Analyst',\n",
    "    'employee_residence': ['US'],\n",
    "    'remote_ratio': [100],\n",
    "    'company_location': ['US'],\n",
    "    'company_size': ['L'],\n",
    "    'salary_level': ['Level 1'] # we don't care about the label\n",
    "}\n",
    "\n",
    "# You can change the input to see the difference\n",
    "# input = low_intput\n",
    "input = hight_input\n",
    "\n",
    "data = pd.concat([data, pd.DataFrame(input)], ignore_index=True)\n",
    "data.tail()"
   ]
  },
  {
   "cell_type": "markdown",
   "metadata": {},
   "source": [
    "> 3. Convert the data to datasource for model prediction."
   ]
  },
  {
   "cell_type": "code",
   "execution_count": 55,
   "metadata": {},
   "outputs": [
    {
     "data": {
      "text/plain": [
       "work_year              int64\n",
       "experience_level      object\n",
       "employment_type       object\n",
       "job_title             object\n",
       "employee_residence    object\n",
       "remote_ratio           int64\n",
       "company_location      object\n",
       "company_size          object\n",
       "salary_level          object\n",
       "dtype: object"
      ]
     },
     "execution_count": 55,
     "metadata": {},
     "output_type": "execute_result"
    }
   ],
   "source": [
    "data.dtypes"
   ]
  },
  {
   "cell_type": "code",
   "execution_count": 59,
   "metadata": {},
   "outputs": [],
   "source": [
    "class DatasetConverter(Dataset):\n",
    "\n",
    "    # Initialization function for loading and preprocessing data\n",
    "    def __init__(self, data):\n",
    "        self.out_size = D_out * (-1)\n",
    "        # Create MinMaxScaler and OneHotEncoder for data preprocessing\n",
    "        minmax_scaler = MinMaxScaler()\n",
    "        onehot_enc = OneHotEncoder()\n",
    "\n",
    "        # Split data into categorical features, numerical features, and labels\n",
    "        categorical_features = data[data.select_dtypes(include=['object']).columns].drop('salary_level', axis=1)\n",
    "        numerical_features = data[data.select_dtypes(exclude=['object']).columns]\n",
    "        label_features = data[['salary_level']]\n",
    "\n",
    "        # Normalize numerical features (MinMax normalization)\n",
    "        numerical_features_arr = minmax_scaler.fit_transform(numerical_features)\n",
    "\n",
    "        # Perform one-hot encoding on categorical features\n",
    "        categorical_features_arr = onehot_enc.fit_transform(categorical_features).toarray()\n",
    "\n",
    "        # After one-hot encoding categorical features, retrieve the encoded feature names\n",
    "        label_features = onehot_enc.fit_transform(label_features).toarray()\n",
    "\n",
    "        # Combine normalized numerical features and one-hot encoded categorical features into one dataset\n",
    "        combined_features = pd.DataFrame(data=numerical_features_arr, columns=numerical_features.columns)\n",
    "        combined_features = pd.concat([combined_features, pd.DataFrame(data=categorical_features_arr)], axis=1)\n",
    "        combined_features = pd.concat([combined_features, pd.DataFrame(data=label_features)], axis=1).reset_index(drop=True)\n",
    "\n",
    "        self.data = combined_features\n",
    "\n",
    "    # Returns the length of the dataset\n",
    "    def __len__(self):\n",
    "        return len(self.data)\n",
    "\n",
    "    # Function for retrieving features and labels for training the neural network\n",
    "    def __getitem__(self, idx):\n",
    "        # Retrieve the data from the ith row in the self.data DataFrame\n",
    "        sample = self.data.iloc[idx] \n",
    "        # Convert a data structure into a PyTorch tensor and specify the tensor's data type as float\n",
    "        features = torch.FloatTensor(sample[:self.out_size])\n",
    "        label = torch.FloatTensor(sample[self.out_size:])\n",
    "        return features, label\n",
    "\n",
    "    # Returns the entire dataset as a DataFrame\n",
    "    def getData(self):\n",
    "        return self.data\n"
   ]
  },
  {
   "cell_type": "code",
   "execution_count": 67,
   "metadata": {},
   "outputs": [
    {
     "name": "stdout",
     "output_type": "stream",
     "text": [
      "tensor_input = $tensor([1., 1., 0., 0., 0., 1., 0., 0., 1., 0., 0., 0., 0., 0., 0., 0., 0., 0.,\n",
      "        0., 0., 0., 0., 0., 0., 0., 0., 0., 0., 0., 0., 0., 0., 0., 0., 0., 0.,\n",
      "        0., 0., 0., 0., 0., 0., 0., 0., 0., 0., 0., 0., 0., 0., 0., 0., 0., 0.,\n",
      "        0., 1., 0., 0., 0., 0., 0., 0., 0., 0., 0., 0., 0., 0., 0., 0., 0., 0.,\n",
      "        0., 0., 0., 0., 0., 0., 0., 0., 0., 0., 0., 0., 0., 0., 0., 0., 0., 0.,\n",
      "        0., 0., 0., 0., 0., 0., 0., 0., 0., 0., 0., 0., 0., 0., 0., 0., 0., 0.,\n",
      "        0., 0., 0., 0., 0., 0., 0., 0., 0., 0., 0., 0., 0., 0., 0., 0., 0., 0.,\n",
      "        0., 0., 0., 0., 0., 0., 0., 0., 0., 0., 0., 0., 0., 0., 0., 0., 0., 0.,\n",
      "        0., 0., 0., 0., 0., 0., 0., 0., 0., 0., 0., 0., 0., 0., 0., 0., 0., 0.,\n",
      "        0., 0., 0., 0., 0., 0., 0., 0., 0., 0., 0., 0., 0., 0., 0., 0., 1., 0.,\n",
      "        0., 0., 0., 0., 0., 0., 0., 0., 0., 0., 0., 0., 0., 0., 0., 0., 0., 0.,\n",
      "        0., 0., 0., 0., 0., 0., 0., 0., 0., 0., 0., 0., 0., 0., 0., 0., 0., 0.,\n",
      "        0., 0., 0., 0., 0., 0., 0., 0., 0., 0., 0., 0., 0., 0., 0., 0., 0., 0.,\n",
      "        0., 0., 0., 0., 0., 0., 0., 0., 0., 0., 0., 0., 0., 0., 0., 0., 0., 1.,\n",
      "        0., 1., 0., 0.]), \n",
      "tensor_label = $tensor([1., 0., 0., 0.])\n"
     ]
    }
   ],
   "source": [
    "# -1 is for get the last row of the data\n",
    "tensor_input = DatasetConverter(data).__getitem__(-1)[0]\n",
    "tensor_label = DatasetConverter(data).__getitem__(-1)[1]\n",
    "print(f'tensor_input = ${tensor_input}, \\ntensor_label = ${tensor_label}')"
   ]
  },
  {
   "cell_type": "markdown",
   "metadata": {},
   "source": [
    "### D.10 Request"
   ]
  },
  {
   "cell_type": "markdown",
   "metadata": {},
   "source": [
    "Request: If the professional provision does not lead to the desired results, changes to the technical and methodical provision can be requested.\n",
    "\n",
    "In this step, we give the mock data to the model and predict the value. If the result is not as expected, we can request changes to the technical and methodical provision."
   ]
  },
  {
   "cell_type": "code",
   "execution_count": 68,
   "metadata": {},
   "outputs": [
    {
     "name": "stdout",
     "output_type": "stream",
     "text": [
      "output = $tensor([-3.1593, -0.9490,  0.5574,  2.1008])\n",
      "The predicted salary level is: 3\n"
     ]
    }
   ],
   "source": [
    "# load the model from disk\n",
    "pred_model = SalaryPredictor(D_in, D_out)\n",
    "pred_model.load_state_dict(torch.load('../data/model/salary_pred_'+str(D_out)+'L.pt'))\n",
    "\n",
    "# predict the salary level of the new data\n",
    "with torch.no_grad():\n",
    "    # get the last row of the data\n",
    "    tensor_data = DatasetConverter(data).__getitem__(-1)\n",
    "    input = tensor_data[0]\n",
    "    output = pred_model(input)\n",
    "    print(f'output = ${output}')\n",
    "    pred = torch.argmax(output).item()\n",
    "    print('The predicted salary level is:', pred)"
   ]
  }
 ],
 "metadata": {
  "kernelspec": {
   "display_name": "aienv",
   "language": "python",
   "name": "python3"
  },
  "language_info": {
   "codemirror_mode": {
    "name": "ipython",
    "version": 3
   },
   "file_extension": ".py",
   "mimetype": "text/x-python",
   "name": "python",
   "nbconvert_exporter": "python",
   "pygments_lexer": "ipython3",
   "version": "3.11.4"
  }
 },
 "nbformat": 4,
 "nbformat_minor": 2
}
