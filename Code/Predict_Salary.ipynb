{
 "cells": [
  {
   "cell_type": "code",
   "execution_count": 38,
   "metadata": {},
   "outputs": [],
   "source": [
    "import torch\n",
    "import torch.nn as nn\n",
    "import torch.optim as optim\n",
    "from torch.utils.data import Dataset, DataLoader\n",
    "from sklearn.model_selection import train_test_split\n",
    "from sklearn.preprocessing import StandardScaler, OneHotEncoder\n",
    "import pandas as pd\n",
    "import numpy as np\n",
    "import plotly.express as px\n",
    "import plotly.figure_factory as ff\n",
    "import plotly.graph_objects as go\n",
    "import warnings\n",
    "warnings.filterwarnings('ignore')\n",
    "\n",
    "\n",
    "\n",
    "df = pd.read_csv('../data/ds_salaries.csv')"
   ]
  },
  {
   "cell_type": "code",
   "execution_count": 39,
   "metadata": {},
   "outputs": [
    {
     "data": {
      "text/plain": [
       "employment_type\n",
       "Full-Time    3718\n",
       "Part-Time      17\n",
       "Contract       10\n",
       "Freelance      10\n",
       "Name: count, dtype: int64"
      ]
     },
     "execution_count": 39,
     "metadata": {},
     "output_type": "execute_result"
    }
   ],
   "source": [
    "employment_type = 'employment_type'\n",
    "df[employment_type] = df[employment_type].replace('FT','Full-Time')\n",
    "df[employment_type] = df[employment_type].replace('CT','Contract')\n",
    "df[employment_type] = df[employment_type].replace('PT','Part-Time')\n",
    "df[employment_type] = df[employment_type].replace('FL','Freelance')\n",
    "df[employment_type].value_counts()"
   ]
  },
  {
   "cell_type": "code",
   "execution_count": 24,
   "metadata": {},
   "outputs": [
    {
     "data": {
      "text/plain": [
       "experience_level\n",
       "Senior-level/Expert         2516\n",
       "Mid-level/Intermediate       805\n",
       "Entry-level/Junior           320\n",
       "Executive-level/Director     114\n",
       "Name: count, dtype: int64"
      ]
     },
     "execution_count": 24,
     "metadata": {},
     "output_type": "execute_result"
    }
   ],
   "source": [
    "experience_level = 'experience_level'\n",
    "df[experience_level] = df[experience_level].replace('EN','Entry-level/Junior')\n",
    "df[experience_level] = df[experience_level].replace('MI','Mid-level/Intermediate')\n",
    "df[experience_level] = df[experience_level].replace('SE','Senior-level/Expert')\n",
    "df[experience_level] = df[experience_level].replace('EX','Executive-level/Director')\n",
    "df[experience_level].value_counts()"
   ]
  },
  {
   "cell_type": "code",
   "execution_count": 40,
   "metadata": {},
   "outputs": [
    {
     "name": "stdout",
     "output_type": "stream",
     "text": [
      "(3755, 11)\n"
     ]
    },
    {
     "data": {
      "text/html": [
       "<div>\n",
       "<style scoped>\n",
       "    .dataframe tbody tr th:only-of-type {\n",
       "        vertical-align: middle;\n",
       "    }\n",
       "\n",
       "    .dataframe tbody tr th {\n",
       "        vertical-align: top;\n",
       "    }\n",
       "\n",
       "    .dataframe thead th {\n",
       "        text-align: right;\n",
       "    }\n",
       "</style>\n",
       "<table border=\"1\" class=\"dataframe\">\n",
       "  <thead>\n",
       "    <tr style=\"text-align: right;\">\n",
       "      <th></th>\n",
       "      <th>work_year</th>\n",
       "      <th>experience_level</th>\n",
       "      <th>employment_type</th>\n",
       "      <th>job_title</th>\n",
       "      <th>salary</th>\n",
       "      <th>salary_currency</th>\n",
       "      <th>salary_in_usd</th>\n",
       "      <th>employee_residence</th>\n",
       "      <th>remote_ratio</th>\n",
       "      <th>company_location</th>\n",
       "      <th>company_size</th>\n",
       "    </tr>\n",
       "  </thead>\n",
       "  <tbody>\n",
       "    <tr>\n",
       "      <th>0</th>\n",
       "      <td>2023</td>\n",
       "      <td>SE</td>\n",
       "      <td>Full-Time</td>\n",
       "      <td>Principal Data Scientist</td>\n",
       "      <td>80000</td>\n",
       "      <td>EUR</td>\n",
       "      <td>85847</td>\n",
       "      <td>ES</td>\n",
       "      <td>100</td>\n",
       "      <td>ES</td>\n",
       "      <td>L</td>\n",
       "    </tr>\n",
       "    <tr>\n",
       "      <th>1</th>\n",
       "      <td>2023</td>\n",
       "      <td>MI</td>\n",
       "      <td>Contract</td>\n",
       "      <td>ML Engineer</td>\n",
       "      <td>30000</td>\n",
       "      <td>USD</td>\n",
       "      <td>30000</td>\n",
       "      <td>US</td>\n",
       "      <td>100</td>\n",
       "      <td>US</td>\n",
       "      <td>S</td>\n",
       "    </tr>\n",
       "    <tr>\n",
       "      <th>2</th>\n",
       "      <td>2023</td>\n",
       "      <td>MI</td>\n",
       "      <td>Contract</td>\n",
       "      <td>ML Engineer</td>\n",
       "      <td>25500</td>\n",
       "      <td>USD</td>\n",
       "      <td>25500</td>\n",
       "      <td>US</td>\n",
       "      <td>100</td>\n",
       "      <td>US</td>\n",
       "      <td>S</td>\n",
       "    </tr>\n",
       "    <tr>\n",
       "      <th>3</th>\n",
       "      <td>2023</td>\n",
       "      <td>SE</td>\n",
       "      <td>Full-Time</td>\n",
       "      <td>Data Scientist</td>\n",
       "      <td>175000</td>\n",
       "      <td>USD</td>\n",
       "      <td>175000</td>\n",
       "      <td>CA</td>\n",
       "      <td>100</td>\n",
       "      <td>CA</td>\n",
       "      <td>M</td>\n",
       "    </tr>\n",
       "    <tr>\n",
       "      <th>4</th>\n",
       "      <td>2023</td>\n",
       "      <td>SE</td>\n",
       "      <td>Full-Time</td>\n",
       "      <td>Data Scientist</td>\n",
       "      <td>120000</td>\n",
       "      <td>USD</td>\n",
       "      <td>120000</td>\n",
       "      <td>CA</td>\n",
       "      <td>100</td>\n",
       "      <td>CA</td>\n",
       "      <td>M</td>\n",
       "    </tr>\n",
       "  </tbody>\n",
       "</table>\n",
       "</div>"
      ],
      "text/plain": [
       "   work_year experience_level employment_type                 job_title  \\\n",
       "0       2023               SE       Full-Time  Principal Data Scientist   \n",
       "1       2023               MI        Contract               ML Engineer   \n",
       "2       2023               MI        Contract               ML Engineer   \n",
       "3       2023               SE       Full-Time            Data Scientist   \n",
       "4       2023               SE       Full-Time            Data Scientist   \n",
       "\n",
       "   salary salary_currency  salary_in_usd employee_residence  remote_ratio  \\\n",
       "0   80000             EUR          85847                 ES           100   \n",
       "1   30000             USD          30000                 US           100   \n",
       "2   25500             USD          25500                 US           100   \n",
       "3  175000             USD         175000                 CA           100   \n",
       "4  120000             USD         120000                 CA           100   \n",
       "\n",
       "  company_location company_size  \n",
       "0               ES            L  \n",
       "1               US            S  \n",
       "2               US            S  \n",
       "3               CA            M  \n",
       "4               CA            M  "
      ]
     },
     "execution_count": 40,
     "metadata": {},
     "output_type": "execute_result"
    }
   ],
   "source": [
    "print(df.shape)\n",
    "df.head()"
   ]
  },
  {
   "cell_type": "code",
   "execution_count": 41,
   "metadata": {},
   "outputs": [
    {
     "data": {
      "text/html": [
       "<div>\n",
       "<style scoped>\n",
       "    .dataframe tbody tr th:only-of-type {\n",
       "        vertical-align: middle;\n",
       "    }\n",
       "\n",
       "    .dataframe tbody tr th {\n",
       "        vertical-align: top;\n",
       "    }\n",
       "\n",
       "    .dataframe thead th {\n",
       "        text-align: right;\n",
       "    }\n",
       "</style>\n",
       "<table border=\"1\" class=\"dataframe\">\n",
       "  <thead>\n",
       "    <tr style=\"text-align: right;\">\n",
       "      <th></th>\n",
       "      <th>work_year</th>\n",
       "      <th>experience_level</th>\n",
       "      <th>employment_type</th>\n",
       "      <th>job_title</th>\n",
       "      <th>salary_in_usd</th>\n",
       "      <th>employee_residence</th>\n",
       "      <th>remote_ratio</th>\n",
       "      <th>company_location</th>\n",
       "      <th>company_size</th>\n",
       "    </tr>\n",
       "  </thead>\n",
       "  <tbody>\n",
       "    <tr>\n",
       "      <th>0</th>\n",
       "      <td>2023</td>\n",
       "      <td>SE</td>\n",
       "      <td>Full-Time</td>\n",
       "      <td>Principal Data Scientist</td>\n",
       "      <td>85847</td>\n",
       "      <td>ES</td>\n",
       "      <td>100</td>\n",
       "      <td>ES</td>\n",
       "      <td>L</td>\n",
       "    </tr>\n",
       "    <tr>\n",
       "      <th>1</th>\n",
       "      <td>2023</td>\n",
       "      <td>MI</td>\n",
       "      <td>Contract</td>\n",
       "      <td>ML Engineer</td>\n",
       "      <td>30000</td>\n",
       "      <td>US</td>\n",
       "      <td>100</td>\n",
       "      <td>US</td>\n",
       "      <td>S</td>\n",
       "    </tr>\n",
       "    <tr>\n",
       "      <th>2</th>\n",
       "      <td>2023</td>\n",
       "      <td>MI</td>\n",
       "      <td>Contract</td>\n",
       "      <td>ML Engineer</td>\n",
       "      <td>25500</td>\n",
       "      <td>US</td>\n",
       "      <td>100</td>\n",
       "      <td>US</td>\n",
       "      <td>S</td>\n",
       "    </tr>\n",
       "    <tr>\n",
       "      <th>3</th>\n",
       "      <td>2023</td>\n",
       "      <td>SE</td>\n",
       "      <td>Full-Time</td>\n",
       "      <td>Data Scientist</td>\n",
       "      <td>175000</td>\n",
       "      <td>CA</td>\n",
       "      <td>100</td>\n",
       "      <td>CA</td>\n",
       "      <td>M</td>\n",
       "    </tr>\n",
       "    <tr>\n",
       "      <th>4</th>\n",
       "      <td>2023</td>\n",
       "      <td>SE</td>\n",
       "      <td>Full-Time</td>\n",
       "      <td>Data Scientist</td>\n",
       "      <td>120000</td>\n",
       "      <td>CA</td>\n",
       "      <td>100</td>\n",
       "      <td>CA</td>\n",
       "      <td>M</td>\n",
       "    </tr>\n",
       "    <tr>\n",
       "      <th>...</th>\n",
       "      <td>...</td>\n",
       "      <td>...</td>\n",
       "      <td>...</td>\n",
       "      <td>...</td>\n",
       "      <td>...</td>\n",
       "      <td>...</td>\n",
       "      <td>...</td>\n",
       "      <td>...</td>\n",
       "      <td>...</td>\n",
       "    </tr>\n",
       "    <tr>\n",
       "      <th>3750</th>\n",
       "      <td>2020</td>\n",
       "      <td>SE</td>\n",
       "      <td>Full-Time</td>\n",
       "      <td>Data Scientist</td>\n",
       "      <td>412000</td>\n",
       "      <td>US</td>\n",
       "      <td>100</td>\n",
       "      <td>US</td>\n",
       "      <td>L</td>\n",
       "    </tr>\n",
       "    <tr>\n",
       "      <th>3751</th>\n",
       "      <td>2021</td>\n",
       "      <td>MI</td>\n",
       "      <td>Full-Time</td>\n",
       "      <td>Principal Data Scientist</td>\n",
       "      <td>151000</td>\n",
       "      <td>US</td>\n",
       "      <td>100</td>\n",
       "      <td>US</td>\n",
       "      <td>L</td>\n",
       "    </tr>\n",
       "    <tr>\n",
       "      <th>3752</th>\n",
       "      <td>2020</td>\n",
       "      <td>EN</td>\n",
       "      <td>Full-Time</td>\n",
       "      <td>Data Scientist</td>\n",
       "      <td>105000</td>\n",
       "      <td>US</td>\n",
       "      <td>100</td>\n",
       "      <td>US</td>\n",
       "      <td>S</td>\n",
       "    </tr>\n",
       "    <tr>\n",
       "      <th>3753</th>\n",
       "      <td>2020</td>\n",
       "      <td>EN</td>\n",
       "      <td>Contract</td>\n",
       "      <td>Business Data Analyst</td>\n",
       "      <td>100000</td>\n",
       "      <td>US</td>\n",
       "      <td>100</td>\n",
       "      <td>US</td>\n",
       "      <td>L</td>\n",
       "    </tr>\n",
       "    <tr>\n",
       "      <th>3754</th>\n",
       "      <td>2021</td>\n",
       "      <td>SE</td>\n",
       "      <td>Full-Time</td>\n",
       "      <td>Data Science Manager</td>\n",
       "      <td>94665</td>\n",
       "      <td>IN</td>\n",
       "      <td>50</td>\n",
       "      <td>IN</td>\n",
       "      <td>L</td>\n",
       "    </tr>\n",
       "  </tbody>\n",
       "</table>\n",
       "<p>3755 rows × 9 columns</p>\n",
       "</div>"
      ],
      "text/plain": [
       "      work_year experience_level employment_type                 job_title  \\\n",
       "0          2023               SE       Full-Time  Principal Data Scientist   \n",
       "1          2023               MI        Contract               ML Engineer   \n",
       "2          2023               MI        Contract               ML Engineer   \n",
       "3          2023               SE       Full-Time            Data Scientist   \n",
       "4          2023               SE       Full-Time            Data Scientist   \n",
       "...         ...              ...             ...                       ...   \n",
       "3750       2020               SE       Full-Time            Data Scientist   \n",
       "3751       2021               MI       Full-Time  Principal Data Scientist   \n",
       "3752       2020               EN       Full-Time            Data Scientist   \n",
       "3753       2020               EN        Contract     Business Data Analyst   \n",
       "3754       2021               SE       Full-Time      Data Science Manager   \n",
       "\n",
       "      salary_in_usd employee_residence  remote_ratio company_location  \\\n",
       "0             85847                 ES           100               ES   \n",
       "1             30000                 US           100               US   \n",
       "2             25500                 US           100               US   \n",
       "3            175000                 CA           100               CA   \n",
       "4            120000                 CA           100               CA   \n",
       "...             ...                ...           ...              ...   \n",
       "3750         412000                 US           100               US   \n",
       "3751         151000                 US           100               US   \n",
       "3752         105000                 US           100               US   \n",
       "3753         100000                 US           100               US   \n",
       "3754          94665                 IN            50               IN   \n",
       "\n",
       "     company_size  \n",
       "0               L  \n",
       "1               S  \n",
       "2               S  \n",
       "3               M  \n",
       "4               M  \n",
       "...           ...  \n",
       "3750            L  \n",
       "3751            L  \n",
       "3752            S  \n",
       "3753            L  \n",
       "3754            L  \n",
       "\n",
       "[3755 rows x 9 columns]"
      ]
     },
     "execution_count": 41,
     "metadata": {},
     "output_type": "execute_result"
    }
   ],
   "source": [
    "df.drop(df[['salary','salary_currency']], axis = 1, inplace = True)\n",
    "df"
   ]
  },
  {
   "cell_type": "markdown",
   "metadata": {},
   "source": [
    "#  We have a lot of job titles (84) that appear less frequently in our dataset.\n",
    "- Maybe we could group less frequent job titles into broader categories. For example, job titles with similar roles or in the same domain could be combined. "
   ]
  },
  {
   "cell_type": "code",
   "execution_count": 42,
   "metadata": {},
   "outputs": [
    {
     "name": "stdout",
     "output_type": "stream",
     "text": [
      "job_title\n",
      "Data Engineer                1040\n",
      "Data Scientist                840\n",
      "Data Analyst                  612\n",
      "Machine Learning Engineer     289\n",
      "Analytics Engineer            103\n",
      "Data Architect                101\n",
      "Research Scientist             82\n",
      "Data Science Manager           58\n",
      "Applied Scientist              58\n",
      "Research Engineer              37\n",
      "Name: count, dtype: int64\n",
      "Mean of job titles: 40.376344086021504\n",
      "Job titles with less than 40: 84\n",
      "Job titles with more than 40: 9\n"
     ]
    }
   ],
   "source": [
    "print(df['job_title'].value_counts().head(10))\n",
    "print(\"Mean of job titles:\",df['job_title'].value_counts().mean())\n",
    "# show job titles with less than 40 occurences\n",
    "print(\"Job titles with less than 40:\",len(df['job_title'].value_counts()[df['job_title'].value_counts() < 40]))\n",
    "#print all job titles with more than 40 occurences\n",
    "print(\"Job titles with more than 40:\",len(df['job_title'].value_counts()[df['job_title'].value_counts() >= 40]))\n"
   ]
  },
  {
   "cell_type": "markdown",
   "metadata": {},
   "source": [
    "### 分類"
   ]
  },
  {
   "cell_type": "code",
   "execution_count": 7,
   "metadata": {},
   "outputs": [],
   "source": [
    "job_title_mapping = {\n",
    "    # Data Engineer 分類\n",
    "    'Big Data Engineer': 'Data Engineer',\n",
    "    'Data Infrastructure Engineer': 'Data Engineer',\n",
    "    'Lead Data Engineer': 'Data Engineer',\n",
    "    'Cloud Database Engineer': 'Data Engineer',\n",
    "    'ETL Developer': 'Data Engineer',\n",
    "    'BI Developer': 'Data Engineer',\n",
    "    'Data Operations Engineer': 'Data Engineer',\n",
    "    'Cloud Data Engineer': 'Data Engineer',\n",
    "    'Azure Data Engineer': 'Data Engineer',\n",
    "    'Data DevOps Engineer': 'Data Engineer',\n",
    "    'BI Data Engineer': 'Data Engineer',\n",
    "\n",
    "    # Data Scientist 分類\n",
    "    'Machine Learning Scientist': 'Data Scientist',\n",
    "    'Data Science Consultant': 'Data Scientist',\n",
    "    'AI Scientist': 'Data Scientist',\n",
    "    'Applied Data Scientist': 'Data Scientist',\n",
    "    'Principal Data Scientist': 'Data Scientist',\n",
    "    'Data Scientist Lead': 'Data Scientist',\n",
    "    'Product Data Scientist': 'Data Scientist',\n",
    "    'Compliance Data Analyst': 'Data Scientist', # 注意：這個職位可能更接近 Data Analyst\n",
    "    'Data Science Tech Lead': 'Data Scientist',\n",
    "    'Staff Data Scientist': 'Data Scientist',\n",
    "\n",
    "    # Data Analyst 分類\n",
    "    'Data Manager': 'Data Analyst',\n",
    "    'Data Analytics Manager': 'Data Analyst',\n",
    "    'Business Data Analyst': 'Data Analyst',\n",
    "    'Data Specialist': 'Data Analyst',\n",
    "    'BI Data Analyst': 'Data Analyst',\n",
    "    'Data Quality Analyst': 'Data Analyst',\n",
    "    'Product Data Analyst': 'Data Analyst',\n",
    "    'Financial Data Analyst': 'Data Analyst',\n",
    "    'Marketing Data Analyst': 'Data Analyst',\n",
    "    'Data Modeler': 'Data Analyst',\n",
    "    'Principal Data Analyst': 'Data Analyst',\n",
    "    'Insight Analyst': 'Data Analyst',\n",
    "    'Data Analytics Specialist': 'Data Analyst',\n",
    "    'Manager Data Management': 'Data Analyst',\n",
    "    'Finance Data Analyst': 'Data Analyst',\n",
    "\n",
    "    # Machine Learning Engineer 分類\n",
    "    'Machine Learning Infrastructure Engineer': 'Machine Learning Engineer',\n",
    "    'Machine Learning Software Engineer': 'Machine Learning Engineer',\n",
    "    'Machine Learning Developer': 'Machine Learning Engineer',\n",
    "    'Deep Learning Engineer': 'Machine Learning Engineer',\n",
    "    'Machine Learning Research Engineer': 'Machine Learning Engineer',\n",
    "    'Lead Machine Learning Engineer': 'Machine Learning Engineer',\n",
    "    'Applied Machine Learning Engineer': 'Machine Learning Engineer',\n",
    "    'Principal Machine Learning Engineer': 'Machine Learning Engineer',\n",
    "\n",
    "    # Analytics Engineer 分類\n",
    "    'Data Analytics Engineer': 'Analytics Engineer',\n",
    "    'Lead Data Analyst': 'Analytics Engineer', # 注意：這個職位可能更接近 Data Analyst\n",
    "    'Data Analytics Consultant': 'Analytics Engineer',\n",
    "    'Data Analytics Lead': 'Analytics Engineer',\n",
    "\n",
    "    # Data Architect 分類\n",
    "    'Big Data Architect': 'Data Architect',\n",
    "    'Principal Data Architect': 'Data Architect',\n",
    "    'Cloud Data Architect': 'Data Architect',\n",
    "\n",
    "    # Research Scientist 分類\n",
    "    'Machine Learning Researcher': 'Research Scientist',\n",
    "    '3D Computer Vision Researcher': 'Research Scientist',\n",
    "    'Deep Learning Researcher': 'Research Scientist',\n",
    "\n",
    "    # Data Science Manager 分類\n",
    "    'Director of Data Science': 'Data Science Manager',\n",
    "    'Head of Data': 'Data Science Manager',\n",
    "    'Head of Data Science': 'Data Science Manager',\n",
    "    'Machine Learning Manager': 'Data Science Manager',\n",
    "    'Head of Machine Learning': 'Data Science Manager',\n",
    "\n",
    "    # Applied Scientist 分類\n",
    "    'Applied Machine Learning Scientist': 'Applied Scientist',\n",
    "    'Computer Vision Engineer': 'Applied Scientist',\n",
    "    'AI Developer': 'Applied Scientist',\n",
    "    'NLP Engineer': 'Applied Scientist',\n",
    "    'Computer Vision Software Engineer': 'Applied Scientist',\n",
    "    'Autonomous Vehicle Technician': 'Applied Scientist',\n",
    "\n",
    "    # Research Engineer 分類\n",
    "    'MLOps Engineer': 'Research Engineer',\n",
    "    'Business Intelligence Engineer': 'Research Engineer',\n",
    "    'Data Operations Analyst': 'Research Engineer',\n",
    "    'Cloud Data Engineer': 'Research Engineer',\n",
    "    'AI Programmer': 'Research Engineer',\n",
    "    'Power BI Developer': 'Research Engineer',\n",
    "    'Data Management Specialist': 'Research Engineer',\n",
    "    'Marketing Data Engineer': 'Research Engineer',\n",
    "    'Data Strategist': 'Research Engineer',\n",
    "\n",
    "\n",
    "    'BI Analyst': 'Data Analyst',\n",
    "    'Lead Data Scientist': 'Data Science Manager',\n",
    "    'Data Science Lead': 'Data Science Manager',\n",
    "    'Data Science Engineer': 'Data Scientist',\n",
    "    'Data Lead': 'Data Science Manager', # 或 'Data Engineer' 取決於具體職責\n",
    "    'Principal Data Engineer': 'Data Engineer',\n",
    "    'Software Data Engineer': 'Data Engineer',\n",
    "    'ETL Engineer': 'Data Engineer',\n",
    "    'Staff Data Analyst': 'Data Analyst'\n",
    "}\n"
   ]
  },
  {
   "cell_type": "code",
   "execution_count": 8,
   "metadata": {},
   "outputs": [],
   "source": [
    "df['job_title'] = df['job_title'].replace(job_title_mapping)"
   ]
  },
  {
   "cell_type": "code",
   "execution_count": 7,
   "metadata": {},
   "outputs": [
    {
     "name": "stdout",
     "output_type": "stream",
     "text": [
      "job_title\n",
      "Data Engineer                          1040\n",
      "Data Scientist                          840\n",
      "Data Analyst                            612\n",
      "Machine Learning Engineer               289\n",
      "Analytics Engineer                      103\n",
      "                                       ... \n",
      "Principal Machine Learning Engineer       1\n",
      "Azure Data Engineer                       1\n",
      "Manager Data Management                   1\n",
      "Marketing Data Engineer                   1\n",
      "Finance Data Analyst                      1\n",
      "Name: count, Length: 93, dtype: int64\n"
     ]
    }
   ],
   "source": [
    "print(df['job_title'].value_counts())"
   ]
  },
  {
   "cell_type": "code",
   "execution_count": 10,
   "metadata": {},
   "outputs": [],
   "source": [
    "# save csv\n",
    "df.to_csv('../data/ds_salaries_cleaned.csv', index = False)"
   ]
  },
  {
   "cell_type": "code",
   "execution_count": 48,
   "metadata": {},
   "outputs": [
    {
     "data": {
      "application/vnd.plotly.v1+json": {
       "config": {
        "plotlyServerURL": "https://plot.ly"
       },
       "data": [
        {
         "alignmentgroup": "True",
         "hovertemplate": "x=%{x}<br>y=%{y}<br>text=%{text}<extra></extra>",
         "legendgroup": "",
         "marker": {
          "color": "#636efa",
          "pattern": {
           "shape": ""
          }
         },
         "name": "",
         "offsetgroup": "",
         "orientation": "v",
         "showlegend": false,
         "text": [
          1040,
          840,
          612,
          289,
          103,
          101,
          82,
          58,
          58,
          37
         ],
         "textposition": "auto",
         "type": "bar",
         "x": [
          "Data Engineer",
          "Data Scientist",
          "Data Analyst",
          "Machine Learning Engineer",
          "Analytics Engineer",
          "Data Architect",
          "Research Scientist",
          "Data Science Manager",
          "Applied Scientist",
          "Research Engineer"
         ],
         "xaxis": "x",
         "y": [
          1040,
          840,
          612,
          289,
          103,
          101,
          82,
          58,
          58,
          37
         ],
         "yaxis": "y"
        }
       ],
       "layout": {
        "barmode": "relative",
        "legend": {
         "tracegroupgap": 0
        },
        "template": {
         "data": {
          "bar": [
           {
            "error_x": {
             "color": "#2a3f5f"
            },
            "error_y": {
             "color": "#2a3f5f"
            },
            "marker": {
             "line": {
              "color": "#E5ECF6",
              "width": 0.5
             },
             "pattern": {
              "fillmode": "overlay",
              "size": 10,
              "solidity": 0.2
             }
            },
            "type": "bar"
           }
          ],
          "barpolar": [
           {
            "marker": {
             "line": {
              "color": "#E5ECF6",
              "width": 0.5
             },
             "pattern": {
              "fillmode": "overlay",
              "size": 10,
              "solidity": 0.2
             }
            },
            "type": "barpolar"
           }
          ],
          "carpet": [
           {
            "aaxis": {
             "endlinecolor": "#2a3f5f",
             "gridcolor": "white",
             "linecolor": "white",
             "minorgridcolor": "white",
             "startlinecolor": "#2a3f5f"
            },
            "baxis": {
             "endlinecolor": "#2a3f5f",
             "gridcolor": "white",
             "linecolor": "white",
             "minorgridcolor": "white",
             "startlinecolor": "#2a3f5f"
            },
            "type": "carpet"
           }
          ],
          "choropleth": [
           {
            "colorbar": {
             "outlinewidth": 0,
             "ticks": ""
            },
            "type": "choropleth"
           }
          ],
          "contour": [
           {
            "colorbar": {
             "outlinewidth": 0,
             "ticks": ""
            },
            "colorscale": [
             [
              0,
              "#0d0887"
             ],
             [
              0.1111111111111111,
              "#46039f"
             ],
             [
              0.2222222222222222,
              "#7201a8"
             ],
             [
              0.3333333333333333,
              "#9c179e"
             ],
             [
              0.4444444444444444,
              "#bd3786"
             ],
             [
              0.5555555555555556,
              "#d8576b"
             ],
             [
              0.6666666666666666,
              "#ed7953"
             ],
             [
              0.7777777777777778,
              "#fb9f3a"
             ],
             [
              0.8888888888888888,
              "#fdca26"
             ],
             [
              1,
              "#f0f921"
             ]
            ],
            "type": "contour"
           }
          ],
          "contourcarpet": [
           {
            "colorbar": {
             "outlinewidth": 0,
             "ticks": ""
            },
            "type": "contourcarpet"
           }
          ],
          "heatmap": [
           {
            "colorbar": {
             "outlinewidth": 0,
             "ticks": ""
            },
            "colorscale": [
             [
              0,
              "#0d0887"
             ],
             [
              0.1111111111111111,
              "#46039f"
             ],
             [
              0.2222222222222222,
              "#7201a8"
             ],
             [
              0.3333333333333333,
              "#9c179e"
             ],
             [
              0.4444444444444444,
              "#bd3786"
             ],
             [
              0.5555555555555556,
              "#d8576b"
             ],
             [
              0.6666666666666666,
              "#ed7953"
             ],
             [
              0.7777777777777778,
              "#fb9f3a"
             ],
             [
              0.8888888888888888,
              "#fdca26"
             ],
             [
              1,
              "#f0f921"
             ]
            ],
            "type": "heatmap"
           }
          ],
          "heatmapgl": [
           {
            "colorbar": {
             "outlinewidth": 0,
             "ticks": ""
            },
            "colorscale": [
             [
              0,
              "#0d0887"
             ],
             [
              0.1111111111111111,
              "#46039f"
             ],
             [
              0.2222222222222222,
              "#7201a8"
             ],
             [
              0.3333333333333333,
              "#9c179e"
             ],
             [
              0.4444444444444444,
              "#bd3786"
             ],
             [
              0.5555555555555556,
              "#d8576b"
             ],
             [
              0.6666666666666666,
              "#ed7953"
             ],
             [
              0.7777777777777778,
              "#fb9f3a"
             ],
             [
              0.8888888888888888,
              "#fdca26"
             ],
             [
              1,
              "#f0f921"
             ]
            ],
            "type": "heatmapgl"
           }
          ],
          "histogram": [
           {
            "marker": {
             "pattern": {
              "fillmode": "overlay",
              "size": 10,
              "solidity": 0.2
             }
            },
            "type": "histogram"
           }
          ],
          "histogram2d": [
           {
            "colorbar": {
             "outlinewidth": 0,
             "ticks": ""
            },
            "colorscale": [
             [
              0,
              "#0d0887"
             ],
             [
              0.1111111111111111,
              "#46039f"
             ],
             [
              0.2222222222222222,
              "#7201a8"
             ],
             [
              0.3333333333333333,
              "#9c179e"
             ],
             [
              0.4444444444444444,
              "#bd3786"
             ],
             [
              0.5555555555555556,
              "#d8576b"
             ],
             [
              0.6666666666666666,
              "#ed7953"
             ],
             [
              0.7777777777777778,
              "#fb9f3a"
             ],
             [
              0.8888888888888888,
              "#fdca26"
             ],
             [
              1,
              "#f0f921"
             ]
            ],
            "type": "histogram2d"
           }
          ],
          "histogram2dcontour": [
           {
            "colorbar": {
             "outlinewidth": 0,
             "ticks": ""
            },
            "colorscale": [
             [
              0,
              "#0d0887"
             ],
             [
              0.1111111111111111,
              "#46039f"
             ],
             [
              0.2222222222222222,
              "#7201a8"
             ],
             [
              0.3333333333333333,
              "#9c179e"
             ],
             [
              0.4444444444444444,
              "#bd3786"
             ],
             [
              0.5555555555555556,
              "#d8576b"
             ],
             [
              0.6666666666666666,
              "#ed7953"
             ],
             [
              0.7777777777777778,
              "#fb9f3a"
             ],
             [
              0.8888888888888888,
              "#fdca26"
             ],
             [
              1,
              "#f0f921"
             ]
            ],
            "type": "histogram2dcontour"
           }
          ],
          "mesh3d": [
           {
            "colorbar": {
             "outlinewidth": 0,
             "ticks": ""
            },
            "type": "mesh3d"
           }
          ],
          "parcoords": [
           {
            "line": {
             "colorbar": {
              "outlinewidth": 0,
              "ticks": ""
             }
            },
            "type": "parcoords"
           }
          ],
          "pie": [
           {
            "automargin": true,
            "type": "pie"
           }
          ],
          "scatter": [
           {
            "fillpattern": {
             "fillmode": "overlay",
             "size": 10,
             "solidity": 0.2
            },
            "type": "scatter"
           }
          ],
          "scatter3d": [
           {
            "line": {
             "colorbar": {
              "outlinewidth": 0,
              "ticks": ""
             }
            },
            "marker": {
             "colorbar": {
              "outlinewidth": 0,
              "ticks": ""
             }
            },
            "type": "scatter3d"
           }
          ],
          "scattercarpet": [
           {
            "marker": {
             "colorbar": {
              "outlinewidth": 0,
              "ticks": ""
             }
            },
            "type": "scattercarpet"
           }
          ],
          "scattergeo": [
           {
            "marker": {
             "colorbar": {
              "outlinewidth": 0,
              "ticks": ""
             }
            },
            "type": "scattergeo"
           }
          ],
          "scattergl": [
           {
            "marker": {
             "colorbar": {
              "outlinewidth": 0,
              "ticks": ""
             }
            },
            "type": "scattergl"
           }
          ],
          "scattermapbox": [
           {
            "marker": {
             "colorbar": {
              "outlinewidth": 0,
              "ticks": ""
             }
            },
            "type": "scattermapbox"
           }
          ],
          "scatterpolar": [
           {
            "marker": {
             "colorbar": {
              "outlinewidth": 0,
              "ticks": ""
             }
            },
            "type": "scatterpolar"
           }
          ],
          "scatterpolargl": [
           {
            "marker": {
             "colorbar": {
              "outlinewidth": 0,
              "ticks": ""
             }
            },
            "type": "scatterpolargl"
           }
          ],
          "scatterternary": [
           {
            "marker": {
             "colorbar": {
              "outlinewidth": 0,
              "ticks": ""
             }
            },
            "type": "scatterternary"
           }
          ],
          "surface": [
           {
            "colorbar": {
             "outlinewidth": 0,
             "ticks": ""
            },
            "colorscale": [
             [
              0,
              "#0d0887"
             ],
             [
              0.1111111111111111,
              "#46039f"
             ],
             [
              0.2222222222222222,
              "#7201a8"
             ],
             [
              0.3333333333333333,
              "#9c179e"
             ],
             [
              0.4444444444444444,
              "#bd3786"
             ],
             [
              0.5555555555555556,
              "#d8576b"
             ],
             [
              0.6666666666666666,
              "#ed7953"
             ],
             [
              0.7777777777777778,
              "#fb9f3a"
             ],
             [
              0.8888888888888888,
              "#fdca26"
             ],
             [
              1,
              "#f0f921"
             ]
            ],
            "type": "surface"
           }
          ],
          "table": [
           {
            "cells": {
             "fill": {
              "color": "#EBF0F8"
             },
             "line": {
              "color": "white"
             }
            },
            "header": {
             "fill": {
              "color": "#C8D4E3"
             },
             "line": {
              "color": "white"
             }
            },
            "type": "table"
           }
          ]
         },
         "layout": {
          "annotationdefaults": {
           "arrowcolor": "#2a3f5f",
           "arrowhead": 0,
           "arrowwidth": 1
          },
          "autotypenumbers": "strict",
          "coloraxis": {
           "colorbar": {
            "outlinewidth": 0,
            "ticks": ""
           }
          },
          "colorscale": {
           "diverging": [
            [
             0,
             "#8e0152"
            ],
            [
             0.1,
             "#c51b7d"
            ],
            [
             0.2,
             "#de77ae"
            ],
            [
             0.3,
             "#f1b6da"
            ],
            [
             0.4,
             "#fde0ef"
            ],
            [
             0.5,
             "#f7f7f7"
            ],
            [
             0.6,
             "#e6f5d0"
            ],
            [
             0.7,
             "#b8e186"
            ],
            [
             0.8,
             "#7fbc41"
            ],
            [
             0.9,
             "#4d9221"
            ],
            [
             1,
             "#276419"
            ]
           ],
           "sequential": [
            [
             0,
             "#0d0887"
            ],
            [
             0.1111111111111111,
             "#46039f"
            ],
            [
             0.2222222222222222,
             "#7201a8"
            ],
            [
             0.3333333333333333,
             "#9c179e"
            ],
            [
             0.4444444444444444,
             "#bd3786"
            ],
            [
             0.5555555555555556,
             "#d8576b"
            ],
            [
             0.6666666666666666,
             "#ed7953"
            ],
            [
             0.7777777777777778,
             "#fb9f3a"
            ],
            [
             0.8888888888888888,
             "#fdca26"
            ],
            [
             1,
             "#f0f921"
            ]
           ],
           "sequentialminus": [
            [
             0,
             "#0d0887"
            ],
            [
             0.1111111111111111,
             "#46039f"
            ],
            [
             0.2222222222222222,
             "#7201a8"
            ],
            [
             0.3333333333333333,
             "#9c179e"
            ],
            [
             0.4444444444444444,
             "#bd3786"
            ],
            [
             0.5555555555555556,
             "#d8576b"
            ],
            [
             0.6666666666666666,
             "#ed7953"
            ],
            [
             0.7777777777777778,
             "#fb9f3a"
            ],
            [
             0.8888888888888888,
             "#fdca26"
            ],
            [
             1,
             "#f0f921"
            ]
           ]
          },
          "colorway": [
           "#636efa",
           "#EF553B",
           "#00cc96",
           "#ab63fa",
           "#FFA15A",
           "#19d3f3",
           "#FF6692",
           "#B6E880",
           "#FF97FF",
           "#FECB52"
          ],
          "font": {
           "color": "#2a3f5f"
          },
          "geo": {
           "bgcolor": "white",
           "lakecolor": "white",
           "landcolor": "#E5ECF6",
           "showlakes": true,
           "showland": true,
           "subunitcolor": "white"
          },
          "hoverlabel": {
           "align": "left"
          },
          "hovermode": "closest",
          "mapbox": {
           "style": "light"
          },
          "paper_bgcolor": "white",
          "plot_bgcolor": "#E5ECF6",
          "polar": {
           "angularaxis": {
            "gridcolor": "white",
            "linecolor": "white",
            "ticks": ""
           },
           "bgcolor": "#E5ECF6",
           "radialaxis": {
            "gridcolor": "white",
            "linecolor": "white",
            "ticks": ""
           }
          },
          "scene": {
           "xaxis": {
            "backgroundcolor": "#E5ECF6",
            "gridcolor": "white",
            "gridwidth": 2,
            "linecolor": "white",
            "showbackground": true,
            "ticks": "",
            "zerolinecolor": "white"
           },
           "yaxis": {
            "backgroundcolor": "#E5ECF6",
            "gridcolor": "white",
            "gridwidth": 2,
            "linecolor": "white",
            "showbackground": true,
            "ticks": "",
            "zerolinecolor": "white"
           },
           "zaxis": {
            "backgroundcolor": "#E5ECF6",
            "gridcolor": "white",
            "gridwidth": 2,
            "linecolor": "white",
            "showbackground": true,
            "ticks": "",
            "zerolinecolor": "white"
           }
          },
          "shapedefaults": {
           "line": {
            "color": "#2a3f5f"
           }
          },
          "ternary": {
           "aaxis": {
            "gridcolor": "white",
            "linecolor": "white",
            "ticks": ""
           },
           "baxis": {
            "gridcolor": "white",
            "linecolor": "white",
            "ticks": ""
           },
           "bgcolor": "#E5ECF6",
           "caxis": {
            "gridcolor": "white",
            "linecolor": "white",
            "ticks": ""
           }
          },
          "title": {
           "x": 0.05
          },
          "xaxis": {
           "automargin": true,
           "gridcolor": "white",
           "linecolor": "white",
           "ticks": "",
           "title": {
            "standoff": 15
           },
           "zerolinecolor": "white",
           "zerolinewidth": 2
          },
          "yaxis": {
           "automargin": true,
           "gridcolor": "white",
           "linecolor": "white",
           "ticks": "",
           "title": {
            "standoff": 15
           },
           "zerolinecolor": "white",
           "zerolinewidth": 2
          }
         }
        },
        "title": {
         "text": "Top 10 Job Designations"
        },
        "xaxis": {
         "anchor": "y",
         "domain": [
          0,
          1
         ],
         "title": {
          "text": "Job Designations"
         }
        },
        "yaxis": {
         "anchor": "x",
         "domain": [
          0,
          1
         ],
         "title": {
          "text": "Count"
         }
        }
       }
      }
     },
     "metadata": {},
     "output_type": "display_data"
    }
   ],
   "source": [
    "top15_job_titles = df['job_title'].value_counts()[:10]\n",
    "fig = px.bar(y = top15_job_titles.values, x = top15_job_titles.index, \n",
    "            text = top15_job_titles.values, title = 'Top 10 Job Designations')\n",
    "fig.update_layout(xaxis_title = \"Job Designations\", yaxis_title = \"Count\")\n",
    "fig.show()"
   ]
  },
  {
   "cell_type": "markdown",
   "metadata": {},
   "source": [
    "# I prepared the features (X) and the target variable (y) for a machine learning model,"
   ]
  },
  {
   "cell_type": "code",
   "execution_count": 43,
   "metadata": {},
   "outputs": [],
   "source": [
    "# Step 1: Preprocess the data\n",
    "X = df.drop(['salary_in_usd'], axis=1)\n",
    "y = df['salary_in_usd']"
   ]
  },
  {
   "cell_type": "code",
   "execution_count": 44,
   "metadata": {},
   "outputs": [
    {
     "data": {
      "text/html": [
       "<div>\n",
       "<style scoped>\n",
       "    .dataframe tbody tr th:only-of-type {\n",
       "        vertical-align: middle;\n",
       "    }\n",
       "\n",
       "    .dataframe tbody tr th {\n",
       "        vertical-align: top;\n",
       "    }\n",
       "\n",
       "    .dataframe thead th {\n",
       "        text-align: right;\n",
       "    }\n",
       "</style>\n",
       "<table border=\"1\" class=\"dataframe\">\n",
       "  <thead>\n",
       "    <tr style=\"text-align: right;\">\n",
       "      <th></th>\n",
       "      <th>work_year</th>\n",
       "      <th>experience_level</th>\n",
       "      <th>employment_type</th>\n",
       "      <th>job_title</th>\n",
       "      <th>employee_residence</th>\n",
       "      <th>remote_ratio</th>\n",
       "      <th>company_location</th>\n",
       "      <th>company_size</th>\n",
       "    </tr>\n",
       "  </thead>\n",
       "  <tbody>\n",
       "    <tr>\n",
       "      <th>0</th>\n",
       "      <td>2023</td>\n",
       "      <td>SE</td>\n",
       "      <td>Full-Time</td>\n",
       "      <td>Principal Data Scientist</td>\n",
       "      <td>ES</td>\n",
       "      <td>100</td>\n",
       "      <td>ES</td>\n",
       "      <td>L</td>\n",
       "    </tr>\n",
       "    <tr>\n",
       "      <th>1</th>\n",
       "      <td>2023</td>\n",
       "      <td>MI</td>\n",
       "      <td>Contract</td>\n",
       "      <td>ML Engineer</td>\n",
       "      <td>US</td>\n",
       "      <td>100</td>\n",
       "      <td>US</td>\n",
       "      <td>S</td>\n",
       "    </tr>\n",
       "    <tr>\n",
       "      <th>2</th>\n",
       "      <td>2023</td>\n",
       "      <td>MI</td>\n",
       "      <td>Contract</td>\n",
       "      <td>ML Engineer</td>\n",
       "      <td>US</td>\n",
       "      <td>100</td>\n",
       "      <td>US</td>\n",
       "      <td>S</td>\n",
       "    </tr>\n",
       "    <tr>\n",
       "      <th>3</th>\n",
       "      <td>2023</td>\n",
       "      <td>SE</td>\n",
       "      <td>Full-Time</td>\n",
       "      <td>Data Scientist</td>\n",
       "      <td>CA</td>\n",
       "      <td>100</td>\n",
       "      <td>CA</td>\n",
       "      <td>M</td>\n",
       "    </tr>\n",
       "    <tr>\n",
       "      <th>4</th>\n",
       "      <td>2023</td>\n",
       "      <td>SE</td>\n",
       "      <td>Full-Time</td>\n",
       "      <td>Data Scientist</td>\n",
       "      <td>CA</td>\n",
       "      <td>100</td>\n",
       "      <td>CA</td>\n",
       "      <td>M</td>\n",
       "    </tr>\n",
       "  </tbody>\n",
       "</table>\n",
       "</div>"
      ],
      "text/plain": [
       "   work_year experience_level employment_type                 job_title  \\\n",
       "0       2023               SE       Full-Time  Principal Data Scientist   \n",
       "1       2023               MI        Contract               ML Engineer   \n",
       "2       2023               MI        Contract               ML Engineer   \n",
       "3       2023               SE       Full-Time            Data Scientist   \n",
       "4       2023               SE       Full-Time            Data Scientist   \n",
       "\n",
       "  employee_residence  remote_ratio company_location company_size  \n",
       "0                 ES           100               ES            L  \n",
       "1                 US           100               US            S  \n",
       "2                 US           100               US            S  \n",
       "3                 CA           100               CA            M  \n",
       "4                 CA           100               CA            M  "
      ]
     },
     "execution_count": 44,
     "metadata": {},
     "output_type": "execute_result"
    }
   ],
   "source": [
    "# print X first 5 rows\n",
    "X.head()"
   ]
  },
  {
   "cell_type": "code",
   "execution_count": 45,
   "metadata": {},
   "outputs": [
    {
     "data": {
      "text/plain": [
       "0     85847\n",
       "1     30000\n",
       "2     25500\n",
       "3    175000\n",
       "4    120000\n",
       "Name: salary_in_usd, dtype: int64"
      ]
     },
     "execution_count": 45,
     "metadata": {},
     "output_type": "execute_result"
    }
   ],
   "source": [
    "#print y first 5 rows\n",
    "y.head()"
   ]
  },
  {
   "cell_type": "markdown",
   "metadata": {},
   "source": [
    "# This block of code includes several steps in data preprocessing for a machine learning model. It one-hot encodes and standardizes"
   ]
  },
  {
   "cell_type": "code",
   "execution_count": 46,
   "metadata": {},
   "outputs": [],
   "source": [
    "\n",
    "\n",
    "# One-hot encode categorical columns 類別型變數轉換成數值型態\n",
    "categorical_columns = ['experience_level', 'employment_type', 'job_title', 'employee_residence', 'company_location', 'company_size']\n",
    "onehotencoder = OneHotEncoder()\n",
    "X_categorical = onehotencoder.fit_transform(X[categorical_columns]).toarray()\n",
    "\n",
    "# Standardize numerical columns 用來標準化數值型數據\n",
    "numerical_columns = ['work_year', 'remote_ratio'] \n",
    "scaler = StandardScaler()\n",
    "X_numerical = scaler.fit_transform(X[numerical_columns])\n",
    "\n",
    "# Concatenate the numerical and categorical features\n",
    "X_processed = np.concatenate((X_numerical, X_categorical), axis=1)\n",
    "\n",
    "# Convert target to a suitable format\n",
    "y = y.values.reshape(-1, 1)\n",
    "y_scaler = StandardScaler()\n",
    "y_scaled = y_scaler.fit_transform(y)\n",
    "\n",
    "# Split the dataset into training and testing sets\n",
    "X_train, X_test, y_train, y_test = train_test_split(X_processed, y_scaled, test_size=0.2, random_state=42)\n"
   ]
  },
  {
   "cell_type": "markdown",
   "metadata": {},
   "source": [
    "#  the process of converting the training and testing sets for both features and target variables into PyTorch tensors, "
   ]
  },
  {
   "cell_type": "code",
   "execution_count": 47,
   "metadata": {},
   "outputs": [],
   "source": [
    "\n",
    "# Convert arrays to PyTorch tensors\n",
    "X_train_tensor = torch.tensor(X_train, dtype=torch.float32)\n",
    "y_train_tensor = torch.tensor(y_train, dtype=torch.float32)\n",
    "X_test_tensor = torch.tensor(X_test, dtype=torch.float32)\n",
    "y_test_tensor = torch.tensor(y_test, dtype=torch.float32)\n",
    "\n",
    "# Step 2: Define a PyTorch Dataset\n",
    "class SalaryDataset(Dataset):\n",
    "    def __init__(self, features, labels):\n",
    "        self.features = features\n",
    "        self.labels = labels\n",
    "    \n",
    "    def __len__(self):\n",
    "        return len(self.features)\n",
    "    \n",
    "    def __getitem__(self, idx):\n",
    "        return self.features[idx], self.labels[idx]\n",
    "\n",
    "train_dataset = SalaryDataset(X_train_tensor, y_train_tensor)\n",
    "test_dataset = SalaryDataset(X_test_tensor, y_test_tensor)"
   ]
  },
  {
   "cell_type": "markdown",
   "metadata": {},
   "source": [
    "# we define the SalaryPredictor class, a neural network model for salary prediction, using PyTorch's nn.Module. The model includes two hidden layers with ReLU activations and an output layer. "
   ]
  },
  {
   "cell_type": "code",
   "execution_count": 48,
   "metadata": {},
   "outputs": [],
   "source": [
    "# Step 3: Create a neural network model\n",
    "class SalaryPredictor(nn.Module):\n",
    "    def __init__(self, input_size):\n",
    "        super(SalaryPredictor, self).__init__()\n",
    "        self.layer1 = nn.Linear(input_size, 64)\n",
    "        self.layer2 = nn.Linear(64, 32)\n",
    "        self.output_layer = nn.Linear(32, 1)\n",
    "    \n",
    "    def forward(self, x):\n",
    "        x = torch.relu(self.layer1(x))\n",
    "        x = torch.relu(self.layer2(x))\n",
    "        x = self.output_layer(x)\n",
    "        return x\n",
    "\n",
    "model = SalaryPredictor(X_train_tensor.shape[1])\n",
    "\n",
    "# Step 4: Define a loss function and an optimizer\n",
    "criterion = nn.MSELoss()\n",
    "optimizer = optim.Adam(model.parameters(), lr=0.001)"
   ]
  },
  {
   "cell_type": "code",
   "execution_count": 49,
   "metadata": {},
   "outputs": [
    {
     "name": "stdout",
     "output_type": "stream",
     "text": [
      "Epoch [1/50], Loss: 0.5634\n",
      "Epoch [2/50], Loss: 0.7208\n",
      "Epoch [3/50], Loss: 0.7309\n",
      "Epoch [4/50], Loss: 0.6130\n",
      "Epoch [5/50], Loss: 0.2944\n",
      "Epoch [6/50], Loss: 0.4063\n",
      "Epoch [7/50], Loss: 0.4794\n",
      "Epoch [8/50], Loss: 0.4944\n",
      "Epoch [9/50], Loss: 0.5899\n",
      "Epoch [10/50], Loss: 0.3752\n",
      "Epoch [11/50], Loss: 1.4803\n",
      "Epoch [12/50], Loss: 0.4032\n",
      "Epoch [13/50], Loss: 0.8883\n",
      "Epoch [14/50], Loss: 0.5899\n",
      "Epoch [15/50], Loss: 0.4567\n",
      "Epoch [16/50], Loss: 0.6912\n",
      "Epoch [17/50], Loss: 0.3979\n",
      "Epoch [18/50], Loss: 0.4326\n",
      "Epoch [19/50], Loss: 0.3371\n",
      "Epoch [20/50], Loss: 0.6940\n",
      "Epoch [21/50], Loss: 0.3203\n",
      "Epoch [22/50], Loss: 0.3204\n",
      "Epoch [23/50], Loss: 0.7406\n",
      "Epoch [24/50], Loss: 0.3173\n",
      "Epoch [25/50], Loss: 0.3503\n",
      "Epoch [26/50], Loss: 0.3600\n",
      "Epoch [27/50], Loss: 0.5237\n",
      "Epoch [28/50], Loss: 0.5391\n",
      "Epoch [29/50], Loss: 0.3778\n",
      "Epoch [30/50], Loss: 0.5364\n",
      "Epoch [31/50], Loss: 0.5373\n",
      "Epoch [32/50], Loss: 0.4850\n",
      "Epoch [33/50], Loss: 0.2247\n",
      "Epoch [34/50], Loss: 0.4113\n",
      "Epoch [35/50], Loss: 0.4690\n",
      "Epoch [36/50], Loss: 0.3204\n",
      "Epoch [37/50], Loss: 0.3511\n",
      "Epoch [38/50], Loss: 0.5425\n",
      "Epoch [39/50], Loss: 0.4141\n",
      "Epoch [40/50], Loss: 0.5376\n",
      "Epoch [41/50], Loss: 0.2373\n",
      "Epoch [42/50], Loss: 0.5027\n",
      "Epoch [43/50], Loss: 0.6164\n",
      "Epoch [44/50], Loss: 0.3456\n",
      "Epoch [45/50], Loss: 0.4637\n",
      "Epoch [46/50], Loss: 0.2546\n",
      "Epoch [47/50], Loss: 0.1726\n",
      "Epoch [48/50], Loss: 1.2270\n",
      "Epoch [49/50], Loss: 0.2526\n",
      "Epoch [50/50], Loss: 0.6421\n"
     ]
    }
   ],
   "source": [
    "# Step 5: Train the model\n",
    "def train_model(train_data, model, criterion, optimizer, epochs):\n",
    "    for epoch in range(epochs):\n",
    "        for features, labels in train_data:\n",
    "            # Forward pass\n",
    "            outputs = model(features)\n",
    "            loss = criterion(outputs, labels)\n",
    "            \n",
    "            # Backward and optimize\n",
    "            optimizer.zero_grad()\n",
    "            loss.backward()\n",
    "            optimizer.step()\n",
    "        \n",
    "        print(f'Epoch [{epoch+1}/{epochs}], Loss: {loss.item():.4f}')\n",
    "\n",
    "# DataLoader for batch processing\n",
    "train_loader = DataLoader(dataset=train_dataset, batch_size=32, shuffle=True)\n",
    "\n",
    "# Training the model\n",
    "train_model(train_loader, model, criterion, optimizer, epochs=50)\n"
   ]
  },
  {
   "cell_type": "markdown",
   "metadata": {},
   "source": [
    "after fininsh training"
   ]
  },
  {
   "cell_type": "markdown",
   "metadata": {},
   "source": [
    "# An average relative error of 0.11 in our salary prediction model\n",
    "- This error means that, on average, the predicted salaries are off by 11% from the actual salaries. \n",
    "- It seems the prediction was not correct,The gap is too big\n",
    "- Maybe we can removing some column that can not improve model performance. "
   ]
  },
  {
   "cell_type": "code",
   "execution_count": 50,
   "metadata": {},
   "outputs": [
    {
     "name": "stdout",
     "output_type": "stream",
     "text": [
      "Original salary_in_usd: 168000.00 USD, Predicted salary_in_usd: 223925.08 USD\n",
      "Original salary_in_usd: 179975.00 USD, Predicted salary_in_usd: 124826.28 USD\n",
      "Original salary_in_usd: 144000.00 USD, Predicted salary_in_usd: 158123.00 USD\n",
      "Original salary_in_usd: 222200.00 USD, Predicted salary_in_usd: 198663.83 USD\n",
      "Original salary_in_usd: 230000.00 USD, Predicted salary_in_usd: 81259.20 USD\n",
      "Original salary_in_usd: 40000.00 USD, Predicted salary_in_usd: 49039.64 USD\n",
      "Original salary_in_usd: 105000.00 USD, Predicted salary_in_usd: 168471.19 USD\n",
      "Original salary_in_usd: 100000.00 USD, Predicted salary_in_usd: 76063.72 USD\n",
      "Original salary_in_usd: 29751.00 USD, Predicted salary_in_usd: 6235.91 USD\n",
      "Original salary_in_usd: 153090.00 USD, Predicted salary_in_usd: 168938.28 USD\n",
      "Original salary_in_usd: 52533.00 USD, Predicted salary_in_usd: 67064.21 USD\n",
      "Original salary_in_usd: 115000.00 USD, Predicted salary_in_usd: 157387.39 USD\n",
      "Original salary_in_usd: 128000.00 USD, Predicted salary_in_usd: 157279.59 USD\n",
      "Original salary_in_usd: 30523.00 USD, Predicted salary_in_usd: 24635.03 USD\n",
      "Original salary_in_usd: 128500.00 USD, Predicted salary_in_usd: 129905.02 USD\n",
      "Original salary_in_usd: 92000.00 USD, Predicted salary_in_usd: 156047.09 USD\n",
      "Original salary_in_usd: 160000.00 USD, Predicted salary_in_usd: 136453.22 USD\n",
      "Original salary_in_usd: 168000.00 USD, Predicted salary_in_usd: 158123.00 USD\n",
      "Original salary_in_usd: 210000.00 USD, Predicted salary_in_usd: 157387.39 USD\n",
      "Original salary_in_usd: 153400.00 USD, Predicted salary_in_usd: 168471.19 USD\n",
      "Original salary_in_usd: 140000.00 USD, Predicted salary_in_usd: 137138.48 USD\n",
      "Original salary_in_usd: 99050.00 USD, Predicted salary_in_usd: 115251.27 USD\n",
      "Original salary_in_usd: 259000.00 USD, Predicted salary_in_usd: 167295.86 USD\n",
      "Original salary_in_usd: 200000.00 USD, Predicted salary_in_usd: 149643.55 USD\n",
      "Original salary_in_usd: 134236.00 USD, Predicted salary_in_usd: 168471.19 USD\n",
      "Original salary_in_usd: 170000.00 USD, Predicted salary_in_usd: 137164.70 USD\n",
      "Original salary_in_usd: 200000.00 USD, Predicted salary_in_usd: 157525.50 USD\n",
      "Original salary_in_usd: 120250.00 USD, Predicted salary_in_usd: 124826.28 USD\n",
      "Original salary_in_usd: 54094.00 USD, Predicted salary_in_usd: 187179.30 USD\n",
      "Original salary_in_usd: 145000.00 USD, Predicted salary_in_usd: 140885.69 USD\n",
      "Original salary_in_usd: 143860.00 USD, Predicted salary_in_usd: 176068.61 USD\n",
      "Original salary_in_usd: 138000.00 USD, Predicted salary_in_usd: 124826.28 USD\n",
      "Original salary_in_usd: 216000.00 USD, Predicted salary_in_usd: 153058.42 USD\n",
      "Original salary_in_usd: 61300.00 USD, Predicted salary_in_usd: 106659.32 USD\n",
      "Original salary_in_usd: 42197.00 USD, Predicted salary_in_usd: 75558.21 USD\n",
      "Original salary_in_usd: 140000.00 USD, Predicted salary_in_usd: 141271.19 USD\n",
      "Original salary_in_usd: 5409.00 USD, Predicted salary_in_usd: 30239.86 USD\n",
      "Original salary_in_usd: 10000.01 USD, Predicted salary_in_usd: 27379.90 USD\n",
      "Original salary_in_usd: 180180.00 USD, Predicted salary_in_usd: 129905.02 USD\n",
      "Original salary_in_usd: 188100.00 USD, Predicted salary_in_usd: 149095.48 USD\n",
      "Original salary_in_usd: 150000.00 USD, Predicted salary_in_usd: 178237.39 USD\n",
      "Original salary_in_usd: 100000.00 USD, Predicted salary_in_usd: 66778.02 USD\n",
      "Original salary_in_usd: 130000.00 USD, Predicted salary_in_usd: 169838.73 USD\n",
      "Original salary_in_usd: 161311.00 USD, Predicted salary_in_usd: 159506.62 USD\n",
      "Original salary_in_usd: 205600.00 USD, Predicted salary_in_usd: 156040.75 USD\n",
      "Original salary_in_usd: 140000.00 USD, Predicted salary_in_usd: 129905.02 USD\n",
      "Original salary_in_usd: 76814.00 USD, Predicted salary_in_usd: 154983.31 USD\n",
      "Original salary_in_usd: 102100.00 USD, Predicted salary_in_usd: 149095.48 USD\n",
      "Original salary_in_usd: 83500.00 USD, Predicted salary_in_usd: 94761.56 USD\n",
      "Original salary_in_usd: 68293.00 USD, Predicted salary_in_usd: 119953.20 USD\n",
      "Original salary_in_usd: 6072.00 USD, Predicted salary_in_usd: 3722.70 USD\n",
      "Original salary_in_usd: 50000.00 USD, Predicted salary_in_usd: 146232.89 USD\n",
      "Original salary_in_usd: 370000.00 USD, Predicted salary_in_usd: 168471.19 USD\n",
      "Original salary_in_usd: 99450.00 USD, Predicted salary_in_usd: 115251.27 USD\n",
      "Original salary_in_usd: 257000.00 USD, Predicted salary_in_usd: 168471.19 USD\n",
      "Original salary_in_usd: 160000.00 USD, Predicted salary_in_usd: 161498.77 USD\n",
      "Original salary_in_usd: 109000.00 USD, Predicted salary_in_usd: 131708.41 USD\n",
      "Original salary_in_usd: 155000.00 USD, Predicted salary_in_usd: 168471.19 USD\n",
      "Original salary_in_usd: 230000.00 USD, Predicted salary_in_usd: 158123.00 USD\n",
      "Original salary_in_usd: 160288.00 USD, Predicted salary_in_usd: 140389.83 USD\n",
      "Original salary_in_usd: 90700.00 USD, Predicted salary_in_usd: 157279.59 USD\n",
      "Original salary_in_usd: 150000.00 USD, Predicted salary_in_usd: 103131.95 USD\n",
      "Original salary_in_usd: 40777.00 USD, Predicted salary_in_usd: 55144.95 USD\n",
      "Original salary_in_usd: 165000.00 USD, Predicted salary_in_usd: 168471.19 USD\n",
      "Original salary_in_usd: 180000.00 USD, Predicted salary_in_usd: 153769.48 USD\n",
      "Original salary_in_usd: 54094.00 USD, Predicted salary_in_usd: 63624.46 USD\n",
      "Original salary_in_usd: 175000.00 USD, Predicted salary_in_usd: 137138.48 USD\n",
      "Original salary_in_usd: 134000.00 USD, Predicted salary_in_usd: 124816.00 USD\n",
      "Original salary_in_usd: 180000.00 USD, Predicted salary_in_usd: 129007.91 USD\n",
      "Original salary_in_usd: 140000.00 USD, Predicted salary_in_usd: 156706.64 USD\n",
      "Original salary_in_usd: 205300.00 USD, Predicted salary_in_usd: 154888.44 USD\n",
      "Original salary_in_usd: 75000.00 USD, Predicted salary_in_usd: 110801.25 USD\n",
      "Original salary_in_usd: 130760.00 USD, Predicted salary_in_usd: 174273.42 USD\n",
      "Original salary_in_usd: 105000.00 USD, Predicted salary_in_usd: 124466.10 USD\n",
      "Original salary_in_usd: 98200.00 USD, Predicted salary_in_usd: 154915.20 USD\n",
      "Original salary_in_usd: 280700.00 USD, Predicted salary_in_usd: 161138.94 USD\n",
      "Original salary_in_usd: 195000.00 USD, Predicted salary_in_usd: 168471.19 USD\n",
      "Original salary_in_usd: 128000.00 USD, Predicted salary_in_usd: 119333.23 USD\n",
      "Original salary_in_usd: 230000.00 USD, Predicted salary_in_usd: 174668.00 USD\n",
      "Original salary_in_usd: 92250.00 USD, Predicted salary_in_usd: 107035.10 USD\n",
      "Original salary_in_usd: 67723.00 USD, Predicted salary_in_usd: 81588.28 USD\n",
      "Original salary_in_usd: 140000.00 USD, Predicted salary_in_usd: 156706.64 USD\n",
      "Original salary_in_usd: 230000.00 USD, Predicted salary_in_usd: 157279.59 USD\n",
      "Original salary_in_usd: 120000.00 USD, Predicted salary_in_usd: 205588.11 USD\n",
      "Original salary_in_usd: 89306.00 USD, Predicted salary_in_usd: 69583.46 USD\n",
      "Original salary_in_usd: 77684.00 USD, Predicted salary_in_usd: 87420.18 USD\n",
      "Original salary_in_usd: 130000.00 USD, Predicted salary_in_usd: 143598.89 USD\n",
      "Original salary_in_usd: 220000.00 USD, Predicted salary_in_usd: 157279.59 USD\n",
      "Original salary_in_usd: 120402.00 USD, Predicted salary_in_usd: 77956.97 USD\n",
      "Original salary_in_usd: 150000.00 USD, Predicted salary_in_usd: 146796.11 USD\n",
      "Original salary_in_usd: 121523.00 USD, Predicted salary_in_usd: 121532.52 USD\n",
      "Original salary_in_usd: 153000.00 USD, Predicted salary_in_usd: 168544.69 USD\n",
      "Original salary_in_usd: 130000.00 USD, Predicted salary_in_usd: 158123.00 USD\n",
      "Original salary_in_usd: 65000.00 USD, Predicted salary_in_usd: 94761.56 USD\n",
      "Original salary_in_usd: 170000.00 USD, Predicted salary_in_usd: 143598.89 USD\n",
      "Original salary_in_usd: 115000.00 USD, Predicted salary_in_usd: 115251.27 USD\n",
      "Original salary_in_usd: 170000.00 USD, Predicted salary_in_usd: 168471.19 USD\n",
      "Original salary_in_usd: 92700.00 USD, Predicted salary_in_usd: 89215.89 USD\n",
      "Original salary_in_usd: 304000.00 USD, Predicted salary_in_usd: 205588.11 USD\n",
      "Original salary_in_usd: 170000.00 USD, Predicted salary_in_usd: 158123.00 USD\n",
      "Original salary_in_usd: 145000.00 USD, Predicted salary_in_usd: 176947.53 USD\n",
      "Original salary_in_usd: 185800.00 USD, Predicted salary_in_usd: 123962.57 USD\n",
      "Original salary_in_usd: 110000.00 USD, Predicted salary_in_usd: 176947.53 USD\n",
      "Original salary_in_usd: 247500.00 USD, Predicted salary_in_usd: 149095.48 USD\n",
      "Original salary_in_usd: 12000.01 USD, Predicted salary_in_usd: 53532.23 USD\n",
      "Original salary_in_usd: 104500.00 USD, Predicted salary_in_usd: 216454.23 USD\n",
      "Original salary_in_usd: 98506.00 USD, Predicted salary_in_usd: 114795.02 USD\n",
      "Original salary_in_usd: 195400.00 USD, Predicted salary_in_usd: 155391.62 USD\n",
      "Original salary_in_usd: 90000.00 USD, Predicted salary_in_usd: 110369.31 USD\n",
      "Original salary_in_usd: 123400.00 USD, Predicted salary_in_usd: 156706.64 USD\n",
      "Original salary_in_usd: 135000.00 USD, Predicted salary_in_usd: 107828.97 USD\n",
      "Original salary_in_usd: 165000.00 USD, Predicted salary_in_usd: 124826.28 USD\n",
      "Original salary_in_usd: 148500.00 USD, Predicted salary_in_usd: 129905.02 USD\n",
      "Original salary_in_usd: 252000.00 USD, Predicted salary_in_usd: 157279.59 USD\n",
      "Original salary_in_usd: 106020.00 USD, Predicted salary_in_usd: 129905.02 USD\n",
      "Original salary_in_usd: 105000.00 USD, Predicted salary_in_usd: 89533.83 USD\n",
      "Original salary_in_usd: 65000.00 USD, Predicted salary_in_usd: 124466.10 USD\n",
      "Original salary_in_usd: 54634.00 USD, Predicted salary_in_usd: 72373.29 USD\n",
      "Original salary_in_usd: 200000.00 USD, Predicted salary_in_usd: 157387.39 USD\n",
      "Original salary_in_usd: 136000.00 USD, Predicted salary_in_usd: 176947.53 USD\n",
      "Original salary_in_usd: 109371.00 USD, Predicted salary_in_usd: 66554.41 USD\n",
      "Original salary_in_usd: 205000.00 USD, Predicted salary_in_usd: 157387.39 USD\n",
      "Original salary_in_usd: 100000.00 USD, Predicted salary_in_usd: 131708.41 USD\n",
      "Original salary_in_usd: 95000.00 USD, Predicted salary_in_usd: 129905.02 USD\n",
      "Original salary_in_usd: 80000.00 USD, Predicted salary_in_usd: 129905.02 USD\n",
      "Original salary_in_usd: 247300.00 USD, Predicted salary_in_usd: 157279.59 USD\n",
      "Original salary_in_usd: 200000.00 USD, Predicted salary_in_usd: 182513.77 USD\n",
      "Original salary_in_usd: 220000.00 USD, Predicted salary_in_usd: 168938.28 USD\n",
      "Original salary_in_usd: 46178.00 USD, Predicted salary_in_usd: 73337.48 USD\n",
      "Original salary_in_usd: 247500.00 USD, Predicted salary_in_usd: 168938.28 USD\n",
      "Original salary_in_usd: 183500.00 USD, Predicted salary_in_usd: 176947.53 USD\n",
      "Original salary_in_usd: 269600.00 USD, Predicted salary_in_usd: 260761.23 USD\n",
      "Original salary_in_usd: 62726.00 USD, Predicted salary_in_usd: 56002.46 USD\n",
      "Original salary_in_usd: 195000.00 USD, Predicted salary_in_usd: 187793.52 USD\n",
      "Original salary_in_usd: 185000.00 USD, Predicted salary_in_usd: 189386.03 USD\n",
      "Original salary_in_usd: 198440.00 USD, Predicted salary_in_usd: 158123.00 USD\n",
      "Original salary_in_usd: 28369.00 USD, Predicted salary_in_usd: 81059.90 USD\n",
      "Original salary_in_usd: 63000.01 USD, Predicted salary_in_usd: 149095.48 USD\n",
      "Original salary_in_usd: 130000.00 USD, Predicted salary_in_usd: 149095.48 USD\n",
      "Original salary_in_usd: 173000.00 USD, Predicted salary_in_usd: 168994.48 USD\n",
      "Original salary_in_usd: 208450.00 USD, Predicted salary_in_usd: 124826.28 USD\n",
      "Original salary_in_usd: 116100.00 USD, Predicted salary_in_usd: 257051.20 USD\n",
      "Original salary_in_usd: 230000.00 USD, Predicted salary_in_usd: 186492.00 USD\n",
      "Original salary_in_usd: 205300.00 USD, Predicted salary_in_usd: 156706.64 USD\n",
      "Original salary_in_usd: 169000.00 USD, Predicted salary_in_usd: 122612.97 USD\n",
      "Original salary_in_usd: 185900.00 USD, Predicted salary_in_usd: 149095.48 USD\n",
      "Original salary_in_usd: 260000.00 USD, Predicted salary_in_usd: 157279.59 USD\n",
      "Original salary_in_usd: 218500.00 USD, Predicted salary_in_usd: 176947.53 USD\n",
      "Original salary_in_usd: 99000.00 USD, Predicted salary_in_usd: 122612.97 USD\n",
      "Original salary_in_usd: 156400.00 USD, Predicted salary_in_usd: 176378.23 USD\n",
      "Original salary_in_usd: 150000.00 USD, Predicted salary_in_usd: 110801.25 USD\n",
      "Original salary_in_usd: 165000.00 USD, Predicted salary_in_usd: 253241.03 USD\n",
      "Original salary_in_usd: 76958.00 USD, Predicted salary_in_usd: 61335.85 USD\n",
      "Original salary_in_usd: 102500.00 USD, Predicted salary_in_usd: 124826.28 USD\n",
      "Original salary_in_usd: 115000.00 USD, Predicted salary_in_usd: 157387.39 USD\n",
      "Original salary_in_usd: 200000.00 USD, Predicted salary_in_usd: 149095.48 USD\n",
      "Original salary_in_usd: 120000.00 USD, Predicted salary_in_usd: 149095.48 USD\n",
      "Original salary_in_usd: 112300.00 USD, Predicted salary_in_usd: 256608.61 USD\n",
      "Original salary_in_usd: 138750.00 USD, Predicted salary_in_usd: 167295.86 USD\n",
      "Original salary_in_usd: 153400.00 USD, Predicted salary_in_usd: 168938.28 USD\n",
      "Original salary_in_usd: 136000.00 USD, Predicted salary_in_usd: 103131.96 USD\n",
      "Original salary_in_usd: 66000.00 USD, Predicted salary_in_usd: 167295.86 USD\n",
      "Original salary_in_usd: 72914.00 USD, Predicted salary_in_usd: 66554.41 USD\n",
      "Original salary_in_usd: 5723.00 USD, Predicted salary_in_usd: 212.78 USD\n",
      "Original salary_in_usd: 55000.00 USD, Predicted salary_in_usd: 71541.29 USD\n",
      "Original salary_in_usd: 260000.00 USD, Predicted salary_in_usd: 257051.20 USD\n",
      "Original salary_in_usd: 239748.00 USD, Predicted salary_in_usd: 168471.19 USD\n",
      "Original salary_in_usd: 220000.00 USD, Predicted salary_in_usd: 167295.86 USD\n",
      "Original salary_in_usd: 150000.00 USD, Predicted salary_in_usd: 47717.57 USD\n",
      "Original salary_in_usd: 299500.00 USD, Predicted salary_in_usd: 197012.34 USD\n",
      "Original salary_in_usd: 116250.00 USD, Predicted salary_in_usd: 157387.39 USD\n",
      "Original salary_in_usd: 135000.00 USD, Predicted salary_in_usd: 186385.72 USD\n",
      "Original salary_in_usd: 85066.00 USD, Predicted salary_in_usd: 65780.73 USD\n",
      "Original salary_in_usd: 137500.00 USD, Predicted salary_in_usd: 167295.86 USD\n",
      "Original salary_in_usd: 130000.00 USD, Predicted salary_in_usd: 106659.32 USD\n",
      "Original salary_in_usd: 150000.00 USD, Predicted salary_in_usd: 131708.41 USD\n",
      "Original salary_in_usd: 258000.00 USD, Predicted salary_in_usd: 176306.14 USD\n",
      "Original salary_in_usd: 45555.00 USD, Predicted salary_in_usd: 77854.60 USD\n",
      "Original salary_in_usd: 163800.00 USD, Predicted salary_in_usd: 168938.28 USD\n",
      "Original salary_in_usd: 185900.00 USD, Predicted salary_in_usd: 168471.19 USD\n",
      "Original salary_in_usd: 122500.00 USD, Predicted salary_in_usd: 103788.03 USD\n",
      "Original salary_in_usd: 8050.00 USD, Predicted salary_in_usd: 25646.77 USD\n",
      "Original salary_in_usd: 120000.00 USD, Predicted salary_in_usd: 141939.05 USD\n",
      "Original salary_in_usd: 68293.00 USD, Predicted salary_in_usd: 60781.13 USD\n",
      "Original salary_in_usd: 342810.00 USD, Predicted salary_in_usd: 207271.94 USD\n",
      "Original salary_in_usd: 150000.00 USD, Predicted salary_in_usd: 156706.64 USD\n",
      "Original salary_in_usd: 245100.00 USD, Predicted salary_in_usd: 197012.34 USD\n",
      "Original salary_in_usd: 190000.00 USD, Predicted salary_in_usd: 168471.19 USD\n",
      "Original salary_in_usd: 140000.00 USD, Predicted salary_in_usd: 157387.39 USD\n",
      "Original salary_in_usd: 106000.00 USD, Predicted salary_in_usd: 129905.02 USD\n",
      "Original salary_in_usd: 142200.00 USD, Predicted salary_in_usd: 168938.28 USD\n",
      "Original salary_in_usd: 118000.00 USD, Predicted salary_in_usd: 137164.70 USD\n",
      "Original salary_in_usd: 102544.00 USD, Predicted salary_in_usd: 167463.91 USD\n",
      "Original salary_in_usd: 353200.00 USD, Predicted salary_in_usd: 212272.70 USD\n",
      "Original salary_in_usd: 185900.00 USD, Predicted salary_in_usd: 149095.48 USD\n",
      "Original salary_in_usd: 94000.00 USD, Predicted salary_in_usd: 157279.59 USD\n",
      "Original salary_in_usd: 192564.00 USD, Predicted salary_in_usd: 167121.77 USD\n",
      "Original salary_in_usd: 167100.00 USD, Predicted salary_in_usd: 169912.58 USD\n",
      "Original salary_in_usd: 160000.00 USD, Predicted salary_in_usd: 131708.41 USD\n",
      "Original salary_in_usd: 104611.00 USD, Predicted salary_in_usd: 83760.63 USD\n",
      "Original salary_in_usd: 225000.00 USD, Predicted salary_in_usd: 156706.64 USD\n",
      "Original salary_in_usd: 207000.00 USD, Predicted salary_in_usd: 158123.00 USD\n",
      "Original salary_in_usd: 100000.00 USD, Predicted salary_in_usd: 59572.97 USD\n",
      "Original salary_in_usd: 143000.00 USD, Predicted salary_in_usd: 185763.20 USD\n",
      "Original salary_in_usd: 126000.00 USD, Predicted salary_in_usd: 157279.59 USD\n",
      "Original salary_in_usd: 176100.00 USD, Predicted salary_in_usd: 222128.80 USD\n",
      "Original salary_in_usd: 155000.00 USD, Predicted salary_in_usd: 168471.19 USD\n",
      "Original salary_in_usd: 115000.00 USD, Predicted salary_in_usd: 157279.59 USD\n",
      "Original salary_in_usd: 115360.00 USD, Predicted salary_in_usd: 129007.91 USD\n",
      "Original salary_in_usd: 220000.00 USD, Predicted salary_in_usd: 194224.80 USD\n",
      "Original salary_in_usd: 175000.00 USD, Predicted salary_in_usd: 137164.70 USD\n",
      "Original salary_in_usd: 60000.00 USD, Predicted salary_in_usd: 69846.85 USD\n",
      "Original salary_in_usd: 120000.00 USD, Predicted salary_in_usd: 127631.84 USD\n",
      "Original salary_in_usd: 121500.00 USD, Predicted salary_in_usd: 110801.25 USD\n",
      "Original salary_in_usd: 95000.00 USD, Predicted salary_in_usd: 122612.97 USD\n",
      "Original salary_in_usd: 140000.00 USD, Predicted salary_in_usd: 107358.30 USD\n",
      "Original salary_in_usd: 147000.00 USD, Predicted salary_in_usd: 157279.59 USD\n",
      "Original salary_in_usd: 241871.00 USD, Predicted salary_in_usd: 157279.59 USD\n",
      "Original salary_in_usd: 41689.00 USD, Predicted salary_in_usd: 68208.66 USD\n",
      "Original salary_in_usd: 186000.00 USD, Predicted salary_in_usd: 156706.64 USD\n",
      "Original salary_in_usd: 129000.00 USD, Predicted salary_in_usd: 122612.97 USD\n",
      "Original salary_in_usd: 73880.00 USD, Predicted salary_in_usd: 110073.73 USD\n",
      "Original salary_in_usd: 210000.00 USD, Predicted salary_in_usd: 184030.03 USD\n",
      "Original salary_in_usd: 152000.00 USD, Predicted salary_in_usd: 168471.19 USD\n",
      "Original salary_in_usd: 40663.00 USD, Predicted salary_in_usd: 60748.91 USD\n",
      "Original salary_in_usd: 52008.01 USD, Predicted salary_in_usd: 77106.14 USD\n",
      "Original salary_in_usd: 100000.00 USD, Predicted salary_in_usd: 118772.62 USD\n",
      "Original salary_in_usd: 100000.00 USD, Predicted salary_in_usd: 131708.41 USD\n",
      "Original salary_in_usd: 385000.00 USD, Predicted salary_in_usd: 129905.02 USD\n",
      "Original salary_in_usd: 112900.00 USD, Predicted salary_in_usd: 115251.27 USD\n",
      "Original salary_in_usd: 100000.00 USD, Predicted salary_in_usd: 136128.12 USD\n",
      "Original salary_in_usd: 120000.00 USD, Predicted salary_in_usd: 168994.48 USD\n",
      "Original salary_in_usd: 100000.00 USD, Predicted salary_in_usd: 168938.28 USD\n",
      "Original salary_in_usd: 79000.00 USD, Predicted salary_in_usd: 131708.41 USD\n",
      "Original salary_in_usd: 163800.00 USD, Predicted salary_in_usd: 157279.59 USD\n",
      "Original salary_in_usd: 125976.00 USD, Predicted salary_in_usd: 118164.80 USD\n",
      "Original salary_in_usd: 133300.00 USD, Predicted salary_in_usd: 157279.59 USD\n",
      "Original salary_in_usd: 70000.00 USD, Predicted salary_in_usd: 168471.19 USD\n",
      "Original salary_in_usd: 85000.00 USD, Predicted salary_in_usd: 40708.89 USD\n",
      "Original salary_in_usd: 160000.00 USD, Predicted salary_in_usd: 157279.59 USD\n",
      "Original salary_in_usd: 131000.00 USD, Predicted salary_in_usd: 122612.97 USD\n",
      "Original salary_in_usd: 129400.00 USD, Predicted salary_in_usd: 157387.39 USD\n",
      "Original salary_in_usd: 100000.00 USD, Predicted salary_in_usd: 124826.28 USD\n",
      "Original salary_in_usd: 170000.00 USD, Predicted salary_in_usd: 143598.89 USD\n",
      "Original salary_in_usd: 150000.00 USD, Predicted salary_in_usd: 131708.41 USD\n",
      "Original salary_in_usd: 156600.00 USD, Predicted salary_in_usd: 158123.00 USD\n",
      "Original salary_in_usd: 169000.00 USD, Predicted salary_in_usd: 129905.02 USD\n",
      "Original salary_in_usd: 143860.00 USD, Predicted salary_in_usd: 176068.61 USD\n",
      "Original salary_in_usd: 169000.00 USD, Predicted salary_in_usd: 122612.97 USD\n",
      "Original salary_in_usd: 144000.00 USD, Predicted salary_in_usd: 156706.64 USD\n",
      "Original salary_in_usd: 106000.00 USD, Predicted salary_in_usd: 135680.95 USD\n",
      "Original salary_in_usd: 170000.00 USD, Predicted salary_in_usd: 149095.48 USD\n",
      "Original salary_in_usd: 100000.00 USD, Predicted salary_in_usd: 122612.97 USD\n",
      "Original salary_in_usd: 65000.00 USD, Predicted salary_in_usd: 167295.86 USD\n",
      "Original salary_in_usd: 113750.00 USD, Predicted salary_in_usd: 171969.80 USD\n",
      "Original salary_in_usd: 183500.00 USD, Predicted salary_in_usd: 176947.53 USD\n",
      "Original salary_in_usd: 80000.00 USD, Predicted salary_in_usd: 161498.77 USD\n",
      "Original salary_in_usd: 185000.00 USD, Predicted salary_in_usd: 158123.00 USD\n",
      "Original salary_in_usd: 48289.00 USD, Predicted salary_in_usd: 61517.85 USD\n",
      "Original salary_in_usd: 168000.00 USD, Predicted salary_in_usd: 158123.00 USD\n",
      "Original salary_in_usd: 185900.00 USD, Predicted salary_in_usd: 149095.48 USD\n",
      "Original salary_in_usd: 100000.00 USD, Predicted salary_in_usd: 188816.14 USD\n",
      "Original salary_in_usd: 207000.00 USD, Predicted salary_in_usd: 176068.61 USD\n",
      "Original salary_in_usd: 130000.00 USD, Predicted salary_in_usd: 167295.86 USD\n",
      "Original salary_in_usd: 180560.00 USD, Predicted salary_in_usd: 168471.19 USD\n",
      "Original salary_in_usd: 125000.00 USD, Predicted salary_in_usd: 156706.64 USD\n",
      "Original salary_in_usd: 84000.00 USD, Predicted salary_in_usd: 199156.97 USD\n",
      "Original salary_in_usd: 75000.00 USD, Predicted salary_in_usd: 124826.28 USD\n",
      "Original salary_in_usd: 104663.00 USD, Predicted salary_in_usd: 110073.73 USD\n",
      "Original salary_in_usd: 150000.00 USD, Predicted salary_in_usd: 157387.39 USD\n",
      "Original salary_in_usd: 20000.00 USD, Predicted salary_in_usd: 41115.30 USD\n",
      "Original salary_in_usd: 154000.00 USD, Predicted salary_in_usd: 168471.19 USD\n",
      "Original salary_in_usd: 95000.00 USD, Predicted salary_in_usd: 156706.64 USD\n",
      "Original salary_in_usd: 175000.00 USD, Predicted salary_in_usd: 149095.48 USD\n",
      "Original salary_in_usd: 250000.00 USD, Predicted salary_in_usd: 167295.86 USD\n",
      "Original salary_in_usd: 165000.00 USD, Predicted salary_in_usd: 158123.00 USD\n",
      "Original salary_in_usd: 79833.00 USD, Predicted salary_in_usd: 50417.38 USD\n",
      "Original salary_in_usd: 323300.00 USD, Predicted salary_in_usd: 168938.28 USD\n",
      "Original salary_in_usd: 112900.00 USD, Predicted salary_in_usd: 115251.27 USD\n",
      "Original salary_in_usd: 135000.00 USD, Predicted salary_in_usd: 149643.55 USD\n",
      "Original salary_in_usd: 187000.00 USD, Predicted salary_in_usd: 129905.02 USD\n",
      "Original salary_in_usd: 160000.00 USD, Predicted salary_in_usd: 131708.41 USD\n",
      "Original salary_in_usd: 122600.00 USD, Predicted salary_in_usd: 156706.64 USD\n",
      "Original salary_in_usd: 51508.00 USD, Predicted salary_in_usd: 55144.95 USD\n",
      "Original salary_in_usd: 221484.00 USD, Predicted salary_in_usd: 157279.59 USD\n",
      "Original salary_in_usd: 137141.00 USD, Predicted salary_in_usd: 193859.20 USD\n",
      "Original salary_in_usd: 15000.00 USD, Predicted salary_in_usd: 81142.48 USD\n",
      "Original salary_in_usd: 135000.00 USD, Predicted salary_in_usd: 168938.28 USD\n",
      "Original salary_in_usd: 123405.00 USD, Predicted salary_in_usd: 227590.75 USD\n",
      "Original salary_in_usd: 200000.00 USD, Predicted salary_in_usd: 205588.11 USD\n",
      "Original salary_in_usd: 115000.00 USD, Predicted salary_in_usd: 165965.48 USD\n",
      "Original salary_in_usd: 138784.00 USD, Predicted salary_in_usd: 176947.53 USD\n",
      "Original salary_in_usd: 141525.00 USD, Predicted salary_in_usd: 158123.00 USD\n",
      "Original salary_in_usd: 127000.00 USD, Predicted salary_in_usd: 115251.27 USD\n",
      "Original salary_in_usd: 240500.00 USD, Predicted salary_in_usd: 156040.75 USD\n",
      "Original salary_in_usd: 57872.00 USD, Predicted salary_in_usd: 94402.12 USD\n",
      "Original salary_in_usd: 61566.00 USD, Predicted salary_in_usd: 93942.40 USD\n",
      "Original salary_in_usd: 8000.01 USD, Predicted salary_in_usd: 57596.51 USD\n",
      "Original salary_in_usd: 128280.00 USD, Predicted salary_in_usd: 168938.28 USD\n",
      "Original salary_in_usd: 185900.00 USD, Predicted salary_in_usd: 149095.48 USD\n",
      "Original salary_in_usd: 160000.00 USD, Predicted salary_in_usd: 124826.28 USD\n",
      "Original salary_in_usd: 138900.00 USD, Predicted salary_in_usd: 129905.02 USD\n",
      "Original salary_in_usd: 165220.00 USD, Predicted salary_in_usd: 158123.00 USD\n",
      "Original salary_in_usd: 100000.00 USD, Predicted salary_in_usd: 117697.06 USD\n",
      "Original salary_in_usd: 225000.00 USD, Predicted salary_in_usd: 168471.19 USD\n",
      "Original salary_in_usd: 153000.00 USD, Predicted salary_in_usd: 140016.23 USD\n",
      "Original salary_in_usd: 297300.00 USD, Predicted salary_in_usd: 176947.53 USD\n",
      "Original salary_in_usd: 200000.00 USD, Predicted salary_in_usd: 176947.53 USD\n",
      "Original salary_in_usd: 160000.00 USD, Predicted salary_in_usd: 167295.86 USD\n",
      "Original salary_in_usd: 63000.01 USD, Predicted salary_in_usd: 150520.98 USD\n",
      "Original salary_in_usd: 90700.00 USD, Predicted salary_in_usd: 168471.19 USD\n",
      "Original salary_in_usd: 178500.00 USD, Predicted salary_in_usd: 167295.86 USD\n",
      "Original salary_in_usd: 65000.00 USD, Predicted salary_in_usd: 110369.30 USD\n",
      "Original salary_in_usd: 67723.00 USD, Predicted salary_in_usd: 98960.98 USD\n",
      "Original salary_in_usd: 87000.00 USD, Predicted salary_in_usd: 176068.61 USD\n",
      "Original salary_in_usd: 175000.00 USD, Predicted salary_in_usd: 168406.19 USD\n",
      "Original salary_in_usd: 100000.00 USD, Predicted salary_in_usd: 149095.48 USD\n",
      "Original salary_in_usd: 139000.00 USD, Predicted salary_in_usd: 119333.23 USD\n",
      "Original salary_in_usd: 110000.00 USD, Predicted salary_in_usd: 214135.25 USD\n",
      "Original salary_in_usd: 226700.00 USD, Predicted salary_in_usd: 157279.59 USD\n",
      "Original salary_in_usd: 150000.00 USD, Predicted salary_in_usd: 157387.39 USD\n",
      "Original salary_in_usd: 128000.00 USD, Predicted salary_in_usd: 129905.02 USD\n",
      "Original salary_in_usd: 25000.01 USD, Predicted salary_in_usd: 157387.39 USD\n",
      "Original salary_in_usd: 107250.00 USD, Predicted salary_in_usd: 167295.86 USD\n",
      "Original salary_in_usd: 131300.00 USD, Predicted salary_in_usd: 182513.77 USD\n",
      "Original salary_in_usd: 110000.00 USD, Predicted salary_in_usd: 87323.70 USD\n",
      "Original salary_in_usd: 203500.00 USD, Predicted salary_in_usd: 220491.45 USD\n",
      "Original salary_in_usd: 150000.00 USD, Predicted salary_in_usd: 156706.64 USD\n",
      "Original salary_in_usd: 90734.00 USD, Predicted salary_in_usd: 90563.38 USD\n",
      "Original salary_in_usd: 170000.00 USD, Predicted salary_in_usd: 149095.48 USD\n",
      "Original salary_in_usd: 129000.00 USD, Predicted salary_in_usd: 157279.59 USD\n",
      "Original salary_in_usd: 122500.00 USD, Predicted salary_in_usd: 143598.89 USD\n",
      "Original salary_in_usd: 113900.00 USD, Predicted salary_in_usd: 165965.48 USD\n",
      "Original salary_in_usd: 70000.00 USD, Predicted salary_in_usd: 137138.48 USD\n",
      "Original salary_in_usd: 78000.00 USD, Predicted salary_in_usd: 127631.84 USD\n",
      "Original salary_in_usd: 204500.00 USD, Predicted salary_in_usd: 168938.28 USD\n",
      "Original salary_in_usd: 48289.00 USD, Predicted salary_in_usd: 61517.85 USD\n",
      "Original salary_in_usd: 258750.00 USD, Predicted salary_in_usd: 188816.14 USD\n",
      "Original salary_in_usd: 280100.00 USD, Predicted salary_in_usd: 165965.48 USD\n",
      "Original salary_in_usd: 167500.00 USD, Predicted salary_in_usd: 131132.41 USD\n",
      "Original salary_in_usd: 73546.00 USD, Predicted salary_in_usd: 75732.01 USD\n",
      "Original salary_in_usd: 255000.00 USD, Predicted salary_in_usd: 180455.84 USD\n",
      "Original salary_in_usd: 115000.00 USD, Predicted salary_in_usd: 149095.48 USD\n",
      "Original salary_in_usd: 115573.00 USD, Predicted salary_in_usd: 94497.60 USD\n",
      "Original salary_in_usd: 82528.00 USD, Predicted salary_in_usd: 107269.34 USD\n",
      "Original salary_in_usd: 110820.00 USD, Predicted salary_in_usd: 98960.98 USD\n",
      "Original salary_in_usd: 106020.00 USD, Predicted salary_in_usd: 129905.02 USD\n",
      "Original salary_in_usd: 42026.00 USD, Predicted salary_in_usd: 52086.16 USD\n",
      "Original salary_in_usd: 6359.00 USD, Predicted salary_in_usd: 34458.76 USD\n",
      "Original salary_in_usd: 31795.00 USD, Predicted salary_in_usd: 67674.26 USD\n",
      "Original salary_in_usd: 120000.00 USD, Predicted salary_in_usd: 137138.48 USD\n",
      "Original salary_in_usd: 127000.00 USD, Predicted salary_in_usd: 158123.00 USD\n",
      "Original salary_in_usd: 47280.00 USD, Predicted salary_in_usd: 49306.05 USD\n",
      "Original salary_in_usd: 214200.00 USD, Predicted salary_in_usd: 176068.61 USD\n",
      "Original salary_in_usd: 210000.00 USD, Predicted salary_in_usd: 168471.19 USD\n",
      "Original salary_in_usd: 241000.00 USD, Predicted salary_in_usd: 152649.91 USD\n",
      "Original salary_in_usd: 109000.00 USD, Predicted salary_in_usd: 157279.59 USD\n",
      "Original salary_in_usd: 230000.00 USD, Predicted salary_in_usd: 129905.02 USD\n",
      "Original salary_in_usd: 42026.00 USD, Predicted salary_in_usd: 60897.41 USD\n",
      "Original salary_in_usd: 125000.00 USD, Predicted salary_in_usd: 103473.32 USD\n",
      "Original salary_in_usd: 194500.00 USD, Predicted salary_in_usd: 181593.17 USD\n",
      "Original salary_in_usd: 110925.00 USD, Predicted salary_in_usd: 115251.27 USD\n",
      "Original salary_in_usd: 270703.00 USD, Predicted salary_in_usd: 157279.59 USD\n",
      "Original salary_in_usd: 173000.00 USD, Predicted salary_in_usd: 203587.84 USD\n",
      "Original salary_in_usd: 150000.00 USD, Predicted salary_in_usd: 161138.94 USD\n",
      "Original salary_in_usd: 138600.00 USD, Predicted salary_in_usd: 158123.00 USD\n",
      "Original salary_in_usd: 175000.00 USD, Predicted salary_in_usd: 176947.53 USD\n",
      "Original salary_in_usd: 47280.00 USD, Predicted salary_in_usd: 49306.05 USD\n",
      "Original salary_in_usd: 120000.00 USD, Predicted salary_in_usd: 139155.72 USD\n",
      "Original salary_in_usd: 72000.00 USD, Predicted salary_in_usd: 193522.39 USD\n",
      "Original salary_in_usd: 153600.00 USD, Predicted salary_in_usd: 129905.02 USD\n",
      "Original salary_in_usd: 220000.00 USD, Predicted salary_in_usd: 181593.17 USD\n",
      "Original salary_in_usd: 220000.00 USD, Predicted salary_in_usd: 168938.28 USD\n",
      "Original salary_in_usd: 85847.00 USD, Predicted salary_in_usd: 135934.48 USD\n",
      "Original salary_in_usd: 30523.00 USD, Predicted salary_in_usd: 20684.46 USD\n",
      "Original salary_in_usd: 110500.00 USD, Predicted salary_in_usd: 176947.53 USD\n",
      "Original salary_in_usd: 145000.00 USD, Predicted salary_in_usd: 119333.23 USD\n",
      "Original salary_in_usd: 102772.00 USD, Predicted salary_in_usd: 166622.61 USD\n",
      "Original salary_in_usd: 109400.00 USD, Predicted salary_in_usd: 168938.28 USD\n",
      "Original salary_in_usd: 175308.00 USD, Predicted salary_in_usd: 157279.59 USD\n",
      "Original salary_in_usd: 170000.00 USD, Predicted salary_in_usd: 168471.19 USD\n",
      "Original salary_in_usd: 20670.00 USD, Predicted salary_in_usd: 14782.50 USD\n",
      "Original salary_in_usd: 129000.00 USD, Predicted salary_in_usd: 157279.59 USD\n",
      "Original salary_in_usd: 198800.00 USD, Predicted salary_in_usd: 149095.48 USD\n",
      "Original salary_in_usd: 46000.01 USD, Predicted salary_in_usd: 76507.82 USD\n",
      "Original salary_in_usd: 228000.00 USD, Predicted salary_in_usd: 168471.19 USD\n",
      "Original salary_in_usd: 95000.00 USD, Predicted salary_in_usd: 122612.97 USD\n",
      "Original salary_in_usd: 141525.00 USD, Predicted salary_in_usd: 158123.00 USD\n",
      "Original salary_in_usd: 236900.00 USD, Predicted salary_in_usd: 161458.78 USD\n",
      "Original salary_in_usd: 92350.00 USD, Predicted salary_in_usd: 81588.28 USD\n",
      "Original salary_in_usd: 129300.00 USD, Predicted salary_in_usd: 157279.59 USD\n",
      "Original salary_in_usd: 135000.00 USD, Predicted salary_in_usd: 168471.19 USD\n",
      "Original salary_in_usd: 150000.00 USD, Predicted salary_in_usd: 168938.28 USD\n",
      "Original salary_in_usd: 85500.00 USD, Predicted salary_in_usd: 129905.02 USD\n",
      "Original salary_in_usd: 206699.00 USD, Predicted salary_in_usd: 149095.48 USD\n",
      "Original salary_in_usd: 163800.00 USD, Predicted salary_in_usd: 157279.59 USD\n",
      "Original salary_in_usd: 213120.00 USD, Predicted salary_in_usd: 167121.77 USD\n",
      "Original salary_in_usd: 170000.00 USD, Predicted salary_in_usd: 197182.97 USD\n",
      "Original salary_in_usd: 63000.01 USD, Predicted salary_in_usd: 149095.48 USD\n",
      "Original salary_in_usd: 125600.00 USD, Predicted salary_in_usd: 124826.28 USD\n",
      "Original salary_in_usd: 110000.00 USD, Predicted salary_in_usd: 51491.66 USD\n",
      "Original salary_in_usd: 84053.00 USD, Predicted salary_in_usd: 73528.66 USD\n",
      "Original salary_in_usd: 12888.00 USD, Predicted salary_in_usd: 17875.11 USD\n",
      "Original salary_in_usd: 51508.00 USD, Predicted salary_in_usd: 55144.95 USD\n",
      "Original salary_in_usd: 40000.00 USD, Predicted salary_in_usd: 93838.53 USD\n",
      "Original salary_in_usd: 193750.00 USD, Predicted salary_in_usd: 143598.89 USD\n",
      "Original salary_in_usd: 115100.00 USD, Predicted salary_in_usd: 110369.31 USD\n",
      "Original salary_in_usd: 190000.00 USD, Predicted salary_in_usd: 168471.19 USD\n",
      "Original salary_in_usd: 79000.00 USD, Predicted salary_in_usd: 110801.25 USD\n",
      "Original salary_in_usd: 99000.00 USD, Predicted salary_in_usd: 122612.97 USD\n",
      "Original salary_in_usd: 15000.00 USD, Predicted salary_in_usd: 50954.16 USD\n",
      "Original salary_in_usd: 135000.00 USD, Predicted salary_in_usd: 167295.86 USD\n",
      "Original salary_in_usd: 90000.00 USD, Predicted salary_in_usd: 193522.39 USD\n",
      "Original salary_in_usd: 180000.00 USD, Predicted salary_in_usd: 205588.11 USD\n",
      "Original salary_in_usd: 116704.00 USD, Predicted salary_in_usd: 253791.95 USD\n",
      "Original salary_in_usd: 190000.00 USD, Predicted salary_in_usd: 156706.64 USD\n",
      "Original salary_in_usd: 105000.00 USD, Predicted salary_in_usd: 115251.27 USD\n",
      "Original salary_in_usd: 129000.00 USD, Predicted salary_in_usd: 88452.84 USD\n",
      "Original salary_in_usd: 150000.00 USD, Predicted salary_in_usd: 101856.16 USD\n",
      "Original salary_in_usd: 250000.00 USD, Predicted salary_in_usd: 149095.48 USD\n",
      "Original salary_in_usd: 243225.00 USD, Predicted salary_in_usd: 193859.20 USD\n",
      "Original salary_in_usd: 75000.00 USD, Predicted salary_in_usd: 137164.70 USD\n",
      "Original salary_in_usd: 29944.00 USD, Predicted salary_in_usd: 55093.92 USD\n",
      "Original salary_in_usd: 120000.00 USD, Predicted salary_in_usd: 158123.00 USD\n",
      "Original salary_in_usd: 181000.00 USD, Predicted salary_in_usd: 168938.28 USD\n",
      "Original salary_in_usd: 36773.00 USD, Predicted salary_in_usd: 60781.13 USD\n",
      "Original salary_in_usd: 152000.00 USD, Predicted salary_in_usd: 156706.64 USD\n",
      "Original salary_in_usd: 129300.00 USD, Predicted salary_in_usd: 168471.19 USD\n",
      "Original salary_in_usd: 100000.00 USD, Predicted salary_in_usd: 110801.25 USD\n",
      "Original salary_in_usd: 120000.00 USD, Predicted salary_in_usd: 157279.59 USD\n",
      "Original salary_in_usd: 70500.00 USD, Predicted salary_in_usd: 149095.48 USD\n",
      "Original salary_in_usd: 103691.00 USD, Predicted salary_in_usd: 113118.81 USD\n",
      "Original salary_in_usd: 145000.00 USD, Predicted salary_in_usd: 157279.59 USD\n",
      "Original salary_in_usd: 153600.00 USD, Predicted salary_in_usd: 129905.02 USD\n",
      "Original salary_in_usd: 136000.00 USD, Predicted salary_in_usd: 158123.00 USD\n",
      "Original salary_in_usd: 160000.00 USD, Predicted salary_in_usd: 149095.48 USD\n",
      "Original salary_in_usd: 145000.00 USD, Predicted salary_in_usd: 157279.59 USD\n",
      "Original salary_in_usd: 127500.00 USD, Predicted salary_in_usd: 127631.84 USD\n",
      "Original salary_in_usd: 65062.00 USD, Predicted salary_in_usd: 71449.89 USD\n",
      "Original salary_in_usd: 139500.00 USD, Predicted salary_in_usd: 168938.28 USD\n",
      "Original salary_in_usd: 136000.00 USD, Predicted salary_in_usd: 198663.83 USD\n",
      "Original salary_in_usd: 49268.00 USD, Predicted salary_in_usd: 69115.92 USD\n",
      "Original salary_in_usd: 204500.00 USD, Predicted salary_in_usd: 169912.58 USD\n",
      "Original salary_in_usd: 129300.00 USD, Predicted salary_in_usd: 156706.64 USD\n",
      "Original salary_in_usd: 215000.00 USD, Predicted salary_in_usd: 157387.39 USD\n",
      "Original salary_in_usd: 40000.00 USD, Predicted salary_in_usd: 72265.29 USD\n",
      "Original salary_in_usd: 134000.00 USD, Predicted salary_in_usd: 168471.19 USD\n",
      "Original salary_in_usd: 120000.00 USD, Predicted salary_in_usd: 139941.23 USD\n",
      "Original salary_in_usd: 235000.00 USD, Predicted salary_in_usd: 181593.17 USD\n",
      "Original salary_in_usd: 110000.00 USD, Predicted salary_in_usd: 89596.10 USD\n",
      "Original salary_in_usd: 185000.00 USD, Predicted salary_in_usd: 149514.16 USD\n",
      "Original salary_in_usd: 90320.00 USD, Predicted salary_in_usd: 122612.97 USD\n",
      "Original salary_in_usd: 82000.00 USD, Predicted salary_in_usd: 67962.52 USD\n",
      "Original salary_in_usd: 130000.00 USD, Predicted salary_in_usd: 124826.28 USD\n",
      "Original salary_in_usd: 105200.00 USD, Predicted salary_in_usd: 168471.19 USD\n",
      "Original salary_in_usd: 122700.00 USD, Predicted salary_in_usd: 168938.28 USD\n",
      "Original salary_in_usd: 120000.00 USD, Predicted salary_in_usd: 107358.30 USD\n",
      "Original salary_in_usd: 132320.00 USD, Predicted salary_in_usd: 149095.48 USD\n",
      "Original salary_in_usd: 130000.00 USD, Predicted salary_in_usd: 158123.00 USD\n",
      "Original salary_in_usd: 59020.01 USD, Predicted salary_in_usd: 85869.70 USD\n",
      "Original salary_in_usd: 130800.00 USD, Predicted salary_in_usd: 95461.51 USD\n",
      "Original salary_in_usd: 86193.00 USD, Predicted salary_in_usd: 81588.28 USD\n",
      "Original salary_in_usd: 225000.00 USD, Predicted salary_in_usd: 197039.06 USD\n",
      "Original salary_in_usd: 150000.00 USD, Predicted salary_in_usd: 101258.55 USD\n",
      "Original salary_in_usd: 130000.00 USD, Predicted salary_in_usd: 157279.59 USD\n",
      "Original salary_in_usd: 250000.00 USD, Predicted salary_in_usd: 150520.98 USD\n",
      "Original salary_in_usd: 85000.00 USD, Predicted salary_in_usd: 136453.22 USD\n",
      "Original salary_in_usd: 70000.00 USD, Predicted salary_in_usd: 129905.02 USD\n",
      "Original salary_in_usd: 160000.00 USD, Predicted salary_in_usd: 96937.97 USD\n",
      "Original salary_in_usd: 63000.01 USD, Predicted salary_in_usd: 157962.59 USD\n",
      "Original salary_in_usd: 184700.00 USD, Predicted salary_in_usd: 168938.28 USD\n",
      "Original salary_in_usd: 110820.00 USD, Predicted salary_in_usd: 97629.12 USD\n",
      "Original salary_in_usd: 80000.00 USD, Predicted salary_in_usd: 99484.52 USD\n",
      "Original salary_in_usd: 50000.00 USD, Predicted salary_in_usd: 129088.95 USD\n",
      "Original salary_in_usd: 190000.00 USD, Predicted salary_in_usd: 157387.39 USD\n",
      "Original salary_in_usd: 89306.00 USD, Predicted salary_in_usd: 87459.63 USD\n",
      "Original salary_in_usd: 84053.00 USD, Predicted salary_in_usd: 147121.33 USD\n",
      "Original salary_in_usd: 115092.00 USD, Predicted salary_in_usd: 137138.48 USD\n",
      "Original salary_in_usd: 180000.00 USD, Predicted salary_in_usd: 153384.95 USD\n",
      "Original salary_in_usd: 115000.00 USD, Predicted salary_in_usd: 181593.17 USD\n",
      "Original salary_in_usd: 45600.00 USD, Predicted salary_in_usd: 76424.57 USD\n",
      "Original salary_in_usd: 142200.00 USD, Predicted salary_in_usd: 168938.28 USD\n",
      "Original salary_in_usd: 170000.00 USD, Predicted salary_in_usd: 115251.27 USD\n",
      "Original salary_in_usd: 160000.00 USD, Predicted salary_in_usd: 203262.66 USD\n",
      "Original salary_in_usd: 150000.00 USD, Predicted salary_in_usd: 71541.29 USD\n",
      "Original salary_in_usd: 49253.00 USD, Predicted salary_in_usd: 80166.91 USD\n",
      "Original salary_in_usd: 80000.00 USD, Predicted salary_in_usd: 85271.83 USD\n",
      "Original salary_in_usd: 85066.00 USD, Predicted salary_in_usd: 77593.08 USD\n",
      "Original salary_in_usd: 120000.00 USD, Predicted salary_in_usd: 149095.48 USD\n",
      "Original salary_in_usd: 130000.00 USD, Predicted salary_in_usd: 122612.97 USD\n",
      "Original salary_in_usd: 165000.00 USD, Predicted salary_in_usd: 139126.70 USD\n",
      "Original salary_in_usd: 136000.00 USD, Predicted salary_in_usd: 198663.83 USD\n",
      "Original salary_in_usd: 50000.00 USD, Predicted salary_in_usd: -2667.11 USD\n",
      "Original salary_in_usd: 176000.00 USD, Predicted salary_in_usd: 176306.14 USD\n",
      "Original salary_in_usd: 205300.00 USD, Predicted salary_in_usd: 164985.02 USD\n",
      "Original salary_in_usd: 220000.00 USD, Predicted salary_in_usd: 157387.39 USD\n",
      "Original salary_in_usd: 46178.00 USD, Predicted salary_in_usd: 79459.05 USD\n",
      "Original salary_in_usd: 110000.00 USD, Predicted salary_in_usd: 122612.97 USD\n",
      "Original salary_in_usd: 154000.00 USD, Predicted salary_in_usd: 137138.48 USD\n",
      "Original salary_in_usd: 149600.00 USD, Predicted salary_in_usd: 137138.48 USD\n",
      "Original salary_in_usd: 143200.00 USD, Predicted salary_in_usd: 176068.61 USD\n",
      "Original salary_in_usd: 206000.00 USD, Predicted salary_in_usd: 110801.25 USD\n",
      "Original salary_in_usd: 131300.00 USD, Predicted salary_in_usd: 163738.67 USD\n",
      "Original salary_in_usd: 70000.00 USD, Predicted salary_in_usd: 124466.10 USD\n",
      "Original salary_in_usd: 51000.00 USD, Predicted salary_in_usd: 158123.00 USD\n",
      "Original salary_in_usd: 65000.00 USD, Predicted salary_in_usd: 129905.02 USD\n",
      "Original salary_in_usd: 70000.00 USD, Predicted salary_in_usd: 94293.29 USD\n",
      "Original salary_in_usd: 250000.00 USD, Predicted salary_in_usd: 157962.59 USD\n",
      "Original salary_in_usd: 160000.00 USD, Predicted salary_in_usd: 193709.75 USD\n",
      "Original salary_in_usd: 203500.00 USD, Predicted salary_in_usd: 168471.19 USD\n",
      "Original salary_in_usd: 130000.00 USD, Predicted salary_in_usd: 167295.86 USD\n",
      "Original salary_in_usd: 94500.00 USD, Predicted salary_in_usd: 119333.23 USD\n",
      "Original salary_in_usd: 70000.00 USD, Predicted salary_in_usd: 154241.48 USD\n",
      "Original salary_in_usd: 375000.00 USD, Predicted salary_in_usd: 173051.50 USD\n",
      "Original salary_in_usd: 84900.00 USD, Predicted salary_in_usd: 115251.27 USD\n",
      "Original salary_in_usd: 174000.00 USD, Predicted salary_in_usd: 273168.62 USD\n",
      "Original salary_in_usd: 185900.00 USD, Predicted salary_in_usd: 156706.64 USD\n",
      "Original salary_in_usd: 160000.00 USD, Predicted salary_in_usd: 256608.61 USD\n",
      "Original salary_in_usd: 252000.00 USD, Predicted salary_in_usd: 157279.59 USD\n",
      "Original salary_in_usd: 140000.00 USD, Predicted salary_in_usd: 129905.02 USD\n",
      "Original salary_in_usd: 150000.00 USD, Predicted salary_in_usd: 164985.02 USD\n",
      "Original salary_in_usd: 51508.00 USD, Predicted salary_in_usd: 66261.65 USD\n",
      "Original salary_in_usd: 130000.00 USD, Predicted salary_in_usd: 79666.88 USD\n",
      "Original salary_in_usd: 106900.00 USD, Predicted salary_in_usd: 168938.28 USD\n",
      "Original salary_in_usd: 161000.00 USD, Predicted salary_in_usd: 137164.70 USD\n",
      "Original salary_in_usd: 130000.00 USD, Predicted salary_in_usd: 127631.84 USD\n",
      "Original salary_in_usd: 100000.00 USD, Predicted salary_in_usd: 131708.41 USD\n",
      "Original salary_in_usd: 116150.00 USD, Predicted salary_in_usd: 115251.27 USD\n",
      "Original salary_in_usd: 110000.00 USD, Predicted salary_in_usd: 165965.48 USD\n",
      "Original salary_in_usd: 135000.00 USD, Predicted salary_in_usd: 110369.31 USD\n",
      "Original salary_in_usd: 150000.00 USD, Predicted salary_in_usd: 131708.41 USD\n",
      "Original salary_in_usd: 197000.00 USD, Predicted salary_in_usd: 176068.61 USD\n",
      "Original salary_in_usd: 47280.00 USD, Predicted salary_in_usd: 49306.05 USD\n",
      "Original salary_in_usd: 100000.00 USD, Predicted salary_in_usd: 96937.97 USD\n",
      "Original salary_in_usd: 120000.00 USD, Predicted salary_in_usd: 218220.23 USD\n",
      "Original salary_in_usd: 130000.00 USD, Predicted salary_in_usd: 167295.86 USD\n",
      "Original salary_in_usd: 140000.00 USD, Predicted salary_in_usd: 120390.71 USD\n",
      "Original salary_in_usd: 129000.00 USD, Predicted salary_in_usd: 157279.59 USD\n",
      "Original salary_in_usd: 6999.99 USD, Predicted salary_in_usd: 39156.09 USD\n",
      "Original salary_in_usd: 135000.00 USD, Predicted salary_in_usd: 136453.22 USD\n",
      "Original salary_in_usd: 127221.00 USD, Predicted salary_in_usd: 90483.36 USD\n",
      "Original salary_in_usd: 135000.00 USD, Predicted salary_in_usd: 164985.02 USD\n",
      "Original salary_in_usd: 204500.00 USD, Predicted salary_in_usd: 168938.28 USD\n",
      "Original salary_in_usd: 160000.00 USD, Predicted salary_in_usd: 168197.95 USD\n",
      "Original salary_in_usd: 94000.00 USD, Predicted salary_in_usd: 129905.02 USD\n",
      "Original salary_in_usd: 160000.00 USD, Predicted salary_in_usd: 167295.86 USD\n",
      "Original salary_in_usd: 135000.00 USD, Predicted salary_in_usd: 149095.48 USD\n",
      "Original salary_in_usd: 70000.00 USD, Predicted salary_in_usd: 216454.23 USD\n",
      "Original salary_in_usd: 177000.00 USD, Predicted salary_in_usd: 360705.78 USD\n",
      "Original salary_in_usd: 288000.00 USD, Predicted salary_in_usd: 205588.11 USD\n",
      "Original salary_in_usd: 129300.00 USD, Predicted salary_in_usd: 156706.64 USD\n",
      "Original salary_in_usd: 203000.00 USD, Predicted salary_in_usd: 176947.53 USD\n",
      "Original salary_in_usd: 140000.00 USD, Predicted salary_in_usd: 161458.78 USD\n",
      "Original salary_in_usd: 149850.00 USD, Predicted salary_in_usd: 200472.02 USD\n",
      "Original salary_in_usd: 160000.00 USD, Predicted salary_in_usd: 157387.39 USD\n",
      "Original salary_in_usd: 54000.00 USD, Predicted salary_in_usd: 133149.05 USD\n",
      "Original salary_in_usd: 49253.00 USD, Predicted salary_in_usd: 59523.23 USD\n",
      "Original salary_in_usd: 107309.00 USD, Predicted salary_in_usd: 79788.10 USD\n",
      "Original salary_in_usd: 205000.00 USD, Predicted salary_in_usd: 164869.42 USD\n",
      "Original salary_in_usd: 180000.00 USD, Predicted salary_in_usd: 140885.69 USD\n",
      "Original salary_in_usd: 120000.00 USD, Predicted salary_in_usd: 141939.05 USD\n",
      "Original salary_in_usd: 155000.00 USD, Predicted salary_in_usd: 157279.59 USD\n",
      "Original salary_in_usd: 64385.00 USD, Predicted salary_in_usd: 258550.55 USD\n",
      "Original salary_in_usd: 189650.00 USD, Predicted salary_in_usd: 169912.58 USD\n",
      "Original salary_in_usd: 95000.00 USD, Predicted salary_in_usd: 124466.10 USD\n",
      "Original salary_in_usd: 28016.00 USD, Predicted salary_in_usd: 20598.72 USD\n",
      "Original salary_in_usd: 249500.00 USD, Predicted salary_in_usd: 200472.00 USD\n",
      "Original salary_in_usd: 81666.00 USD, Predicted salary_in_usd: 115251.27 USD\n",
      "Original salary_in_usd: 95000.00 USD, Predicted salary_in_usd: 115251.27 USD\n",
      "Original salary_in_usd: 227000.00 USD, Predicted salary_in_usd: 129905.02 USD\n",
      "Original salary_in_usd: 222200.00 USD, Predicted salary_in_usd: 198663.83 USD\n",
      "Original salary_in_usd: 151800.00 USD, Predicted salary_in_usd: 156706.64 USD\n",
      "Original salary_in_usd: 115000.00 USD, Predicted salary_in_usd: 157279.59 USD\n",
      "Original salary_in_usd: 130000.00 USD, Predicted salary_in_usd: 124059.15 USD\n",
      "Original salary_in_usd: 170550.00 USD, Predicted salary_in_usd: 124826.28 USD\n",
      "Original salary_in_usd: 185000.00 USD, Predicted salary_in_usd: 168471.19 USD\n",
      "Original salary_in_usd: 120000.00 USD, Predicted salary_in_usd: 168471.19 USD\n",
      "Original salary_in_usd: 130000.00 USD, Predicted salary_in_usd: 149095.48 USD\n",
      "Original salary_in_usd: 275300.00 USD, Predicted salary_in_usd: 176947.53 USD\n",
      "Original salary_in_usd: 249300.00 USD, Predicted salary_in_usd: 212272.70 USD\n",
      "Original salary_in_usd: 121523.00 USD, Predicted salary_in_usd: 121532.52 USD\n",
      "Original salary_in_usd: 75000.00 USD, Predicted salary_in_usd: 137138.48 USD\n",
      "Original salary_in_usd: 92350.00 USD, Predicted salary_in_usd: 81588.28 USD\n",
      "Original salary_in_usd: 110000.00 USD, Predicted salary_in_usd: 123414.48 USD\n",
      "Original salary_in_usd: 127000.00 USD, Predicted salary_in_usd: 122612.97 USD\n",
      "Original salary_in_usd: 140250.00 USD, Predicted salary_in_usd: 143598.89 USD\n",
      "Original salary_in_usd: 300000.00 USD, Predicted salary_in_usd: 157279.59 USD\n",
      "Original salary_in_usd: 50000.00 USD, Predicted salary_in_usd: 18923.45 USD\n",
      "Original salary_in_usd: 160000.00 USD, Predicted salary_in_usd: 168471.19 USD\n",
      "Original salary_in_usd: 128000.00 USD, Predicted salary_in_usd: 110801.25 USD\n",
      "Original salary_in_usd: 141525.00 USD, Predicted salary_in_usd: 156706.64 USD\n",
      "Original salary_in_usd: 37824.00 USD, Predicted salary_in_usd: 49306.05 USD\n",
      "Original salary_in_usd: 216000.00 USD, Predicted salary_in_usd: 157387.39 USD\n",
      "Original salary_in_usd: 245100.00 USD, Predicted salary_in_usd: 231778.53 USD\n",
      "Original salary_in_usd: 85000.00 USD, Predicted salary_in_usd: 131708.41 USD\n",
      "Original salary_in_usd: 166000.00 USD, Predicted salary_in_usd: 167295.86 USD\n",
      "Original salary_in_usd: 135000.00 USD, Predicted salary_in_usd: 169912.58 USD\n",
      "Original salary_in_usd: 107309.00 USD, Predicted salary_in_usd: 135934.48 USD\n",
      "Original salary_in_usd: 293000.00 USD, Predicted salary_in_usd: 167463.91 USD\n",
      "Original salary_in_usd: 112900.00 USD, Predicted salary_in_usd: 115251.27 USD\n",
      "Original salary_in_usd: 165000.00 USD, Predicted salary_in_usd: 168471.19 USD\n",
      "Original salary_in_usd: 60000.00 USD, Predicted salary_in_usd: 77450.84 USD\n",
      "Original salary_in_usd: 140000.00 USD, Predicted salary_in_usd: 141939.05 USD\n",
      "Original salary_in_usd: 37558.00 USD, Predicted salary_in_usd: 73866.79 USD\n",
      "Original salary_in_usd: 120000.00 USD, Predicted salary_in_usd: 129905.02 USD\n",
      "Original salary_in_usd: 160000.00 USD, Predicted salary_in_usd: 110369.31 USD\n",
      "Original salary_in_usd: 97750.00 USD, Predicted salary_in_usd: 129007.91 USD\n",
      "Original salary_in_usd: 175000.00 USD, Predicted salary_in_usd: 167295.86 USD\n",
      "Original salary_in_usd: 135000.00 USD, Predicted salary_in_usd: 134983.48 USD\n",
      "Original salary_in_usd: 200000.00 USD, Predicted salary_in_usd: 155847.97 USD\n",
      "Original salary_in_usd: 99100.00 USD, Predicted salary_in_usd: 149095.48 USD\n",
      "Original salary_in_usd: 100000.00 USD, Predicted salary_in_usd: 110801.25 USD\n",
      "Original salary_in_usd: 135000.00 USD, Predicted salary_in_usd: 120390.71 USD\n",
      "Original salary_in_usd: 170000.00 USD, Predicted salary_in_usd: 176947.53 USD\n",
      "Original salary_in_usd: 60000.00 USD, Predicted salary_in_usd: 70988.50 USD\n",
      "Original salary_in_usd: 210000.00 USD, Predicted salary_in_usd: 158123.00 USD\n",
      "Original salary_in_usd: 110000.00 USD, Predicted salary_in_usd: 115251.27 USD\n",
      "Original salary_in_usd: 69741.00 USD, Predicted salary_in_usd: 30713.48 USD\n",
      "Original salary_in_usd: 120250.00 USD, Predicted salary_in_usd: 151476.20 USD\n",
      "Original salary_in_usd: 139860.00 USD, Predicted salary_in_usd: 149095.48 USD\n",
      "Original salary_in_usd: 27317.00 USD, Predicted salary_in_usd: 21500.57 USD\n",
      "Original salary_in_usd: 81666.00 USD, Predicted salary_in_usd: 124826.28 USD\n",
      "Original salary_in_usd: 127075.00 USD, Predicted salary_in_usd: 124826.28 USD\n",
      "Original salary_in_usd: 175000.00 USD, Predicted salary_in_usd: 181593.17 USD\n",
      "Original salary_in_usd: 120000.00 USD, Predicted salary_in_usd: 156706.64 USD\n",
      "Original salary_in_usd: 90000.00 USD, Predicted salary_in_usd: 107358.30 USD\n",
      "Original salary_in_usd: 113000.00 USD, Predicted salary_in_usd: 176306.14 USD\n",
      "Original salary_in_usd: 262500.00 USD, Predicted salary_in_usd: 198663.83 USD\n",
      "Original salary_in_usd: 130000.00 USD, Predicted salary_in_usd: 149095.48 USD\n",
      "Original salary_in_usd: 45050.00 USD, Predicted salary_in_usd: 70061.36 USD\n",
      "Original salary_in_usd: 146000.00 USD, Predicted salary_in_usd: 157279.59 USD\n",
      "Original salary_in_usd: 150000.00 USD, Predicted salary_in_usd: 157387.39 USD\n",
      "Original salary_in_usd: 122000.00 USD, Predicted salary_in_usd: 168471.19 USD\n",
      "Original salary_in_usd: 172200.00 USD, Predicted salary_in_usd: 168938.28 USD\n",
      "Original salary_in_usd: 109400.00 USD, Predicted salary_in_usd: 168938.28 USD\n",
      "Original salary_in_usd: 92350.00 USD, Predicted salary_in_usd: 117047.70 USD\n",
      "Original salary_in_usd: 75000.00 USD, Predicted salary_in_usd: 103131.96 USD\n",
      "Original salary_in_usd: 174500.00 USD, Predicted salary_in_usd: 155382.62 USD\n",
      "Original salary_in_usd: 85500.00 USD, Predicted salary_in_usd: 129905.02 USD\n",
      "Original salary_in_usd: 275300.00 USD, Predicted salary_in_usd: 176947.53 USD\n",
      "Original salary_in_usd: 153600.00 USD, Predicted salary_in_usd: 129905.02 USD\n",
      "Original salary_in_usd: 150000.00 USD, Predicted salary_in_usd: 117697.06 USD\n",
      "Original salary_in_usd: 61800.00 USD, Predicted salary_in_usd: 89215.89 USD\n",
      "Original salary_in_usd: 136000.00 USD, Predicted salary_in_usd: 198663.83 USD\n",
      "Original salary_in_usd: 100000.00 USD, Predicted salary_in_usd: 94761.56 USD\n",
      "Original salary_in_usd: 68318.00 USD, Predicted salary_in_usd: 129013.55 USD\n",
      "Original salary_in_usd: 117000.00 USD, Predicted salary_in_usd: 149095.48 USD\n",
      "Original salary_in_usd: 100000.00 USD, Predicted salary_in_usd: 132564.94 USD\n",
      "Original salary_in_usd: 214000.00 USD, Predicted salary_in_usd: 184030.03 USD\n",
      "Original salary_in_usd: 85066.00 USD, Predicted salary_in_usd: 79459.05 USD\n",
      "Original salary_in_usd: 276000.00 USD, Predicted salary_in_usd: 183871.88 USD\n",
      "Original salary_in_usd: 132320.00 USD, Predicted salary_in_usd: 157387.39 USD\n",
      "Original salary_in_usd: 94665.00 USD, Predicted salary_in_usd: 80497.21 USD\n",
      "Original salary_in_usd: 125000.00 USD, Predicted salary_in_usd: 129905.02 USD\n",
      "Original salary_in_usd: 110000.00 USD, Predicted salary_in_usd: 157279.59 USD\n",
      "Original salary_in_usd: 150000.00 USD, Predicted salary_in_usd: 155847.97 USD\n",
      "Original salary_in_usd: 38631.00 USD, Predicted salary_in_usd: 61517.85 USD\n",
      "Original salary_in_usd: 125000.00 USD, Predicted salary_in_usd: 129905.02 USD\n",
      "Original salary_in_usd: 141525.00 USD, Predicted salary_in_usd: 158123.00 USD\n",
      "Original salary_in_usd: 141288.00 USD, Predicted salary_in_usd: 186064.05 USD\n",
      "Original salary_in_usd: 78990.00 USD, Predicted salary_in_usd: 79459.05 USD\n",
      "Original salary_in_usd: 190000.00 USD, Predicted salary_in_usd: 143598.89 USD\n",
      "Original salary_in_usd: 59102.00 USD, Predicted salary_in_usd: 42192.58 USD\n",
      "Original salary_in_usd: 125000.00 USD, Predicted salary_in_usd: 137138.48 USD\n",
      "Original salary_in_usd: 109280.00 USD, Predicted salary_in_usd: 133537.62 USD\n",
      "Original salary_in_usd: 143000.00 USD, Predicted salary_in_usd: 110801.25 USD\n",
      "Original salary_in_usd: 190000.00 USD, Predicted salary_in_usd: 167121.77 USD\n",
      "Original salary_in_usd: 276000.00 USD, Predicted salary_in_usd: 168938.28 USD\n",
      "Original salary_in_usd: 85847.00 USD, Predicted salary_in_usd: 99562.02 USD\n",
      "Original salary_in_usd: 70000.00 USD, Predicted salary_in_usd: 215101.48 USD\n",
      "Original salary_in_usd: 80000.00 USD, Predicted salary_in_usd: 108643.88 USD\n",
      "Original salary_in_usd: 260000.00 USD, Predicted salary_in_usd: 106664.28 USD\n",
      "Original salary_in_usd: 95000.00 USD, Predicted salary_in_usd: 124466.10 USD\n",
      "Original salary_in_usd: 38631.00 USD, Predicted salary_in_usd: 77126.14 USD\n",
      "Original salary_in_usd: 153600.00 USD, Predicted salary_in_usd: 157279.59 USD\n",
      "Original salary_in_usd: 190000.00 USD, Predicted salary_in_usd: 168994.48 USD\n",
      "Original salary_in_usd: 203500.00 USD, Predicted salary_in_usd: 156706.64 USD\n",
      "Original salary_in_usd: 106500.00 USD, Predicted salary_in_usd: 181593.17 USD\n",
      "Original salary_in_usd: 49253.00 USD, Predicted salary_in_usd: 91030.67 USD\n",
      "Original salary_in_usd: 100000.00 USD, Predicted salary_in_usd: 64615.59 USD\n",
      "Original salary_in_usd: 213120.00 USD, Predicted salary_in_usd: 165965.48 USD\n",
      "Original salary_in_usd: 200000.00 USD, Predicted salary_in_usd: 186064.05 USD\n",
      "Original salary_in_usd: 90000.00 USD, Predicted salary_in_usd: 157279.59 USD\n",
      "Original salary_in_usd: 200000.00 USD, Predicted salary_in_usd: 186064.05 USD\n",
      "Original salary_in_usd: 54685.00 USD, Predicted salary_in_usd: 47627.17 USD\n",
      "Original salary_in_usd: 130000.00 USD, Predicted salary_in_usd: 214135.25 USD\n",
      "Original salary_in_usd: 35093.00 USD, Predicted salary_in_usd: 40407.98 USD\n",
      "Original salary_in_usd: 141846.00 USD, Predicted salary_in_usd: 161398.64 USD\n",
      "Original salary_in_usd: 249500.00 USD, Predicted salary_in_usd: 156706.64 USD\n",
      "Original salary_in_usd: 108000.00 USD, Predicted salary_in_usd: 110073.45 USD\n",
      "Original salary_in_usd: 33000.00 USD, Predicted salary_in_usd: 46436.40 USD\n",
      "Original salary_in_usd: 126000.00 USD, Predicted salary_in_usd: 157279.59 USD\n",
      "Original salary_in_usd: 147100.00 USD, Predicted salary_in_usd: 157279.59 USD\n",
      "Original salary_in_usd: 115000.00 USD, Predicted salary_in_usd: 99248.27 USD\n",
      "Original salary_in_usd: 145000.00 USD, Predicted salary_in_usd: 176947.53 USD\n",
      "Original salary_in_usd: 65000.00 USD, Predicted salary_in_usd: 121368.13 USD\n",
      "Original salary_in_usd: 17022.01 USD, Predicted salary_in_usd: 31706.21 USD\n",
      "Original salary_in_usd: 100000.00 USD, Predicted salary_in_usd: 149095.48 USD\n",
      "Original salary_in_usd: 125000.00 USD, Predicted salary_in_usd: 110369.31 USD\n",
      "Original salary_in_usd: 191475.00 USD, Predicted salary_in_usd: 158123.00 USD\n",
      "Original salary_in_usd: 225000.00 USD, Predicted salary_in_usd: 156706.64 USD\n",
      "Original salary_in_usd: 90000.00 USD, Predicted salary_in_usd: 127631.84 USD\n",
      "Original salary_in_usd: 95000.00 USD, Predicted salary_in_usd: 149095.48 USD\n",
      "Original salary_in_usd: 60000.00 USD, Predicted salary_in_usd: 129905.02 USD\n",
      "Original salary_in_usd: 75000.00 USD, Predicted salary_in_usd: 76967.68 USD\n",
      "Original salary_in_usd: 182500.00 USD, Predicted salary_in_usd: 110801.25 USD\n",
      "Original salary_in_usd: 85000.00 USD, Predicted salary_in_usd: 76967.68 USD\n",
      "Original salary_in_usd: 120000.00 USD, Predicted salary_in_usd: 154505.45 USD\n",
      "Original salary_in_usd: 200000.00 USD, Predicted salary_in_usd: 203063.17 USD\n",
      "Original salary_in_usd: 72946.00 USD, Predicted salary_in_usd: 66592.52 USD\n",
      "Original salary_in_usd: 140700.00 USD, Predicted salary_in_usd: 156706.64 USD\n",
      "Original salary_in_usd: 135000.00 USD, Predicted salary_in_usd: 123267.03 USD\n",
      "Original salary_in_usd: 60000.00 USD, Predicted salary_in_usd: 76967.68 USD\n",
      "Original salary_in_usd: 130000.00 USD, Predicted salary_in_usd: 80303.24 USD\n",
      "Original salary_in_usd: 200000.00 USD, Predicted salary_in_usd: 133149.05 USD\n",
      "Original salary_in_usd: 198800.00 USD, Predicted salary_in_usd: 156706.64 USD\n",
      "Original salary_in_usd: 125000.00 USD, Predicted salary_in_usd: 103434.88 USD\n",
      "Original salary_in_usd: 100000.00 USD, Predicted salary_in_usd: 139648.06 USD\n",
      "Original salary_in_usd: 236000.00 USD, Predicted salary_in_usd: 253791.95 USD\n",
      "Original salary_in_usd: 106800.00 USD, Predicted salary_in_usd: 167295.86 USD\n",
      "Original salary_in_usd: 135000.00 USD, Predicted salary_in_usd: 176947.53 USD\n",
      "Original salary_in_usd: 121700.00 USD, Predicted salary_in_usd: 129905.02 USD\n",
      "Original salary_in_usd: 82920.00 USD, Predicted salary_in_usd: 129007.91 USD\n",
      "Original salary_in_usd: 100000.00 USD, Predicted salary_in_usd: 131708.41 USD\n",
      "Original salary_in_usd: 178750.00 USD, Predicted salary_in_usd: 149095.48 USD\n",
      "Original salary_in_usd: 61566.00 USD, Predicted salary_in_usd: 97629.12 USD\n",
      "Original salary_in_usd: 109000.00 USD, Predicted salary_in_usd: 124059.15 USD\n",
      "Original salary_in_usd: 134236.00 USD, Predicted salary_in_usd: 231778.53 USD\n",
      "Original salary_in_usd: 113476.00 USD, Predicted salary_in_usd: 68907.52 USD\n",
      "Original salary_in_usd: 247500.00 USD, Predicted salary_in_usd: 168938.28 USD\n",
      "Original salary_in_usd: 104000.00 USD, Predicted salary_in_usd: 176947.53 USD\n",
      "Original salary_in_usd: 70000.00 USD, Predicted salary_in_usd: 168471.19 USD\n",
      "Original salary_in_usd: 131300.00 USD, Predicted salary_in_usd: 182513.77 USD\n",
      "Original salary_in_usd: 180000.00 USD, Predicted salary_in_usd: 156706.64 USD\n",
      "Original salary_in_usd: 61566.00 USD, Predicted salary_in_usd: 89630.95 USD\n",
      "Original salary_in_usd: 75648.00 USD, Predicted salary_in_usd: 65344.10 USD\n",
      "Original salary_in_usd: 116450.00 USD, Predicted salary_in_usd: 176068.61 USD\n",
      "Original salary_in_usd: 256000.00 USD, Predicted salary_in_usd: 145408.25 USD\n",
      "Original salary_in_usd: 299500.00 USD, Predicted salary_in_usd: 231778.53 USD\n",
      "Original salary_in_usd: 135000.00 USD, Predicted salary_in_usd: 136453.22 USD\n",
      "Original salary_in_usd: 135000.00 USD, Predicted salary_in_usd: 157387.39 USD\n",
      "Original salary_in_usd: 46759.00 USD, Predicted salary_in_usd: 80420.28 USD\n",
      "Original salary_in_usd: 208049.00 USD, Predicted salary_in_usd: 129905.02 USD\n",
      "Original salary_in_usd: 250000.00 USD, Predicted salary_in_usd: 167295.86 USD\n",
      "Original salary_in_usd: 150000.00 USD, Predicted salary_in_usd: 110801.25 USD\n",
      "Original salary_in_usd: 237000.00 USD, Predicted salary_in_usd: 176947.53 USD\n",
      "Original salary_in_usd: 105000.00 USD, Predicted salary_in_usd: 122612.97 USD\n",
      "Original salary_in_usd: 141525.00 USD, Predicted salary_in_usd: 158123.00 USD\n",
      "Original salary_in_usd: 58000.00 USD, Predicted salary_in_usd: 89215.89 USD\n",
      "Original salary_in_usd: 36773.00 USD, Predicted salary_in_usd: 46120.20 USD\n",
      "Original salary_in_usd: 39925.00 USD, Predicted salary_in_usd: 46120.20 USD\n",
      "Average relative error: 0.18\n"
     ]
    }
   ],
   "source": [
    "# Set the model to evaluation mode\n",
    "model.eval()\n",
    "\n",
    "# Make predictions\n",
    "with torch.no_grad():\n",
    "    predictions = model(X_test_tensor)\n",
    "\n",
    "# Inverse transform the predicted and original salary_in_usd\n",
    "predicted_salaries = y_scaler.inverse_transform(predictions.numpy())\n",
    "original_salaries = y_scaler.inverse_transform(y_test_tensor.numpy())\n",
    "\n",
    "\n",
    "# Print the original and predicted salaries\n",
    "relative_error = []\n",
    "for i in range(len(predicted_salaries)):\n",
    "    print(f\"Original salary_in_usd: {original_salaries[i][0]:.2f} USD, Predicted salary_in_usd: {predicted_salaries[i][0]:.2f} USD\")\n",
    "    relative_error.append((predicted_salaries[i][0] - original_salaries[i][0]) / original_salaries[i][0])\n",
    "print(f\"Average relative error: {np.mean(relative_error):.2f}\")"
   ]
  },
  {
   "cell_type": "code",
   "execution_count": null,
   "metadata": {},
   "outputs": [],
   "source": []
  }
 ],
 "metadata": {
  "kernelspec": {
   "display_name": "aienv",
   "language": "python",
   "name": "python3"
  },
  "language_info": {
   "codemirror_mode": {
    "name": "ipython",
    "version": 3
   },
   "file_extension": ".py",
   "mimetype": "text/x-python",
   "name": "python",
   "nbconvert_exporter": "python",
   "pygments_lexer": "ipython3",
   "version": "3.8.18"
  }
 },
 "nbformat": 4,
 "nbformat_minor": 2
}
